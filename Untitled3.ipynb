{
 "cells": [
  {
   "cell_type": "code",
   "execution_count": 2,
   "id": "6c024209",
   "metadata": {},
   "outputs": [
    {
     "ename": "Terminator",
     "evalue": "",
     "output_type": "error",
     "traceback": [
      "\u001b[1;31m---------------------------------------------------------------------------\u001b[0m",
      "\u001b[1;31mTerminator\u001b[0m                                Traceback (most recent call last)",
      "Input \u001b[1;32mIn [2]\u001b[0m, in \u001b[0;36m<cell line: 51>\u001b[1;34m()\u001b[0m\n\u001b[0;32m     47\u001b[0m     update()\n\u001b[0;32m     48\u001b[0m     ontimer(move, \u001b[38;5;241m100\u001b[39m)\n\u001b[1;32m---> 51\u001b[0m \u001b[43msetup\u001b[49m\u001b[43m(\u001b[49m\u001b[38;5;241;43m420\u001b[39;49m\u001b[43m,\u001b[49m\u001b[43m \u001b[49m\u001b[38;5;241;43m420\u001b[39;49m\u001b[43m,\u001b[49m\u001b[43m \u001b[49m\u001b[38;5;241;43m370\u001b[39;49m\u001b[43m,\u001b[49m\u001b[43m \u001b[49m\u001b[38;5;241;43m0\u001b[39;49m\u001b[43m)\u001b[49m\n\u001b[0;32m     52\u001b[0m hideturtle()\n\u001b[0;32m     53\u001b[0m tracer(\u001b[38;5;28;01mFalse\u001b[39;00m)\n",
      "File \u001b[1;32m<string>:5\u001b[0m, in \u001b[0;36msetup\u001b[1;34m(width, height, startx, starty)\u001b[0m\n",
      "\u001b[1;31mTerminator\u001b[0m: "
     ]
    }
   ],
   "source": [
    "from random import randrange\n",
    "from turtle import *\n",
    "\n",
    "from freegames import square, vector\n",
    "\n",
    "food = vector(0, 0)\n",
    "snake = [vector(10, 0)]\n",
    "aim = vector(0, -10)\n",
    "\n",
    "\n",
    "def change(x, y):\n",
    "    \"\"\"Change snake direction.\"\"\"\n",
    "    aim.x = x\n",
    "    aim.y = y\n",
    "\n",
    "\n",
    "def inside(head):\n",
    "    \"\"\"Return True if head inside boundaries.\"\"\"\n",
    "    return -200 < head.x < 190 and -200 < head.y < 190\n",
    "\n",
    "\n",
    "def move():\n",
    "    \"\"\"Move snake forward one segment.\"\"\"\n",
    "    head = snake[-1].copy()\n",
    "    head.move(aim)\n",
    "\n",
    "    if not inside(head) or head in snake:\n",
    "        square(head.x, head.y, 9, 'red')\n",
    "        update()\n",
    "        return\n",
    "\n",
    "    snake.append(head)\n",
    "\n",
    "    if head == food:\n",
    "        print('Snake:', len(snake))\n",
    "        food.x = randrange(-15, 15) * 10\n",
    "        food.y = randrange(-15, 15) * 10\n",
    "    else:\n",
    "        snake.pop(0)\n",
    "\n",
    "    clear()\n",
    "\n",
    "    for body in snake:\n",
    "        square(body.x, body.y, 9, 'black')\n",
    "\n",
    "    square(food.x, food.y, 9, 'green')\n",
    "    update()\n",
    "    ontimer(move, 100)\n",
    "\n",
    "\n",
    "setup(420, 420, 370, 0)\n",
    "hideturtle()\n",
    "tracer(False)\n",
    "listen()\n",
    "onkey(lambda: change(10, 0), 'Right')\n",
    "onkey(lambda: change(-10, 0), 'Left')\n",
    "onkey(lambda: change(0, 10), 'Up')\n",
    "onkey(lambda: change(0, -10), 'Down')\n",
    "move()\n",
    "done()"
   ]
  },
  {
   "cell_type": "code",
   "execution_count": null,
   "id": "84545eec",
   "metadata": {},
   "outputs": [],
   "source": []
  }
 ],
 "metadata": {
  "hide_input": false,
  "kernelspec": {
   "display_name": "Python 3 (ipykernel)",
   "language": "python",
   "name": "python3"
  },
  "language_info": {
   "codemirror_mode": {
    "name": "ipython",
    "version": 3
   },
   "file_extension": ".py",
   "mimetype": "text/x-python",
   "name": "python",
   "nbconvert_exporter": "python",
   "pygments_lexer": "ipython3",
   "version": "3.9.12"
  }
 },
 "nbformat": 4,
 "nbformat_minor": 5
}
