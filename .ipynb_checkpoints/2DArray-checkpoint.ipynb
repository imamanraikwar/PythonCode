{
 "cells": [
  {
   "cell_type": "code",
   "execution_count": 2,
   "id": "17e08733",
   "metadata": {},
   "outputs": [
    {
     "name": "stdout",
     "output_type": "stream",
     "text": [
      "1\n",
      "2 3\n",
      "1 2 3\n",
      "4 5 6\n",
      "[[1, 2, 3], [4, 5, 6]]\n"
     ]
    }
   ],
   "source": [
    "def rowwisesum(mat,n_row,n_col):\n",
    "    pass\n",
    "    \n",
    "    \n",
    "\n",
    "def takeInput():\n",
    "    li = [int(x) for x in input().split()]\n",
    "    n_row = li[0]\n",
    "    n_col = li[1]\n",
    "    \n",
    "    if n_row==0:\n",
    "        return list(), 0 , 0\n",
    "    mat =  [ [int(j) for j in input().split()] for i in range(int(n_row))]\n",
    "    \n",
    "    return mat,n_row,n_col\n",
    "\n",
    "t = int(input())\n",
    "while t > 0:\n",
    "    mat,n_row, n_col = takeInput()\n",
    "    print(mat)\n",
    "    t=t-1"
   ]
  },
  {
   "cell_type": "code",
   "execution_count": 2,
   "id": "b07ed10b",
   "metadata": {},
   "outputs": [
    {
     "ename": "NameError",
     "evalue": "name 'arr' is not defined",
     "output_type": "error",
     "traceback": [
      "\u001b[0;31m---------------------------------------------------------------------------\u001b[0m",
      "\u001b[0;31mNameError\u001b[0m                                 Traceback (most recent call last)",
      "Cell \u001b[0;32mIn [2], line 1\u001b[0m\n\u001b[0;32m----> 1\u001b[0m temp \u001b[38;5;241m=\u001b[39m \u001b[43marr\u001b[49m[index1\u001b[38;5;241m+\u001b[39m\u001b[38;5;241m1\u001b[39m]\n\u001b[1;32m      2\u001b[0m \u001b[38;5;28mprint\u001b[39m(num,end\u001b[38;5;241m=\u001b[39m\u001b[38;5;124m'\u001b[39m\u001b[38;5;124m \u001b[39m\u001b[38;5;124m'\u001b[39m)\n\u001b[1;32m      3\u001b[0m index2 \u001b[38;5;241m=\u001b[39m index1\u001b[38;5;241m+\u001b[39m\u001b[38;5;241m1\u001b[39m\n",
      "\u001b[0;31mNameError\u001b[0m: name 'arr' is not defined"
     ]
    }
   ],
   "source": [
    "temp = arr[index1+1]\n",
    "print(num,end=' ')\n",
    "index2 = index1+1\n",
    "for i in range(index1+1,n-1):\n",
    "    if arr[i] < arr[i+1]:\n",
    "        index2 = i+1\n",
    "for i in range(index2,n):\n",
    "    print(arr[i],end=' ')\n",
    "            "
   ]
  },
  {
   "cell_type": "code",
   "execution_count": null,
   "id": "08bbf5f8",
   "metadata": {},
   "outputs": [],
   "source": []
  }
 ],
 "metadata": {
  "kernelspec": {
   "display_name": "Python 3 (ipykernel)",
   "language": "python",
   "name": "python3"
  },
  "language_info": {
   "codemirror_mode": {
    "name": "ipython",
    "version": 3
   },
   "file_extension": ".py",
   "mimetype": "text/x-python",
   "name": "python",
   "nbconvert_exporter": "python",
   "pygments_lexer": "ipython3",
   "version": "3.10.8"
  }
 },
 "nbformat": 4,
 "nbformat_minor": 5
}
