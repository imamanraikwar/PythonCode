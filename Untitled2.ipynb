{
 "cells": [
  {
   "cell_type": "code",
   "execution_count": 2,
   "id": "5237acd3",
   "metadata": {},
   "outputs": [
    {
     "name": "stderr",
     "output_type": "stream",
     "text": [
      "\n",
      "KeyboardInterrupt\n",
      "\n"
     ]
    }
   ],
   "source": [
    "import pyautogui\n",
    "import time \n",
    "time.sleep(5)\n",
    "count = 0\n",
    "temp = 0\n",
    "while count <= 1000 :\n",
    "    pyautogui.typewrite(\"I love you too bauwaa\")\n",
    "    pyautogui.press('enter')\n",
    "    count += 1\n",
    "    temp +=1\n",
    "    #time.sleep(1) Bro"
   ]
  },
  {
   "cell_type": "code",
   "execution_count": null,
   "id": "c2cb95b8",
   "metadata": {},
   "outputs": [],
   "source": [
    "I love you too bauwaa\n",
    "I love you too bauwaa\n",
    "I love you too bauwaa\n",
    "I love you too bauwaa\n",
    "I love you too bauwaa\n",
    "I love you too bauwaa\n",
    "I love you too bauwaa\n",
    "I love you too bauwaa\n",
    "I love you too bauwaa\n",
    "I love you too bauwaa\n",
    "I love you too bauwaa\n",
    "I love you too bauwaaI love you too bauwaaI"
   ]
  },
  {
   "cell_type": "code",
   "execution_count": null,
   "id": "c3419106",
   "metadata": {},
   "outputs": [],
   "source": []
  },
  {
   "cell_type": "code",
   "execution_count": null,
   "id": "6885dd0d",
   "metadata": {},
   "outputs": [],
   "source": []
  }
 ],
 "metadata": {
  "hide_input": false,
  "kernelspec": {
   "display_name": "Python 3 (ipykernel)",
   "language": "python",
   "name": "python3"
  },
  "language_info": {
   "codemirror_mode": {
    "name": "ipython",
    "version": 3
   },
   "file_extension": ".py",
   "mimetype": "text/x-python",
   "name": "python",
   "nbconvert_exporter": "python",
   "pygments_lexer": "ipython3",
   "version": "3.9.12"
  }
 },
 "nbformat": 4,
 "nbformat_minor": 5
}
