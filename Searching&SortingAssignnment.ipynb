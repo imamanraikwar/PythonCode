{
 "cells": [
  {
   "cell_type": "code",
   "execution_count": 10,
   "id": "41f8fda0",
   "metadata": {},
   "outputs": [
    {
     "name": "stdout",
     "output_type": "stream",
     "text": [
      "1\n",
      "7\n",
      "6\n",
      "5\n",
      "4\n",
      "3\n",
      "2\n",
      "1\n"
     ]
    },
    {
     "data": {
      "text/plain": [
       "7"
      ]
     },
     "execution_count": 10,
     "metadata": {},
     "output_type": "execute_result"
    }
   ],
   "source": [
    "arr = [1,2,3,4,5,6,7]\n",
    "for i in range(len(arr)+1):\n",
    "    print(arr[-i])\n",
    "arr[-1]"
   ]
  },
  {
   "cell_type": "raw",
   "id": "9c30ce0f",
   "metadata": {},
   "source": [
    "Input\n",
    "2\n",
    "5\n",
    "0 3 0 2 0\n",
    "5\n",
    "9 0 0 8 2\n",
    "Output\n",
    "3 2 0 0 0\n",
    "9 8 2 0 0 "
   ]
  },
  {
   "cell_type": "code",
   "execution_count": null,
   "id": "fa6ac306",
   "metadata": {},
   "outputs": [],
   "source": [
    "def pushZerosAtEnd(arr, n) :\n",
    "    term=arr.count(0)\n",
    "    \n",
    "    for i in range(n):\n",
    "        \n",
    "        \n",
    "                "
   ]
  },
  {
   "cell_type": "raw",
   "id": "a7d94c7d",
   "metadata": {},
   "source": [
    "Input\n",
    "2\n",
    "7\n",
    "1 2 3 4 5 6 7\n",
    "0\n",
    "4\n",
    "1 2 3 4\n",
    "2\n",
    "\n",
    "Output\n",
    "1 2 3 4 5 6 7\n",
    "3 4 1 2"
   ]
  },
  {
   "cell_type": "code",
   "execution_count": 83,
   "id": "08b15545",
   "metadata": {},
   "outputs": [
    {
     "name": "stdout",
     "output_type": "stream",
     "text": [
      "1\n",
      "[3, 4, 5, 6, 7, 1, 2]\n"
     ]
    }
   ],
   "source": [
    "def rotate(arr,d):\n",
    "    n=len(arr)\n",
    "    #Your code goes here\n",
    "    flag = False\n",
    "    for i in range (n):\n",
    "        if arr[i]==d:\n",
    "            flag= True\n",
    "            break\n",
    "    if flag :\n",
    "        arr1 = []\n",
    "        n=len(arr)\n",
    "        index_d = arr.index(d)\n",
    "        print(index_d)\n",
    "\n",
    "        for i in range(index_d+1):\n",
    "            arr1.append(arr[i])\n",
    "        i=0    \n",
    "        while len(arr)>n-index_d-1:\n",
    "            arr.pop(i)\n",
    "\n",
    "        arr.extend(arr1)\n",
    "\n",
    "        return arr   \n",
    "    else: \n",
    "        return arr\n",
    "    \n",
    "arr = [1, 2, 3, 4, 5, 6, 7] \n",
    "arr2 = rotate(arr,2)\n",
    "print(arr2)"
   ]
  },
  {
   "cell_type": "code",
   "execution_count": 106,
   "id": "1da378d8",
   "metadata": {},
   "outputs": [
    {
     "name": "stdout",
     "output_type": "stream",
     "text": [
      "[7, 1, 2, 3, 4, 5, 6]\n"
     ]
    }
   ],
   "source": [
    "def re(arr,d,n):\n",
    "    #print(arr)\n",
    "    \n",
    "    a = []\n",
    "    j=0\n",
    "    for i in range(n):\n",
    "        if arr[j]!=d:\n",
    "            a.append(arr[j])\n",
    "            arr.pop(j)\n",
    "        else :\n",
    "            a.append(arr[j])\n",
    "            arr.pop(j)\n",
    "            break\n",
    "    arr.extend(a)\n",
    "    return arr\n",
    "    \n",
    "\n",
    "arr= [1,2,3,4,5,6,7]    \n",
    "print(re(arr,6,7))"
   ]
  },
  {
   "cell_type": "code",
   "execution_count": 117,
   "id": "d741b805",
   "metadata": {},
   "outputs": [
    {
     "name": "stdout",
     "output_type": "stream",
     "text": [
      "[3, 4, 1, 2]\n"
     ]
    }
   ],
   "source": [
    "def rev(arr,d,n):\n",
    "    a=[]\n",
    "    flag = False\n",
    "    for i in range(n) :\n",
    "        if arr[i]==d:\n",
    "            for j in range(n-i):\n",
    "                arr.insert(j,arr[i+1])\n",
    "                arr.pop(i+1)\n",
    "            i=n-1            \n",
    "            \n",
    "        \n",
    "arr= [1,2,3,4]  \n",
    "print(re(arr,2,4))\n"
   ]
  },
  {
   "cell_type": "code",
   "execution_count": null,
   "id": "5dcb125f",
   "metadata": {},
   "outputs": [],
   "source": [
    "def rotate(arr, n, d):\n",
    "    #Your code goes here\n",
    "    #flag = False\n",
    "    i=0\n",
    "    l=0\n",
    "    while i<1 :\n",
    "        #print(\"In I function\",arr[i],end=' ')\n",
    "        if arr[0]!=d:\n",
    "            arr.insert(n,arr[0])\n",
    "            #print(arr[0])\n",
    "            arr.pop(0)\n",
    "            l=l+1\n",
    "            if l==n:\n",
    "                i=1\n",
    "            #    arr.insert(0,arr[n-1])\n",
    "                \n",
    "            #print(arr[0])\n",
    "        else :\n",
    "            arr.insert(n,arr[0])\n",
    "            arr.pop(0)\n",
    "            i=1\n",
    "    \t \n",
    " "
   ]
  },
  {
   "cell_type": "code",
   "execution_count": null,
   "id": "576cd38a",
   "metadata": {},
   "outputs": [],
   "source": [
    "i=0\n",
    "    l=0\n",
    "    while i<1 :\n",
    "        #print(\"In I function\",arr[i],end=' ')\n",
    "        if arr[0]!=d:\n",
    "            arr.insert(n,arr[0])\n",
    "            #print(arr[0])\n",
    "            arr.pop(0)\n",
    "            l=l+1\n",
    "            if l==n:\n",
    "                i=1\n",
    "            #    arr.insert(0,arr[n-1])\n",
    "                \n",
    "            #print(arr[0])\n",
    "        else :\n",
    "            arr.insert(n,arr[0])\n",
    "            arr.pop(0)\n",
    "            i=1\n",
    "    \t \n",
    " \n",
    "    "
   ]
  },
  {
   "cell_type": "code",
   "execution_count": 122,
   "id": "da584bb3",
   "metadata": {},
   "outputs": [
    {
     "name": "stdout",
     "output_type": "stream",
     "text": [
      "[99, 4, 10, 45, 20]\n",
      "[4, 10, 20, 45, 99]\n",
      "45\n"
     ]
    }
   ],
   "source": [
    "list1= [10, 20, 20, 4, 45, 45, 99, 99]\n",
    "list2=list(set(list1))\n",
    "print(list2)\n",
    "list2.sort()\n",
    "print(list2)\n",
    "print(list2[-2])"
   ]
  },
  {
   "cell_type": "code",
   "execution_count": 123,
   "id": "3b9eb5e8",
   "metadata": {},
   "outputs": [
    {
     "ename": "TypeError",
     "evalue": "'type' object cannot be interpreted as an integer",
     "output_type": "error",
     "traceback": [
      "\u001b[1;31m---------------------------------------------------------------------------\u001b[0m",
      "\u001b[1;31mTypeError\u001b[0m                                 Traceback (most recent call last)",
      "Input \u001b[1;32mIn [123]\u001b[0m, in \u001b[0;36m<cell line: 1>\u001b[1;34m()\u001b[0m\n\u001b[1;32m----> 1\u001b[0m \u001b[38;5;28mprint\u001b[39m(\u001b[38;5;28;43mrange\u001b[39;49m\u001b[43m(\u001b[49m\u001b[38;5;28;43mint\u001b[39;49m\u001b[43m)\u001b[49m)\n",
      "\u001b[1;31mTypeError\u001b[0m: 'type' object cannot be interpreted as an integer"
     ]
    }
   ],
   "source": [
    "print()"
   ]
  }
 ],
 "metadata": {
  "kernelspec": {
   "display_name": "Python 3 (ipykernel)",
   "language": "python",
   "name": "python3"
  },
  "language_info": {
   "codemirror_mode": {
    "name": "ipython",
    "version": 3
   },
   "file_extension": ".py",
   "mimetype": "text/x-python",
   "name": "python",
   "nbconvert_exporter": "python",
   "pygments_lexer": "ipython3",
   "version": "3.9.12"
  }
 },
 "nbformat": 4,
 "nbformat_minor": 5
}
