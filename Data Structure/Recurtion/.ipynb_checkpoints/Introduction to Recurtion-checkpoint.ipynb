{
 "cells": [
  {
   "cell_type": "code",
   "execution_count": 24,
   "id": "c47c0ca4-58df-4ab8-bcae-eb5e338332c1",
   "metadata": {},
   "outputs": [],
   "source": [
    "def fact(n):\n",
    "    if n==0:\n",
    "        return 1\n",
    "    return n * fact(n-1)"
   ]
  },
  {
   "cell_type": "code",
   "execution_count": 6,
   "id": "a7bb6daa-cce5-4b71-a6f4-972bd5ec0ad5",
   "metadata": {},
   "outputs": [
    {
     "name": "stdin",
     "output_type": "stream",
     "text": [
      " 5\n"
     ]
    },
    {
     "name": "stdout",
     "output_type": "stream",
     "text": [
      "upper n 5\n",
      "upper n 4\n",
      "upper n 3\n",
      "upper n 2\n",
      "small_output 1\n",
      "lower n 2\n",
      "output 2\n",
      "small_output 2\n",
      "lower n 3\n",
      "output 6\n",
      "small_output 6\n",
      "lower n 4\n",
      "output 24\n",
      "small_output 24\n",
      "lower n 5\n",
      "output 120\n",
      "120\n"
     ]
    }
   ],
   "source": [
    "def fact1(n):\n",
    "    if n==1:\n",
    "        return 1\n",
    "    print('upper n',n)\n",
    "    small_output = fact1(n-1)\n",
    "    print('small_output',small_output)\n",
    "    print('lower n',n)\n",
    "    #print('lower output',small_output)\n",
    "    output = small_output * n\n",
    "    print('output',output)\n",
    "    return output\n",
    "\n",
    "\n",
    "n = int(input())\n",
    "ans = fact1(n)\n",
    "print(ans)"
   ]
  },
  {
   "cell_type": "markdown",
   "id": "41b9e686-7873-4c74-bc15-818be3c61738",
   "metadata": {},
   "source": [
    "##### sum of n natural number- \n",
    "    sum n = n + sum (n-1)"
   ]
  },
  {
   "cell_type": "code",
   "execution_count": 9,
   "id": "3a43b050-0ee4-4493-bc41-f9870d05652c",
   "metadata": {},
   "outputs": [
    {
     "name": "stdin",
     "output_type": "stream",
     "text": [
      " 5\n"
     ]
    },
    {
     "name": "stdout",
     "output_type": "stream",
     "text": [
      "Sum of n Natural number 15\n"
     ]
    }
   ],
   "source": [
    "def sum_n(n):\n",
    "    if n==1:\n",
    "        return 1\n",
    "    smalloutput = sum_n(n-1)\n",
    "    output = n + smalloutput\n",
    "    return output\n",
    "\n",
    "n = int(input())\n",
    "#print('Factorial on n number',fact(n))\n",
    "print('Sum of n Natural number',sum_n(n))"
   ]
  },
  {
   "cell_type": "markdown",
   "id": "c3979f1e-9a5f-40a7-9a91-3925da9ea60e",
   "metadata": {
    "tags": []
   },
   "source": [
    " # calculate "
   ]
  },
  {
   "cell_type": "code",
   "execution_count": null,
   "id": "88b59291-ea44-4202-a80a-09742641cae3",
   "metadata": {},
   "outputs": [],
   "source": []
  },
  {
   "cell_type": "code",
   "execution_count": null,
   "id": "50de66a4-9be6-4efa-a7c6-4255088c6b64",
   "metadata": {},
   "outputs": [
    {
     "name": "stdin",
     "output_type": "stream",
     "text": [
      " 2 4\n"
     ]
    },
    {
     "name": "stdout",
     "output_type": "stream",
     "text": [
      "b is the power of a is :- 16\n"
     ]
    }
   ],
   "source": [
    "def power (a,b) :\n",
    "    if b == 0:\n",
    "        return 1\n",
    "    smalloutput = power(a , (b-1) )\n",
    "    return a * smalloutput\n",
    "a , b = input().split()\n",
    "#print(type(a))\n",
    "a = int(a)\n",
    "b = int(b)\n",
    "#a = int(l[0])\n",
    "#b = int(l[1])\n",
    "print('b is the power of a is :-',power(a,b))"
   ]
  },
  {
   "cell_type": "code",
   "execution_count": null,
   "id": "f7289cba-2f4d-4cb1-968d-97485cb6f685",
   "metadata": {},
   "outputs": [],
   "source": [
    "def func(num):\n",
    "    return func(num-1)\n",
    "num = 5\n",
    "ans = func(num-1)\n",
    "print(ans)"
   ]
  },
  {
   "cell_type": "markdown",
   "id": "b3194313-ba76-4f8d-9290-84c9d08d6b48",
   "metadata": {},
   "source": [
    "# Print 1 to n and n to n"
   ]
  },
  {
   "cell_type": "code",
   "execution_count": 26,
   "id": "83325a0c-3ef5-4575-9ad8-2d7e5c4ec239",
   "metadata": {},
   "outputs": [],
   "source": [
    "def print_1_n(n):\n",
    "    if n==1:\n",
    "        return 1\n",
    "    num = print_1_n(n-1)\n",
    "    print('one to N :', num)\n",
    "    return n"
   ]
  },
  {
   "cell_type": "code",
   "execution_count": 27,
   "id": "2ce3b05b-74f8-4b25-bf64-182bd7d8f3cf",
   "metadata": {},
   "outputs": [
    {
     "name": "stdin",
     "output_type": "stream",
     "text": [
      " 4\n"
     ]
    },
    {
     "name": "stdout",
     "output_type": "stream",
     "text": [
      "one to N : 1\n",
      "one to N : 2\n",
      "one to N : 3\n",
      "N to One : 4\n",
      "N to One : 3\n",
      "N to One : 2\n",
      "N to One : 1\n",
      "4\n",
      "4\n"
     ]
    }
   ],
   "source": [
    "def print_n_1(n):\n",
    "    if n==0:\n",
    "        return\n",
    "    print('N to One :',n)\n",
    "    print_n_1(n-1)\n",
    "    return n\n",
    "    #print(n)\n",
    "    \n",
    "n = int(input())\n",
    "\n",
    "ans1 = print_1_n(n)\n",
    "ans2 = print_n_1(n)\n",
    "print(ans1)\n",
    "print(ans2)"
   ]
  },
  {
   "cell_type": "markdown",
   "id": "4624e30f-3333-43b3-8f77-9b3e6a4c6056",
   "metadata": {},
   "source": [
    "## nth fabionic number"
   ]
  },
  {
   "cell_type": "code",
   "execution_count": 7,
   "id": "06ee8667-ab66-4ece-8d71-d9a1ce6bba2d",
   "metadata": {},
   "outputs": [],
   "source": [
    "def fac(n):\n",
    "    if n==1 or n==2:\n",
    "        return 1\n",
    "    fn_1 = fac(n-1)\n",
    "    fn_2 = fac(n-2)\n",
    "    output = fn_1 + fn_2\n",
    "    return output"
   ]
  },
  {
   "cell_type": "code",
   "execution_count": 12,
   "id": "7e7716c7-bf94-4b2b-b48f-4fe96a2b84b9",
   "metadata": {},
   "outputs": [
    {
     "name": "stdin",
     "output_type": "stream",
     "text": [
      " 5\n"
     ]
    },
    {
     "name": "stdout",
     "output_type": "stream",
     "text": [
      "5\n"
     ]
    }
   ],
   "source": [
    "n = int(input())\n",
    "ans = fac(n)\n",
    "print(ans)"
   ]
  },
  {
   "cell_type": "code",
   "execution_count": 39,
   "id": "f6011876-74e0-46eb-b6d9-b6115acda4b3",
   "metadata": {},
   "outputs": [
    {
     "name": "stdout",
     "output_type": "stream",
     "text": [
      "Upper 2\n",
      "Upper 3\n",
      "16\n"
     ]
    }
   ],
   "source": [
    "def fun(n):\n",
    "    if(n == 4):\n",
    "        return n\n",
    "    else:\n",
    "        print('Upper',n)\n",
    "        smalloutput = fun(n+1)\n",
    "        output = 2 * smalloutput\n",
    "        return output\n",
    "\n",
    "ans = fun(2)\n",
    "print(ans)"
   ]
  },
  {
   "cell_type": "markdown",
   "id": "cb051b47-cd60-49e3-ab81-9d4edf3ea9d0",
   "metadata": {},
   "source": [
    "## List is sorted or not"
   ]
  },
  {
   "cell_type": "code",
   "execution_count": 3,
   "id": "b03987f0-4c4f-45de-af98-12f889333e43",
   "metadata": {},
   "outputs": [
    {
     "name": "stdin",
     "output_type": "stream",
     "text": [
      "  1 2 3 4 8 7 6\n"
     ]
    },
    {
     "name": "stdout",
     "output_type": "stream",
     "text": [
      "False\n"
     ]
    }
   ],
   "source": [
    "def isSorted(a):\n",
    "    l = len(a)\n",
    "    if l==0 or l==1:\n",
    "        return True\n",
    "    \n",
    "    if a[0] > a[1]:\n",
    "        return False\n",
    "    \n",
    "    smalllist = a[1:]\n",
    "    issorted = isSorted(smalllist)\n",
    "    if issorted:\n",
    "        return True\n",
    "    else:\n",
    "        return False\n",
    "    \n",
    "    \n",
    "list = [int(x)  for x in input().split()]\n",
    "ans = isSorted(list)\n",
    "print(ans)\n",
    "    \n",
    "    "
   ]
  },
  {
   "cell_type": "markdown",
   "id": "f1578550-0537-4d2a-a453-7a4cc38600ae",
   "metadata": {},
   "source": [
    "## Find Index of X"
   ]
  },
  {
   "cell_type": "code",
   "execution_count": 30,
   "id": "13763e4c-cb60-4609-b87b-1ff8820c9ed2",
   "metadata": {},
   "outputs": [
    {
     "name": "stdin",
     "output_type": "stream",
     "text": [
      " 1\n",
      " 2\n"
     ]
    },
    {
     "name": "stdout",
     "output_type": "stream",
     "text": [
      "-1\n"
     ]
    }
   ],
   "source": [
    "#makin a copy of array\n",
    "def findIndex(arr,x,index):\n",
    "    l = len(arr)    \n",
    "    if arr[0] == x:        \n",
    "        return index\n",
    "    index = index + 1\n",
    "    if l > 1 :\n",
    "        return findIndex(arr[1:],x,index)\n",
    "    else :\n",
    "        return -1\n",
    "    \n",
    "list = [int(x) for x in input().split()]\n",
    "n = int(input())\n",
    "print(findIndex(list,n,0))\n",
    "        "
   ]
  },
  {
   "cell_type": "code",
   "execution_count": 37,
   "id": "6e5b7bd6-0657-4def-868a-17db2b0812c1",
   "metadata": {},
   "outputs": [
    {
     "name": "stdin",
     "output_type": "stream",
     "text": [
      " 1\n",
      " 2\n"
     ]
    },
    {
     "name": "stdout",
     "output_type": "stream",
     "text": [
      "-1\n"
     ]
    }
   ],
   "source": [
    "#without macking copy of array\n",
    "\n",
    "def findIndex1(arr,x,index):\n",
    "    l = len(arr)\n",
    "    if arr[index]==x:\n",
    "        return index\n",
    "    if index < l-1:\n",
    "        return findIndex1(arr,x,index+1)        \n",
    "    else :\n",
    "        return -1\n",
    "    \n",
    "list = [int(x) for x in input().split()]\n",
    "n = int(input())\n",
    "print(findIndex(list,n,0))        "
   ]
  },
  {
   "cell_type": "markdown",
   "id": "1720aa44-5006-47d1-a9ab-8f6cfa6ce7dc",
   "metadata": {},
   "source": [
    "## Replacing character in String"
   ]
  },
  {
   "cell_type": "code",
   "execution_count": 45,
   "id": "fb830e01-ba7a-4479-885e-f92cc9d1293a",
   "metadata": {},
   "outputs": [
    {
     "name": "stdout",
     "output_type": "stream",
     "text": [
      "cbccc\n"
     ]
    }
   ],
   "source": [
    "def replaceChar(s,a,b):\n",
    "    l = len(s)\n",
    "    if l==0:\n",
    "        return s\n",
    "    \n",
    "    smallString = replaceChar(s[1:],a,b)\n",
    "    if s[0] == a:\n",
    "        return b + smallString\n",
    "    else :\n",
    "        return s[0] + smallString\n",
    "    \n",
    "# Main Function\n",
    "print(replaceChar('abaca','a','c' ))"
   ]
  },
  {
   "cell_type": "markdown",
   "id": "cc163326-ffaf-43c3-83ba-3df01b281212",
   "metadata": {},
   "source": [
    "## Replace Pi"
   ]
  },
  {
   "cell_type": "code",
   "execution_count": 49,
   "id": "e8b09723-da3f-4d17-9304-1aaca7710eaa",
   "metadata": {},
   "outputs": [
    {
     "name": "stdout",
     "output_type": "stream",
     "text": [
      "3.14 3.14 p3.14 i3.14 \n"
     ]
    }
   ],
   "source": [
    "def replacePi(s):\n",
    "    if len(s) == 0 or len(s) == 1:\n",
    "        return s\n",
    "    if s[0] == 'p' and s[1] == 'i':\n",
    "        return '3.14 ' + replacePi(s[2:])\n",
    "    else :\n",
    "        return s[0] + replacePi(s[1:])\n",
    "    \n",
    "# main function\n",
    "\n",
    "print(replacePi('pipippiipi'))"
   ]
  },
  {
   "cell_type": "markdown",
   "id": "e7fc1e66-cfb5-4617-881f-b67b817c454f",
   "metadata": {},
   "source": [
    "## Binary Search Using Recurtion"
   ]
  },
  {
   "cell_type": "code",
   "execution_count": 7,
   "id": "9a7b9bc6-7c11-4699-9def-7d2343144298",
   "metadata": {},
   "outputs": [
    {
     "name": "stdout",
     "output_type": "stream",
     "text": [
      "4\n"
     ]
    }
   ],
   "source": [
    "def binarySearch(arr,x,start_index,end_index):\n",
    "    if start_index > end_index:\n",
    "        return -1\n",
    "    \n",
    "    mid_index = (start_index+end_index)//2\n",
    "    if arr[mid_index] == x:\n",
    "        return mid_index\n",
    "    elif arr[mid_index] > x:\n",
    "        return binarySearch(arr,x,start_index,mid_index-1)\n",
    "    else :\n",
    "        return binarySearch(arr,x,mid_index+1,end_index)\n",
    "        \n",
    "    \n",
    "#main function\n",
    "arr = [1,2,4,6,7,8,9,10]\n",
    "print(binarySearch(arr,7,0,7))"
   ]
  },
  {
   "cell_type": "markdown",
   "id": "96e75dd9-378c-447c-bcc6-03f56f682238",
   "metadata": {},
   "source": [
    "## Merge Sorted Array***"
   ]
  },
  {
   "cell_type": "code",
   "execution_count": null,
   "id": "89d25730-8759-4387-a223-eeaa194a1a14",
   "metadata": {},
   "outputs": [],
   "source": []
  },
  {
   "cell_type": "code",
   "execution_count": null,
   "id": "208f361d-28b3-4090-8aa1-19a7c3eecde8",
   "metadata": {},
   "outputs": [],
   "source": [
    "def merge_sort(arr):\n",
    "    "
   ]
  },
  {
   "cell_type": "code",
   "execution_count": null,
   "id": "2e73da29-e1ea-47be-8ea5-16d57b45a414",
   "metadata": {},
   "outputs": [],
   "source": []
  }
 ],
 "metadata": {
  "kernelspec": {
   "display_name": "Python 3 (ipykernel)",
   "language": "python",
   "name": "python3"
  },
  "language_info": {
   "codemirror_mode": {
    "name": "ipython",
    "version": 3
   },
   "file_extension": ".py",
   "mimetype": "text/x-python",
   "name": "python",
   "nbconvert_exporter": "python",
   "pygments_lexer": "ipython3",
   "version": "3.9.12"
  }
 },
 "nbformat": 4,
 "nbformat_minor": 5
}
