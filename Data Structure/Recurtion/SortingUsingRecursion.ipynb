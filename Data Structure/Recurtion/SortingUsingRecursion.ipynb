{
 "cells": [
  {
   "cell_type": "markdown",
   "id": "f1b4da63-dcac-4466-ae32-df6b13ce63b4",
   "metadata": {},
   "source": [
    "## Quick Sort"
   ]
  },
  {
   "cell_type": "code",
   "execution_count": 2,
   "id": "1bc6b3e1-2e6d-4416-9799-daaaeb16823d",
   "metadata": {},
   "outputs": [
    {
     "name": "stdin",
     "output_type": "stream",
     "text": [
      " 5 \n",
      " 5 0 1 0 4\n"
     ]
    },
    {
     "name": "stdout",
     "output_type": "stream",
     "text": [
      "0 0 1 4 5\n"
     ]
    }
   ],
   "source": [
    "def partionArray(arr,start,end):\n",
    "    \n",
    "    pivot = arr[start]\n",
    "    pivot_index = start\n",
    "    for i in range(start , end+1):\n",
    "        if pivot > arr[i]:\n",
    "            pivot_index +=1\n",
    "    arr[start] , arr[pivot_index] = arr[pivot_index] , arr[start]\n",
    "    i = start\n",
    "    j = end\n",
    "    while i < j : \n",
    "        if arr[i] < pivot:\n",
    "            i +=1\n",
    "        elif arr[j] >= pivot:\n",
    "            j -=1\n",
    "        else :\n",
    "            arr[i],arr[j] = arr[j],arr[i]\n",
    "    return pivot_index \n",
    "        \n",
    "\n",
    "def quickSort(arr, start, end):\n",
    "    # Please add your code here    \n",
    "    if start >= end:\n",
    "        return \n",
    "    \n",
    "    pivot_index = partionArray(arr,start,end)\n",
    "\n",
    "    quickSort(arr,start,pivot_index-1)\n",
    "    quickSort(arr,pivot_index+1,end)\n",
    "\n",
    "\n",
    "n=int(input())\n",
    "arr=list(int(i) for i in input().strip().split(' '))\n",
    "quickSort(arr, 0, n-1)\n",
    "print(*arr)\n"
   ]
  },
  {
   "cell_type": "markdown",
   "id": "c27c5194-a01f-4a48-bdbe-605366e8ed75",
   "metadata": {},
   "source": [
    "## Tower Of Hanoi - Problem"
   ]
  },
  {
   "cell_type": "code",
   "execution_count": 5,
   "id": "5b4126c1-d91b-474c-8ca1-3a5025f5765e",
   "metadata": {},
   "outputs": [
    {
     "name": "stdout",
     "output_type": "stream",
     "text": [
      "move 1st disk from x to z\n",
      "move 2 th disk from x to y\n",
      "move 1st disk from z to y\n",
      "move 3 th disk from x to z\n",
      "move 1st disk from y to x\n",
      "move 2 th disk from y to z\n",
      "move 1st disk from x to z\n"
     ]
    }
   ],
   "source": [
    "def towerofHanoi(n,a,b,c):\n",
    "    if n==1 :\n",
    "        print('move 1st disk from',a,'to',c)\n",
    "        return\n",
    "    towerofHanoi(n-1,a,c,b)\n",
    "    print('move',n,'th disk from',a,'to',c)\n",
    "    towerofHanoi(n-1,b,a,c)\n",
    "    \n",
    "#main function\n",
    "towerofHanoi(3,'x','y','z')"
   ]
  },
  {
   "cell_type": "code",
   "execution_count": null,
   "id": "85b384d7-71ee-4aa7-bd06-93499347c98d",
   "metadata": {},
   "outputs": [],
   "source": []
  }
 ],
 "metadata": {
  "kernelspec": {
   "display_name": "Python 3 (ipykernel)",
   "language": "python",
   "name": "python3"
  },
  "language_info": {
   "codemirror_mode": {
    "name": "ipython",
    "version": 3
   },
   "file_extension": ".py",
   "mimetype": "text/x-python",
   "name": "python",
   "nbconvert_exporter": "python",
   "pygments_lexer": "ipython3",
   "version": "3.9.12"
  }
 },
 "nbformat": 4,
 "nbformat_minor": 5
}
