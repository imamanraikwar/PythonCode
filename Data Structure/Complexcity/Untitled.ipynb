{
 "cells": [
  {
   "cell_type": "code",
   "execution_count": 21,
   "id": "6491b632-22a7-4224-acfb-160133cf8d73",
   "metadata": {},
   "outputs": [
    {
     "name": "stdin",
     "output_type": "stream",
     "text": [
      " 4 5 6\n"
     ]
    },
    {
     "name": "stdout",
     "output_type": "stream",
     "text": [
      "4 5 6\n",
      "<class 'int'>\n",
      "<class 'int'>\n"
     ]
    }
   ],
   "source": [
    "a, x, n = (int(i) for i in input().split())\n",
    "print(a,x, n)\n",
    "print(type(a))\n",
    "print(type(n))"
   ]
  },
  {
   "cell_type": "code",
   "execution_count": 28,
   "id": "9bba7524-b3f2-41ba-9e56-fc9bd9de4e83",
   "metadata": {},
   "outputs": [
    {
     "name": "stdout",
     "output_type": "stream",
     "text": [
      "[5, 5, 3, 2, 1]\n",
      "[5, 3, 5, 2, 1]\n"
     ]
    }
   ],
   "source": [
    "a = [5,3,5,2,1]\n",
    "arr =a.copy()\n",
    "a.sort(reverse = True)\n",
    "print(a)\n",
    "print(arr)\n"
   ]
  },
  {
   "cell_type": "code",
   "execution_count": 32,
   "id": "4ffff4a7-0666-4599-b843-77d0169ec3d4",
   "metadata": {},
   "outputs": [
    {
     "name": "stdin",
     "output_type": "stream",
     "text": [
      " 3\n"
     ]
    },
    {
     "name": "stdout",
     "output_type": "stream",
     "text": [
      "[8, 7, 6, 4, 3]\n",
      "[7, 8, 3, 4, 6]\n",
      "4\n"
     ]
    }
   ],
   "source": [
    "from os import *\n",
    "from sys import *\n",
    "from collections import *\n",
    "from math import *\n",
    "\n",
    "from typing import *\n",
    "\n",
    "\n",
    "def kthKingdom(n: int, k: int, arr: List[int]) -> int:\n",
    "    # write your code here\n",
    "    arr1 = arr.copy()\n",
    "    arr1.sort(reverse = True)\n",
    "    print(arr1)\n",
    "    print(arr)\n",
    "    temp = arr1[k-1]\n",
    "    return arr.index(temp)\n",
    "        \n",
    "    \n",
    "      \n",
    "\n",
    "    pass\n",
    "\n",
    "a = [7,8,3,4,6]\n",
    "k = int(input())\n",
    "print(kthKingdom(len(a),k,a))\n"
   ]
  },
  {
   "cell_type": "code",
   "execution_count": 39,
   "id": "22df484b-55ae-40b3-98b4-1f228e36abd3",
   "metadata": {},
   "outputs": [],
   "source": [
    "#fn = lambda x : 1 if x[0] in 'Aa' else 0"
   ]
  },
  {
   "cell_type": "code",
   "execution_count": 21,
   "id": "d07271e5-f03a-43e9-a56d-c281010e508b",
   "metadata": {},
   "outputs": [
    {
     "name": "stdout",
     "output_type": "stream",
     "text": [
      "CPU times: total: 0 ns\n",
      "Wall time: 0 ns\n",
      "2\n"
     ]
    }
   ],
   "source": [
    "\n",
    "arr = ['aman', 'adarsh', 'medha']\n",
    " c =  list(map(lambda x : 1 if x[0] in 'Aa' else 0 ,arr )).count(1)\n",
    "print(c)\n"
   ]
  },
  {
   "cell_type": "code",
   "execution_count": 58,
   "id": "a4c8ca26-792c-4119-8bf5-2f5c48c507d2",
   "metadata": {},
   "outputs": [],
   "source": [
    "a = ['soap','sharp','shy','silent','ship','summer','sheep']\n",
    "\n",
    "ans = list(filter(lambda y : y[-1] == 'p',a))\n"
   ]
  },
  {
   "cell_type": "code",
   "execution_count": 59,
   "id": "5f6a363b-439e-430c-9199-11dfae666eb7",
   "metadata": {},
   "outputs": [
    {
     "name": "stdout",
     "output_type": "stream",
     "text": [
      "['soap', 'sharp', 'ship', 'sheep']\n"
     ]
    }
   ],
   "source": [
    "print(ans)"
   ]
  },
  {
   "cell_type": "code",
   "execution_count": 66,
   "id": "bc834a7e-1b04-48c7-9317-e4363092da30",
   "metadata": {},
   "outputs": [
    {
     "data": {
      "text/plain": [
       "[1, 2, 3, 4, 5, 6]"
      ]
     },
     "execution_count": 66,
     "metadata": {},
     "output_type": "execute_result"
    }
   ],
   "source": [
    "l = range(1,7)\n",
    "list(l)"
   ]
  },
  {
   "cell_type": "code",
   "execution_count": 99,
   "id": "699f0558-7be0-4630-a57d-bedcfc41043e",
   "metadata": {},
   "outputs": [],
   "source": [
    "from functools import reduce \n"
   ]
  },
  {
   "cell_type": "code",
   "execution_count": 72,
   "id": "3e44ed73-692d-404a-bbe8-938bddacc55f",
   "metadata": {},
   "outputs": [],
   "source": [
    "f = lambda x,y : x+y"
   ]
  },
  {
   "cell_type": "code",
   "execution_count": 73,
   "id": "2d9f8946-cfed-4560-a1e8-3586bf229027",
   "metadata": {},
   "outputs": [],
   "source": [
    "l = range(1,7)\n",
    "temp = reduce(f,list(l))"
   ]
  },
  {
   "cell_type": "code",
   "execution_count": 25,
   "id": "497f2a33-e191-47ee-b374-c37f6ad5d72b",
   "metadata": {},
   "outputs": [
    {
     "name": "stdout",
     "output_type": "stream",
     "text": [
      "CPU times: total: 0 ns\n",
      "Wall time: 0 ns\n"
     ]
    }
   ],
   "source": [
    "\n",
    "def rec(n,mul):\n",
    "    if n==1:\n",
    "        return n\n",
    "    mul = mul * rec(n-1,mul)\n",
    "    return n * mul"
   ]
  },
  {
   "cell_type": "code",
   "execution_count": 4,
   "id": "bc18fa1d-7e9c-4e3f-b84a-2b0b64e91f96",
   "metadata": {},
   "outputs": [],
   "source": [
    "fun = lambda x, y: x*y"
   ]
  },
  {
   "cell_type": "code",
   "execution_count": 3,
   "id": "42bc205f-4e89-4ff8-bec2-bdc94644fce3",
   "metadata": {},
   "outputs": [],
   "source": [
    "def f(n):\n",
    "    mul = 1\n",
    "    for i in range(1,n+1):\n",
    "        mul = mul*i\n",
    "    return mul"
   ]
  },
  {
   "cell_type": "code",
   "execution_count": 30,
   "id": "874ba373-7e1e-4b49-838b-6bdef3a5afa6",
   "metadata": {},
   "outputs": [
    {
     "name": "stdin",
     "output_type": "stream",
     "text": [
      " 5\n"
     ]
    },
    {
     "name": "stdout",
     "output_type": "stream",
     "text": [
      "reduce_time 1665945176.954685\n",
      "factt_time 1665945176.9566844\n",
      "reduce_time 1665945176.9576852\n",
      "factt_time 1665945176.9586852\n"
     ]
    }
   ],
   "source": [
    "import time\n",
    "from functools import reduce \n",
    "n = int(input())\n",
    "\n",
    "reduce_time = time.time()\n",
    "l = range(1,n+1)\n",
    "reduce(fun,list(l))\n",
    "print('reduce_time',reduce_time)\n",
    "\n",
    "fac_time = time.time()\n",
    "f(n) \n",
    "print('factt_time',fac_time)\n",
    "\n",
    "\n",
    "reduce_tim = time.time()\n",
    "\n",
    "l = range(1,n+1)\n",
    "reduce(fun,list(l))\n",
    "print('reduce_time',reduce_tim)\n",
    "\n",
    "\n",
    "fac_tim = time.time()\n",
    "f(n)\n",
    "print('factt_time',fac_tim)\n",
    "\n"
   ]
  },
  {
   "cell_type": "code",
   "execution_count": null,
   "id": "5904acb2-4e3f-4349-b9d1-19a5d55af382",
   "metadata": {},
   "outputs": [],
   "source": []
  },
  {
   "cell_type": "code",
   "execution_count": null,
   "id": "97c3553f-bdbb-42bb-a5a1-bfcc9028bcd6",
   "metadata": {},
   "outputs": [],
   "source": [
    "recursion_time = time.time()\n",
    "rec(n,1)\n",
    "print('recursion.',red_time)"
   ]
  }
 ],
 "metadata": {
  "kernelspec": {
   "display_name": "Python 3 (ipykernel)",
   "language": "python",
   "name": "python3"
  },
  "language_info": {
   "codemirror_mode": {
    "name": "ipython",
    "version": 3
   },
   "file_extension": ".py",
   "mimetype": "text/x-python",
   "name": "python",
   "nbconvert_exporter": "python",
   "pygments_lexer": "ipython3",
   "version": "3.9.12"
  }
 },
 "nbformat": 4,
 "nbformat_minor": 5
}
