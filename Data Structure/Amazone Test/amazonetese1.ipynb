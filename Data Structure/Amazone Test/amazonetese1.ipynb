{
 "cells": [
  {
   "cell_type": "code",
   "execution_count": 12,
   "id": "e2faab82-c821-4983-b3f5-ae6be837c3cd",
   "metadata": {},
   "outputs": [],
   "source": [
    "def experimentonAtom(s):\n",
    "    s1 = s[0] & s[1]\n",
    "    for i in s[2:]:\n",
    "        s2 = s1 & i\n",
    "        if s2 == set():\n",
    "            return 0\n",
    "    return 1\n",
    "        \n",
    "    pass"
   ]
  },
  {
   "cell_type": "code",
   "execution_count": 15,
   "id": "bd0863c6-a74c-4a89-b204-df1651cbf792",
   "metadata": {},
   "outputs": [
    {
     "name": "stdin",
     "output_type": "stream",
     "text": [
      " 2\n",
      " 4 3\n",
      " 1 2\n",
      " 2 3\n",
      " 2 4\n"
     ]
    },
    {
     "name": "stdout",
     "output_type": "stream",
     "text": [
      "1\n"
     ]
    },
    {
     "name": "stdin",
     "output_type": "stream",
     "text": [
      " 3 3\n",
      " 1 2\n",
      " 2 3\n",
      " 1 3\n"
     ]
    },
    {
     "name": "stdout",
     "output_type": "stream",
     "text": [
      "0\n"
     ]
    }
   ],
   "source": [
    "t = int(input())\n",
    "while t > 0 :\n",
    "    list = [int(x) for x in input().split()]\n",
    "    n = list[0]\n",
    "    e = list[1]\n",
    "    \n",
    "    inter_connection = [ {int(x) for x in input().split() } for row in range(e)]\n",
    "    print(experimentonAtom(inter_connection))\n",
    "    t -= 1"
   ]
  },
  {
   "cell_type": "code",
   "execution_count": null,
   "id": "32c9ae7f-2607-4588-8075-2d688f277e1a",
   "metadata": {},
   "outputs": [],
   "source": []
  },
  {
   "cell_type": "code",
   "execution_count": 10,
   "id": "9ea741bf-d2a3-4460-bd4d-8781ab51e1d2",
   "metadata": {},
   "outputs": [
    {
     "name": "stdout",
     "output_type": "stream",
     "text": [
      "set()\n"
     ]
    }
   ],
   "source": [
    "DaysA = set([\"Mon\",\"Tue\",\"Wed\"])\n",
    "DaysB = set([\"Thu\",\"Fri\",\"Sat\",\"Sun\"])\n",
    "AllDays = DaysA & DaysB #Intersection of Sets\n",
    "print(AllDays)"
   ]
  },
  {
   "cell_type": "code",
   "execution_count": null,
   "id": "7e234602-ba60-40a9-a53f-545ed9d84a3e",
   "metadata": {},
   "outputs": [],
   "source": []
  }
 ],
 "metadata": {
  "kernelspec": {
   "display_name": "Python 3 (ipykernel)",
   "language": "python",
   "name": "python3"
  },
  "language_info": {
   "codemirror_mode": {
    "name": "ipython",
    "version": 3
   },
   "file_extension": ".py",
   "mimetype": "text/x-python",
   "name": "python",
   "nbconvert_exporter": "python",
   "pygments_lexer": "ipython3",
   "version": "3.9.12"
  }
 },
 "nbformat": 4,
 "nbformat_minor": 5
}
