{
 "cells": [
  {
   "cell_type": "code",
   "execution_count": 4,
   "id": "7901e664-5914-483f-9f6f-ea6c7d0fc614",
   "metadata": {},
   "outputs": [],
   "source": [
    "def sumofarray(arr1, arr2, arr3, arr4, n):\n",
    "    count = 0\n",
    "    for i in arr1:\n",
    "        for j in arr2:\n",
    "            for k in arr3:\n",
    "                for l in arr4:\n",
    "                    if i + j + k + l == 0:\n",
    "                        count += 1\n",
    "    return count\n",
    "    pass"
   ]
  },
  {
   "cell_type": "code",
   "execution_count": 5,
   "id": "cd499066-ff59-4fc9-8cdb-24ead0665d13",
   "metadata": {},
   "outputs": [
    {
     "name": "stdin",
     "output_type": "stream",
     "text": [
      " 2\n",
      " 2\n",
      " -1 -1\n",
      " 1 1\n",
      " -1 1\n",
      " 1 -1\n"
     ]
    },
    {
     "name": "stdout",
     "output_type": "stream",
     "text": [
      "8\n"
     ]
    },
    {
     "name": "stdin",
     "output_type": "stream",
     "text": [
      " 1\n",
      " 0\n",
      " 0\n",
      " 0\n",
      " 0\n"
     ]
    },
    {
     "name": "stdout",
     "output_type": "stream",
     "text": [
      "1\n"
     ]
    }
   ],
   "source": [
    "t = int(input())\n",
    "while t > 0:\n",
    "    n = int(input())\n",
    "    arr1 = [int(x) for x in input().split() ]\n",
    "    arr2 = [int(x) for x in input().split() ]\n",
    "    arr3 = [int(x) for x in input().split() ]\n",
    "    arr4 = [int(x) for x in input().split() ]\n",
    "    print(sumofarray(arr1, arr2, arr3, arr4, n))\n",
    "    t -= 1"
   ]
  },
  {
   "cell_type": "code",
   "execution_count": null,
   "id": "43f78185-f15e-4577-b608-39aac5394c1c",
   "metadata": {},
   "outputs": [],
   "source": []
  }
 ],
 "metadata": {
  "kernelspec": {
   "display_name": "Python 3 (ipykernel)",
   "language": "python",
   "name": "python3"
  },
  "language_info": {
   "codemirror_mode": {
    "name": "ipython",
    "version": 3
   },
   "file_extension": ".py",
   "mimetype": "text/x-python",
   "name": "python",
   "nbconvert_exporter": "python",
   "pygments_lexer": "ipython3",
   "version": "3.9.12"
  }
 },
 "nbformat": 4,
 "nbformat_minor": 5
}
