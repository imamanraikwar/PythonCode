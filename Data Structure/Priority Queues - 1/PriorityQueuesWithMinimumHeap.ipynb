{
 "cells": [
  {
   "cell_type": "code",
   "execution_count": 52,
   "id": "979d93bd",
   "metadata": {},
   "outputs": [],
   "source": [
    "class PriorityQueueNode :\n",
    "    def __init__(self,value,priority):\n",
    "        self.value = value\n",
    "        self.priority = priority"
   ]
  },
  {
   "cell_type": "code",
   "execution_count": 58,
   "id": "f04ced7f",
   "metadata": {},
   "outputs": [],
   "source": [
    "class PriorityQueue:\n",
    "    def __init__(self):\n",
    "        self.pq = []\n",
    "        \n",
    "    def getSize(self):\n",
    "        return len(self.pq)\n",
    "    \n",
    "    def isEmpty(self):\n",
    "        return self.getSize() == 0\n",
    "    \n",
    "    def getMinimum(self):\n",
    "        if self.isEmpty :\n",
    "            return None\n",
    "        return self.pq[0].value\n",
    "    \n",
    "    def insert(self,value,priority):\n",
    "        newNode = PriorityQueueNode(value,priority)\n",
    "        self.pq.append(newNode)\n",
    "        childIndex = len(self.pq) - 1 \n",
    "        \n",
    "        while childIndex > 0 :\n",
    "            parentIndex = (childIndex - 1) // 2\n",
    "            if self.pq[childIndex].priority < self.pq[parentIndex].priority :\n",
    "                self.pq[childIndex] , self.pq[parentIndex] = self.pq[parentIndex] , self.pq[childIndex]\n",
    "                childIndex = parentIndex\n",
    "            else :\n",
    "                break\n",
    "    \n",
    "    def removeMinimum(self):\n",
    "        self.pq[0] , self.pq[-1] = self.pq[-1] , self.pq[0]\n",
    "        temp = self.pq.pop()\n",
    "        parentIndex = 0\n",
    "        while (2 * parentIndex + 2) < len(self.pq) :\n",
    "            if self.pq[parentIndex].priority > min(self.pq[2 * parentIndex + 1].priority , self.pq[2 * parentIndex + 2].priority ) :\n",
    "                if self.pq[2 * parentIndex + 1].priority <  self.pq[2 * parentIndex + 2].priority :\n",
    "                    self.pq[parentIndex] , self.pq[2 * parentIndex + 1] = self.pq[2 * parentIndex + 1] , self.pq[parentIndex]\n",
    "                    parentIndex = 2 * parentIndex + 1\n",
    "                else :\n",
    "                    self.pq[parentIndex] , self.pq[2 * parentIndex + 2] = self.pq[2 * parentIndex + 2] , self.pq[parentIndex]\n",
    "                    parentIndex = 2 * parentIndex + 2\n",
    "        if (2 * parentIndex + 1) < len(self.pq) - 1 and self.pq[parentIndex].priority > self.pq[2 * parentIndex + 1].priority :\n",
    "            self.pq[parentIndex] , self.pq[2 * parentIndex + 1] = self.pq[2 * parentIndex + 1] , self.pq[parentIndex]\n",
    "            \n",
    "        return temp.value\n",
    "    \n",
    "                    \n",
    "    \n",
    "    def testing(self):\n",
    "        for i in range(len(self.pq)):\n",
    "            print(self.pq[i].value,':',self.pq[i].priority,end=' , ')\n",
    "        "
   ]
  },
  {
   "cell_type": "code",
   "execution_count": 61,
   "id": "7e4b748f",
   "metadata": {},
   "outputs": [
    {
     "name": "stdout",
     "output_type": "stream",
     "text": [
      "6\n",
      "E : 5 , A : 10 , F : 13 , D : 18 , B : 12 , C : 15 , \n",
      "E\n",
      "A : 10 , B : 12 , F : 13 , D : 18 , C : 15 , \n",
      "A\n",
      "B : 12 , C : 15 , F : 13 , D : 18 , \n"
     ]
    }
   ],
   "source": [
    "pq = PriorityQueue()\n",
    "pq.insert('A',10)\n",
    "pq.insert('B',12)\n",
    "pq.insert('C',15)\n",
    "pq.insert('D',18)\n",
    "pq.insert('E',5)\n",
    "pq.insert('F',13)\n",
    "print(pq.getSize())\n",
    "pq.testing()\n",
    "print()\n",
    "print(pq.removeMinimum())\n",
    "pq.testing()\n",
    "print()\n",
    "print(pq.removeMinimum())\n",
    "pq.testing()\n",
    "print()"
   ]
  },
  {
   "cell_type": "code",
   "execution_count": null,
   "id": "adb7ec2d",
   "metadata": {},
   "outputs": [],
   "source": []
  }
 ],
 "metadata": {
  "hide_input": false,
  "kernelspec": {
   "display_name": "Python 3 (ipykernel)",
   "language": "python",
   "name": "python3"
  },
  "language_info": {
   "codemirror_mode": {
    "name": "ipython",
    "version": 3
   },
   "file_extension": ".py",
   "mimetype": "text/x-python",
   "name": "python",
   "nbconvert_exporter": "python",
   "pygments_lexer": "ipython3",
   "version": "3.9.12"
  }
 },
 "nbformat": 4,
 "nbformat_minor": 5
}
