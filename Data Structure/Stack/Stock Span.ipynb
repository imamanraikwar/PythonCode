{
 "cells": [
  {
   "cell_type": "code",
   "execution_count": 2,
   "id": "ebd071fc",
   "metadata": {},
   "outputs": [],
   "source": [
    "def stockSpan(price, n) :\n",
    "\t#Your code goes here\n",
    "    if n <= 1 :\n",
    "        return price \n",
    "    arr = [1]       \n",
    "    for i in range(1,n):\n",
    "        count = 1\n",
    "        for j in price[(i-n-1)::-1]:\n",
    "            if j >= price[i] :\n",
    "                arr.append(count)\n",
    "                break\n",
    "            count += 1                \n",
    "        else :\n",
    "            arr.append(count)\n",
    "    return arr"
   ]
  },
  {
   "cell_type": "code",
   "execution_count": 4,
   "id": "85fa2141",
   "metadata": {},
   "outputs": [
    {
     "name": "stdout",
     "output_type": "stream",
     "text": [
      "[1, 2, 3, 4, 1, 1, 2, 8]\n"
     ]
    }
   ],
   "source": [
    "n = 8\n",
    "price= [60, 70, 80, 100, 90, 75, 80, 120]\n",
    "\n",
    "output = stockSpan(price, n)\n",
    "print(output)"
   ]
  },
  {
   "cell_type": "code",
   "execution_count": null,
   "id": "56f374ca",
   "metadata": {},
   "outputs": [],
   "source": []
  }
 ],
 "metadata": {
  "hide_input": false,
  "kernelspec": {
   "display_name": "Python 3 (ipykernel)",
   "language": "python",
   "name": "python3"
  },
  "language_info": {
   "codemirror_mode": {
    "name": "ipython",
    "version": 3
   },
   "file_extension": ".py",
   "mimetype": "text/x-python",
   "name": "python",
   "nbconvert_exporter": "python",
   "pygments_lexer": "ipython3",
   "version": "3.9.12"
  }
 },
 "nbformat": 4,
 "nbformat_minor": 5
}
