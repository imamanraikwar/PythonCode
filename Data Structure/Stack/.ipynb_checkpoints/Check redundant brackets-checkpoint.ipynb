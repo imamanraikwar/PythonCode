{
 "cells": [
  {
   "cell_type": "code",
   "execution_count": 7,
   "id": "b04d0581",
   "metadata": {},
   "outputs": [],
   "source": [
    "def checkRedundantBrackets(expression):\n",
    "    arr = []\n",
    "    for ele in expression:\n",
    "        if ele in '()+-*/':\n",
    "            if ele == ')' and len(arr) == 0 :\n",
    "                return True\n",
    "            if ele == '(' or len(arr) > 0:\n",
    "                if ele == '(' :\n",
    "                    arr.append(ele)\n",
    "                else :\n",
    "                    if ele == ')' :\n",
    "                        if arr[-1] is not True :\n",
    "                            return True\n",
    "                        arr.pop()\n",
    "                        arr.pop()\n",
    "                    else :\n",
    "                        if arr[-1] == '(' :\n",
    "                            arr.append(True)\n",
    "    \n",
    "    if len(arr) == 0 :\n",
    "        return False"
   ]
  },
  {
   "cell_type": "code",
   "execution_count": 10,
   "id": "a378dc38",
   "metadata": {},
   "outputs": [
    {
     "name": "stdout",
     "output_type": "stream",
     "text": [
      "((a+b)+c)\n",
      "false\n"
     ]
    }
   ],
   "source": [
    "expression = input()\n",
    "\n",
    "if checkRedundantBrackets(expression) :\n",
    "    print(\"true\")\n",
    "\n",
    "else :\n",
    "\tprint(\"false\")\n"
   ]
  },
  {
   "cell_type": "code",
   "execution_count": null,
   "id": "48542a17",
   "metadata": {},
   "outputs": [],
   "source": []
  },
  {
   "cell_type": "code",
   "execution_count": null,
   "id": "ed55770c",
   "metadata": {},
   "outputs": [],
   "source": []
  }
 ],
 "metadata": {
  "hide_input": false,
  "kernelspec": {
   "display_name": "Python 3 (ipykernel)",
   "language": "python",
   "name": "python3"
  },
  "language_info": {
   "codemirror_mode": {
    "name": "ipython",
    "version": 3
   },
   "file_extension": ".py",
   "mimetype": "text/x-python",
   "name": "python",
   "nbconvert_exporter": "python",
   "pygments_lexer": "ipython3",
   "version": "3.9.12"
  }
 },
 "nbformat": 4,
 "nbformat_minor": 5
}
