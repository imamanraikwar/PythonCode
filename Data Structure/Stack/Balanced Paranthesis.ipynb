{
 "cells": [
  {
   "cell_type": "code",
   "execution_count": 2,
   "id": "f223867e",
   "metadata": {},
   "outputs": [],
   "source": [
    "def isBalanced(expression) :\n",
    "\t#Your code goes here\n",
    "    q = []\n",
    "    count = -1\n",
    "    \n",
    "    for ele in expression:\n",
    "        if ele == ')' and count == -1:\n",
    "            return False\n",
    "        if ele == '(' :\n",
    "            q.append(ele)\n",
    "            count += 1\n",
    "        else :\n",
    "            q.pop()\n",
    "            count -= 1\n",
    "    if count == -1 :\n",
    "        return True\n",
    "    return False"
   ]
  },
  {
   "cell_type": "code",
   "execution_count": 3,
   "id": "723f61f7",
   "metadata": {},
   "outputs": [
    {
     "name": "stdout",
     "output_type": "stream",
     "text": [
      "true\n"
     ]
    }
   ],
   "source": [
    "ans = isBalanced('(())(())')\n",
    "if ans :\n",
    "    print('true')\n",
    "else :\n",
    "    print('false')"
   ]
  },
  {
   "cell_type": "code",
   "execution_count": null,
   "id": "bfc9cc74",
   "metadata": {},
   "outputs": [],
   "source": []
  }
 ],
 "metadata": {
  "hide_input": false,
  "kernelspec": {
   "display_name": "Python 3 (ipykernel)",
   "language": "python",
   "name": "python3"
  },
  "language_info": {
   "codemirror_mode": {
    "name": "ipython",
    "version": 3
   },
   "file_extension": ".py",
   "mimetype": "text/x-python",
   "name": "python",
   "nbconvert_exporter": "python",
   "pygments_lexer": "ipython3",
   "version": "3.9.12"
  }
 },
 "nbformat": 4,
 "nbformat_minor": 5
}
