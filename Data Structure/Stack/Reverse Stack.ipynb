{
 "cells": [
  {
   "cell_type": "code",
   "execution_count": 1,
   "id": "485f4af7",
   "metadata": {},
   "outputs": [],
   "source": [
    "def reverseStack(arr1,arr2) :\n",
    "    if len(arr1) <= 1 :\n",
    "        return\n",
    "    \n",
    "    while len(arr1) > 1 :\n",
    "        ele = arr1.pop()\n",
    "        arr2.append(ele)\n",
    "    lastelement = arr1.pop()\n",
    "    \n",
    "    while len(arr2) > 0 :\n",
    "        arr1.append(arr2.pop())\n",
    "        \n",
    "    reverseStack(arr1,arr2)\n",
    "    arr1.append(lastelement)"
   ]
  },
  {
   "cell_type": "code",
   "execution_count": 5,
   "id": "865ccbc2",
   "metadata": {},
   "outputs": [
    {
     "name": "stdout",
     "output_type": "stream",
     "text": [
      "Input of Stack :- 1 2 3 4 5\n",
      "Pop element:-  1 2 3 4 5 "
     ]
    }
   ],
   "source": [
    "arr1 = [int(ele) for ele in input('Input of Stack :- ').split()]\n",
    "arr2 = []\n",
    "reverseStack(arr1,arr2)\n",
    "print('Pop element:- ',end=' ')\n",
    "while len(arr1) != 0:\n",
    "    print(arr1.pop(),end=' ')"
   ]
  },
  {
   "cell_type": "code",
   "execution_count": null,
   "id": "304c9fc7",
   "metadata": {},
   "outputs": [],
   "source": []
  }
 ],
 "metadata": {
  "hide_input": false,
  "kernelspec": {
   "display_name": "Python 3 (ipykernel)",
   "language": "python",
   "name": "python3"
  },
  "language_info": {
   "codemirror_mode": {
    "name": "ipython",
    "version": 3
   },
   "file_extension": ".py",
   "mimetype": "text/x-python",
   "name": "python",
   "nbconvert_exporter": "python",
   "pygments_lexer": "ipython3",
   "version": "3.9.12"
  }
 },
 "nbformat": 4,
 "nbformat_minor": 5
}
