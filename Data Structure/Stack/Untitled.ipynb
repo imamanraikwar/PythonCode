{
 "cells": [
  {
   "cell_type": "code",
   "execution_count": 23,
   "id": "91f8bee2",
   "metadata": {},
   "outputs": [],
   "source": [
    "from sys import stdin\n",
    "import ast"
   ]
  },
  {
   "cell_type": "code",
   "execution_count": 24,
   "id": "f7ae9987",
   "metadata": {},
   "outputs": [],
   "source": [
    "class Node :\n",
    "\n",
    "    def __init__(self, data) :\n",
    "        self.data = data\n",
    "        self.next = None"
   ]
  },
  {
   "cell_type": "code",
   "execution_count": 48,
   "id": "283e001e",
   "metadata": {},
   "outputs": [],
   "source": [
    "class Stack :\n",
    "\n",
    "    #Define data members and __init__()\n",
    "    def __init__(self):\n",
    "        #self.value = None\n",
    "        self.__head = None\n",
    "        self.__count = 0\n",
    "        \n",
    "    \n",
    "    def getSize(self) :\n",
    "        #Implement the getSize() function\n",
    "        return self.__count\n",
    "        \n",
    "\n",
    "    def isEmpty(self) :\n",
    "        #Implement the isEmpty() function\n",
    "        return self.getSize() == 0\n",
    "            \n",
    "\n",
    "\n",
    "\n",
    "    def push(self, data) :\n",
    "        #Implement the push(element) function\n",
    "        #self.value = Node(data)\n",
    "        self.__count += 1\n",
    "        if self.__head is None:\n",
    "            self.__head = Node(data)\n",
    "        newNode = Node(data)\n",
    "        newNode.next  = self.__head\n",
    "        self.__head = newNode\n",
    "        \n",
    "\n",
    "\n",
    "\n",
    "    def pop(self) :\n",
    "        #Implement the pop() function\n",
    "        if self.isEmpty() is True :\n",
    "            return -1\n",
    "        pop_item = self.__head.data\n",
    "        self.__head = self.__head.next\n",
    "        self.__count -= 1\n",
    "        return pop_item\n",
    "\n",
    "\n",
    "\n",
    "    def top(self) :\n",
    "        #Implement the top() function\n",
    "        if self.isEmpty() is True :\n",
    "            return -1\n",
    "        return self.__head.data\n",
    "   "
   ]
  },
  {
   "cell_type": "code",
   "execution_count": 52,
   "id": "b6d9bd52",
   "metadata": {},
   "outputs": [
    {
     "name": "stdout",
     "output_type": "stream",
     "text": [
      "6\n",
      "1 34\n",
      "1 47\n",
      "1 54\n",
      "3\n",
      "54\n",
      "3\n",
      "54\n",
      "2\n",
      "54\n"
     ]
    }
   ],
   "source": [
    "q = int(input())\n",
    "\n",
    "stack = Stack()\n",
    "\n",
    "while q > 0 :\n",
    "\n",
    "    inputs = [int(ele) for ele in input().split()]\n",
    "    choice = int(inputs[0])\n",
    "\n",
    "    if choice == 1 :\n",
    "        data = int(inputs[1])\n",
    "        stack.push(data)\n",
    "\n",
    "    elif choice == 2 :\n",
    "        print(stack.pop())\n",
    "\n",
    "    elif choice == 3 :\n",
    "        print(stack.top())\n",
    "\n",
    "    elif choice == 4 : \n",
    "        print(stack.getSize())\n",
    "\n",
    "    else :\n",
    "        if stack.isEmpty() :\n",
    "            print(\"true\")\n",
    "        else :\n",
    "            print(\"false\")\n",
    "\n",
    "    q -= 1"
   ]
  },
  {
   "cell_type": "code",
   "execution_count": 54,
   "id": "86be7eeb",
   "metadata": {},
   "outputs": [
    {
     "ename": "TypeError",
     "evalue": "'list' object is not callable",
     "output_type": "error",
     "traceback": [
      "\u001b[1;31m---------------------------------------------------------------------------\u001b[0m",
      "\u001b[1;31mTypeError\u001b[0m                                 Traceback (most recent call last)",
      "Input \u001b[1;32mIn [54]\u001b[0m, in \u001b[0;36m<cell line: 1>\u001b[1;34m()\u001b[0m\n\u001b[1;32m----> 1\u001b[0m in_put \u001b[38;5;241m=\u001b[39m \u001b[38;5;28mlist\u001b[39m(\u001b[43minputs\u001b[49m\u001b[43m(\u001b[49m\u001b[43m)\u001b[49m)\n\u001b[0;32m      2\u001b[0m \u001b[38;5;28mprint\u001b[39m(in_put)\n",
      "\u001b[1;31mTypeError\u001b[0m: 'list' object is not callable"
     ]
    }
   ],
   "source": [
    "in_put = input()\n"
   ]
  },
  {
   "cell_type": "code",
   "execution_count": null,
   "id": "f9b0fa65",
   "metadata": {},
   "outputs": [],
   "source": []
  }
 ],
 "metadata": {
  "hide_input": false,
  "kernelspec": {
   "display_name": "Python 3 (ipykernel)",
   "language": "python",
   "name": "python3"
  },
  "language_info": {
   "codemirror_mode": {
    "name": "ipython",
    "version": 3
   },
   "file_extension": ".py",
   "mimetype": "text/x-python",
   "name": "python",
   "nbconvert_exporter": "python",
   "pygments_lexer": "ipython3",
   "version": "3.9.12"
  }
 },
 "nbformat": 4,
 "nbformat_minor": 5
}
