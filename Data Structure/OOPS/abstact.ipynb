{
 "cells": [
  {
   "cell_type": "code",
   "execution_count": 5,
   "id": "dd7c6fa5-59de-4b6f-8522-5b197d34dfad",
   "metadata": {},
   "outputs": [],
   "source": [
    "from abc import ABC, abstractmethod #Importing the ABC Module\n",
    "\n",
    "class AbstractClass(ABC):\n",
    "    def __init__(self, value): #Class Constructor\n",
    "        self.value = value\n",
    "        #super().__init__()\n",
    "    @abstractmethod\n",
    "    def do_something(self): #Our abstract method declaration\n",
    "        pass"
   ]
  },
  {
   "cell_type": "code",
   "execution_count": 6,
   "id": "d85f8c7f-8973-4dfa-85f3-e8f80268519b",
   "metadata": {},
   "outputs": [
    {
     "name": "stdout",
     "output_type": "stream",
     "text": [
      "52\n",
      "420\n"
     ]
    }
   ],
   "source": [
    "class add(AbstractClass):\n",
    "    def do_something(self):\n",
    "        return self.value + 42\n",
    "class mul(AbstractClass):\n",
    "    def do_something(self):\n",
    "        return self.value * 42\n",
    "    \n",
    "    \n",
    "x = add(10)\n",
    "y = mul(10)\n",
    "print(x.do_something())\n",
    "print(y.do_something())"
   ]
  },
  {
   "cell_type": "code",
   "execution_count": 20,
   "id": "c0606598-d11f-40a4-8ac5-c4abfcd1e3ec",
   "metadata": {},
   "outputs": [
    {
     "name": "stdout",
     "output_type": "stream",
     "text": [
      "The entry is a\n",
      "Oops! <class 'ValueError'> occurred.\n",
      "\n",
      "The entry is 0\n",
      "Oops! <class 'ZeroDivisionError'> occurred.\n",
      "\n",
      "The entry is 2\n",
      "The reciprocal of 2 is 0.5\n"
     ]
    }
   ],
   "source": [
    "import sys\n",
    "l = ['a', 0, 2]\n",
    "for ele in l:\n",
    "    try:#This block might raise an exception while executing\n",
    "        print(\"The entry is\", ele)\n",
    "        r = 1/int(ele)\n",
    "        break\n",
    "    except:#This block executes in case of an exception in \"try\"\n",
    "        print(\"Oops!\", sys.exc_info()[0], \"occurred.\")\n",
    "   \n",
    "    print()\n",
    "print(\"The reciprocal of\", ele, \"is\", r)"
   ]
  },
  {
   "cell_type": "code",
   "execution_count": null,
   "id": "ec430b66-6696-4267-88e1-0bfab52fb7c9",
   "metadata": {},
   "outputs": [],
   "source": []
  }
 ],
 "metadata": {
  "kernelspec": {
   "display_name": "Python 3 (ipykernel)",
   "language": "python",
   "name": "python3"
  },
  "language_info": {
   "codemirror_mode": {
    "name": "ipython",
    "version": 3
   },
   "file_extension": ".py",
   "mimetype": "text/x-python",
   "name": "python",
   "nbconvert_exporter": "python",
   "pygments_lexer": "ipython3",
   "version": "3.9.12"
  }
 },
 "nbformat": 4,
 "nbformat_minor": 5
}
