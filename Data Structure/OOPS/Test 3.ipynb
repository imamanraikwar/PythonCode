{
 "cells": [
  {
   "cell_type": "code",
   "execution_count": 11,
   "id": "63877e9f-10c3-449d-aa63-012d4a9c2dc4",
   "metadata": {},
   "outputs": [
    {
     "name": "stdin",
     "output_type": "stream",
     "text": [
      " abce\n",
      " aeb\n"
     ]
    },
    {
     "name": "stdout",
     "output_type": "stream",
     "text": [
      "false\n"
     ]
    }
   ],
   "source": [
    "def contains(s,t):\n",
    "    #Implement This Function Here\n",
    "    index = 0\n",
    "    flag = True\n",
    "    i = 0\n",
    "    while i < len(t) and flag :\n",
    "        j = index\n",
    "        flag = False \n",
    "        while j < len(s):\n",
    "            if t[i] == s[j] :\n",
    "                flag = True \n",
    "                index = j + 1\n",
    "                break\n",
    "            else :\n",
    "                flag = False\n",
    "            j +=1\n",
    "        i += 1\n",
    "        \n",
    "    if flag  :\n",
    "        return True\n",
    "    else :\n",
    "        return False\n",
    "    \n",
    "    \n",
    "    \n",
    "    \n",
    "s = input()\n",
    "t = input()\n",
    "\n",
    "ans = contains(s,t)\n",
    "if ans is True:\n",
    "    print('true')\n",
    "else:\n",
    "    print('false')"
   ]
  },
  {
   "cell_type": "code",
   "execution_count": 12,
   "id": "aa11a794-8542-4e91-933b-a465c86045ea",
   "metadata": {},
   "outputs": [
    {
     "name": "stdin",
     "output_type": "stream",
     "text": [
      " drewr\n",
      " re\n"
     ]
    },
    {
     "name": "stdout",
     "output_type": "stream",
     "text": [
      "false\n"
     ]
    }
   ],
   "source": [
    "def contains(s,t):\n",
    "    #Implement This Function Here\n",
    "    \n",
    "    \n",
    "    \n",
    "    \n",
    "    \n",
    "    pass\n",
    "    \n",
    "s = input()\n",
    "t = input()\n",
    "\n",
    "ans = contains(s,t)\n",
    "if ans is True:\n",
    "    print('true')\n",
    "else:\n",
    "    print('false')"
   ]
  },
  {
   "cell_type": "code",
   "execution_count": 16,
   "id": "9861bd19-93f4-42f0-8a5d-8cc4c1ddf3d2",
   "metadata": {},
   "outputs": [
    {
     "name": "stdin",
     "output_type": "stream",
     "text": [
      " 5\n",
      " 34 78 90 15 67\n"
     ]
    },
    {
     "name": "stdout",
     "output_type": "stream",
     "text": [
      "201\n"
     ]
    }
   ],
   "source": [
    "\n",
    "def maximumProfit(arr):\n",
    "\t#Implement Your Function here\n",
    "    arr.sort()\n",
    "    profit = 0\n",
    "    for i in range(len(arr)):\n",
    "        temp = arr[i] * (len(arr) - i)\n",
    "        if temp > profit:\n",
    "            profit = temp\n",
    "    return profit\n",
    "    \n",
    "\n",
    "n = int(input())\n",
    "arr = [int(ele) for ele in input().split()]\n",
    "ans = maximumProfit(arr)\n",
    "print(ans)"
   ]
  },
  {
   "cell_type": "code",
   "execution_count": 28,
   "id": "11521ced-53d9-4e05-a02b-4dc81bfb4276",
   "metadata": {},
   "outputs": [
    {
     "name": "stdin",
     "output_type": "stream",
     "text": [
      " 3\n",
      " 1 4 3\n"
     ]
    },
    {
     "name": "stdout",
     "output_type": "stream",
     "text": [
      "false\n"
     ]
    }
   ],
   "source": [
    "from functools import reduce\n",
    "\n",
    "\n",
    "def split(arr,i,sum):\n",
    "    #Implement Your Function here\n",
    "    fn = lambda x , y : x + y\n",
    "    arr3 = [0]\n",
    "    arr5 = [0]\n",
    "    arr1 = []\n",
    "    for i in range(len(arr)):\n",
    "        if arr[i] % 3 == 0:\n",
    "            arr3.append(arr[i])\n",
    "        elif arr[i] % 5 == 0:\n",
    "            arr5.append(arr[i])\n",
    "        else :\n",
    "            arr1.append(arr[i])\n",
    "    \n",
    "    #print(reduce(fn,arr3))\n",
    "    for i in range(len(arr1)):\n",
    "        if reduce(fn,arr3) <= reduce(fn,arr5):\n",
    "            arr3.append(arr1[i])\n",
    "        else :\n",
    "            arr5.append(arr1[i])\n",
    "    if reduce(fn,arr3) == reduce(fn,arr5) :\n",
    "        return True\n",
    "    else :\n",
    "        return False\n",
    "            \n",
    "    \n",
    "    \n",
    "    \n",
    "    \n",
    "    \n",
    "n = input()\n",
    "arr = [int(ele) for ele in input().split()]\n",
    "#print(arr)\n",
    "ans = split(arr,0,0)\n",
    "if ans is True:\n",
    "    print('true')\n",
    "else:\n",
    "    print('false')"
   ]
  },
  {
   "cell_type": "code",
   "execution_count": null,
   "id": "ed62dd36-50d4-4f54-98b5-4e566fd5af06",
   "metadata": {},
   "outputs": [],
   "source": []
  },
  {
   "cell_type": "code",
   "execution_count": null,
   "id": "c9722892-dba6-45bb-b934-d01bd2c98f56",
   "metadata": {},
   "outputs": [],
   "source": []
  },
  {
   "cell_type": "code",
   "execution_count": 43,
   "id": "12567c11-f3d6-49bd-b564-96710852a6c1",
   "metadata": {},
   "outputs": [
    {
     "name": "stdin",
     "output_type": "stream",
     "text": [
      " 4\n",
      " 11 4 9 1\n"
     ]
    },
    {
     "name": "stdout",
     "output_type": "stream",
     "text": [
      "false\n"
     ]
    }
   ],
   "source": [
    "def helper(arr, n, start, lsum, rsum):\n",
    "\n",
    "\t# If reached the end\n",
    "\tif (start == n):\n",
    "\t\treturn lsum == rsum\n",
    "\n",
    "\t# If divisible by 5 then add\n",
    "\t# to the left sum\n",
    "\tif (arr[start] % 5 == 0):\n",
    "\t\tlsum += arr[start]\n",
    "\n",
    "\t# If divisible by 3 but not by 5\n",
    "\t# then add to the right sum\n",
    "\telif (arr[start] % 3 == 0):\n",
    "\t\trsum += arr[start]\n",
    "\n",
    "\t# Else it can be added to any of\n",
    "\t# the sub-arrays\n",
    "\telse:\n",
    "\n",
    "\t\t# Try adding in both the sub-arrays\n",
    "\t\t# (one by one) and check whether\n",
    "\t\t# the condition satisfies\n",
    "\t\treturn (helper(arr, n, start + 1,lsum + arr[start], rsum) or helper(arr, n, start + 1, lsum, rsum + arr[start]));\n",
    "\n",
    "\t# For cases when element is multiple of 3 or 5.\n",
    "\treturn helper(arr, n, start + 1, lsum, rsum)\n",
    "\n",
    "\n",
    "    \n",
    "\n",
    "def split(arr,i,sum):\n",
    "    #Implement Your Function here\n",
    "    return helper(arr, len(arr), 0, 0, 0)\n",
    "    pass\n",
    "    \n",
    "n = input()\n",
    "arr = [int(ele) for ele in input().split()]\n",
    "ans = split(arr,0,0)\n",
    "if ans is True:\n",
    "    print('true')\n",
    "else:\n",
    "    print('false')"
   ]
  },
  {
   "cell_type": "code",
   "execution_count": 50,
   "id": "f7587602-c047-4b81-97d9-95227e072506",
   "metadata": {},
   "outputs": [
    {
     "name": "stdin",
     "output_type": "stream",
     "text": [
      " 4\n",
      " 1 2 3 4\n"
     ]
    },
    {
     "name": "stdout",
     "output_type": "stream",
     "text": [
      "true\n"
     ]
    }
   ],
   "source": [
    "\n",
    "def split(arr,i,sum):\n",
    "    #Implement Your Function here\n",
    "    if i == len(arr):\n",
    "        if sum == 0:\n",
    "            return True\n",
    "        else :\n",
    "            return False\n",
    "    \n",
    "    if(arr[i] % 5 == 0) :\n",
    "        return split(arr,i+1, sum + arr[i])\n",
    "    elif (arr[i] % 3 == 0):\n",
    "        return split(arr,i+1, sum - arr[i])\n",
    "    else :\n",
    "        ans1 =  split(arr,i+1,sum + arr[i])\n",
    "        ans2 =  split(arr,i+1, sum - arr[i])\n",
    "        return ans1 or ans2\n",
    "    \n",
    "    \n",
    "    \n",
    "n = input()\n",
    "arr = [int(ele) for ele in input().split()]\n",
    "ans = split(arr,0,0)\n",
    "if ans is True:\n",
    "    print('true')\n",
    "else:\n",
    "    print('false')"
   ]
  },
  {
   "cell_type": "code",
   "execution_count": null,
   "id": "17b07a31-a886-4755-9816-4c794a07035f",
   "metadata": {},
   "outputs": [],
   "source": []
  }
 ],
 "metadata": {
  "kernelspec": {
   "display_name": "Python 3 (ipykernel)",
   "language": "python",
   "name": "python3"
  },
  "language_info": {
   "codemirror_mode": {
    "name": "ipython",
    "version": 3
   },
   "file_extension": ".py",
   "mimetype": "text/x-python",
   "name": "python",
   "nbconvert_exporter": "python",
   "pygments_lexer": "ipython3",
   "version": "3.9.12"
  }
 },
 "nbformat": 4,
 "nbformat_minor": 5
}
