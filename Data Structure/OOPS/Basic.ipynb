{
 "cells": [
  {
   "cell_type": "code",
   "execution_count": 40,
   "id": "9a9aa95a-9393-4f56-b221-040b551836b9",
   "metadata": {},
   "outputs": [],
   "source": [
    "# Parent Class\n",
    "class Vehicle():\n",
    "    def __init__(self,make,model,fuel):\n",
    "        self.make=make\n",
    "        self.__model=model\n",
    "        self.__fuel=fuel\n",
    "    def __private_method_parent(self):\n",
    "        print(\"This is private\")\n"
   ]
  },
  {
   "cell_type": "code",
   "execution_count": 46,
   "id": "9aaba374-5576-4f1f-a848-244ad41360a8",
   "metadata": {},
   "outputs": [],
   "source": [
    "# Child Class\n",
    "class Car(Vehicle):\n",
    "    def __init__(self,make,model,fuel,air_conditioning,sunroof):\n",
    "        # Parent Attributes\n",
    "        Vehicle.make=make\n",
    "        Vehicle.__model=model\n",
    "        Vehicle.__fuel=fuel\n",
    "        self.air_conditioning=air_conditioning\n",
    "        self.sunroof=sunroof\n",
    "    def __show_parent_attribute(self):\n",
    "        print(Vehicle.make,\" \",Vehicle.__model,\" \",Vehicle.__fuel)\n",
    "    def __show_privatemethod_ofparent(self):\n",
    "        self._Vehicle__private_method_parent()\n",
    "        "
   ]
  },
  {
   "cell_type": "code",
   "execution_count": 47,
   "id": "9232392b-be9f-4ebf-b894-a24ce2fc3e59",
   "metadata": {},
   "outputs": [],
   "source": [
    "obj = Car('Tesla',2022,'Electric',True,True)"
   ]
  },
  {
   "cell_type": "code",
   "execution_count": 43,
   "id": "1827e0be-626b-4328-b779-9082def524db",
   "metadata": {},
   "outputs": [
    {
     "data": {
      "text/plain": [
       "{'air_conditioning': True, 'sunroof': True}"
      ]
     },
     "execution_count": 43,
     "metadata": {},
     "output_type": "execute_result"
    }
   ],
   "source": [
    "obj.__dict__"
   ]
  },
  {
   "cell_type": "code",
   "execution_count": 5,
   "id": "8c35ee89-bf78-49e0-8099-5f9dec26de7a",
   "metadata": {},
   "outputs": [
    {
     "name": "stdout",
     "output_type": "stream",
     "text": [
      "Tesla   2022   Electric\n"
     ]
    }
   ],
   "source": [
    "obj.show_parent_attribute()"
   ]
  },
  {
   "cell_type": "code",
   "execution_count": 6,
   "id": "224c1d43-e2e1-4a67-bf63-0c5ddb735bd4",
   "metadata": {},
   "outputs": [
    {
     "data": {
      "text/plain": [
       "'Tesla'"
      ]
     },
     "execution_count": 6,
     "metadata": {},
     "output_type": "execute_result"
    }
   ],
   "source": [
    "obj.make"
   ]
  },
  {
   "cell_type": "code",
   "execution_count": 28,
   "id": "3d1fd13f-5d7d-43c9-93a9-89176dd0b21e",
   "metadata": {},
   "outputs": [],
   "source": [
    "obj2 = Vehicle('Tata',2020,True)"
   ]
  },
  {
   "cell_type": "code",
   "execution_count": 29,
   "id": "1f1d5b21-5c82-4227-a39f-b1205ae41e22",
   "metadata": {},
   "outputs": [
    {
     "data": {
      "text/plain": [
       "{'make': 'Tata', '_Vehicle__model': 2020, '_Vehicle__fuel': True}"
      ]
     },
     "execution_count": 29,
     "metadata": {},
     "output_type": "execute_result"
    }
   ],
   "source": [
    "obj2.__dict__"
   ]
  },
  {
   "cell_type": "code",
   "execution_count": 31,
   "id": "a4925b55-8863-4caf-84be-9215fb5f3027",
   "metadata": {},
   "outputs": [
    {
     "data": {
      "text/plain": [
       "2020"
      ]
     },
     "execution_count": 31,
     "metadata": {},
     "output_type": "execute_result"
    }
   ],
   "source": [
    "obj2._Vehicle__model"
   ]
  },
  {
   "cell_type": "code",
   "execution_count": 35,
   "id": "c0adf2ca-0ee2-4a22-bf19-a8691854cd7c",
   "metadata": {},
   "outputs": [
    {
     "data": {
      "text/plain": [
       "{'air_conditioning': True, 'sunroof': True}"
      ]
     },
     "execution_count": 35,
     "metadata": {},
     "output_type": "execute_result"
    }
   ],
   "source": [
    "obj.__dict__"
   ]
  },
  {
   "cell_type": "code",
   "execution_count": 45,
   "id": "65f28456-9524-4a1f-9f56-523098d55bf0",
   "metadata": {},
   "outputs": [
    {
     "name": "stdout",
     "output_type": "stream",
     "text": [
      "Tesla   2022   Electric\n"
     ]
    }
   ],
   "source": [
    "obj._Car__show_parent_attribute()"
   ]
  },
  {
   "cell_type": "code",
   "execution_count": 48,
   "id": "0d9ad169-cb76-4c28-912b-0b66dff28d94",
   "metadata": {},
   "outputs": [
    {
     "name": "stdout",
     "output_type": "stream",
     "text": [
      "This is private\n"
     ]
    }
   ],
   "source": [
    "obj._Car__show_privatemethod_ofparent()"
   ]
  },
  {
   "cell_type": "code",
   "execution_count": null,
   "id": "45da8596-ed84-46bd-8094-6269482986f2",
   "metadata": {},
   "outputs": [],
   "source": []
  },
  {
   "cell_type": "code",
   "execution_count": null,
   "id": "a5fde85f-beb4-41f3-b1bb-d509877e123b",
   "metadata": {},
   "outputs": [],
   "source": []
  }
 ],
 "metadata": {
  "kernelspec": {
   "display_name": "Python 3 (ipykernel)",
   "language": "python",
   "name": "python3"
  },
  "language_info": {
   "codemirror_mode": {
    "name": "ipython",
    "version": 3
   },
   "file_extension": ".py",
   "mimetype": "text/x-python",
   "name": "python",
   "nbconvert_exporter": "python",
   "pygments_lexer": "ipython3",
   "version": "3.9.12"
  }
 },
 "nbformat": 4,
 "nbformat_minor": 5
}
