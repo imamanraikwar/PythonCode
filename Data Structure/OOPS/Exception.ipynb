{
 "cells": [
  {
   "cell_type": "code",
   "execution_count": 30,
   "id": "7a5cd8ee-3503-4348-aaf1-c04afc282dbc",
   "metadata": {},
   "outputs": [],
   "source": [
    "class NegativeZeroModelYear(Exception):\n",
    "    def __init__(self,value,message='Model year can not be equal or grater than 2021'):\n",
    "        self.value = value \n",
    "        self.message = message\n",
    "        super.__init__(self.message)\n",
    "        \n",
    "    def _str__(self):\n",
    "        return f'{self.message}-->{self.value}'"
   ]
  },
  {
   "cell_type": "code",
   "execution_count": 31,
   "id": "ffdde185-b219-4b03-b425-5ab4c25768d7",
   "metadata": {},
   "outputs": [],
   "source": [
    "class CarModleYearAsString(Exception):\n",
    "    def __init__(self,value,message='Model year can not be string. Try passing int value'):\n",
    "        self.value = value\n",
    "        self.message = message\n",
    "        super.__init__(self.message)\n",
    "        \n",
    "    def __str__(self):\n",
    "        return f'{self.message}-->{self.value}'"
   ]
  },
  {
   "cell_type": "code",
   "execution_count": 48,
   "id": "b5fbca62-9b02-4801-a548-e2bf7f09a4ed",
   "metadata": {
    "tags": []
   },
   "outputs": [],
   "source": [
    "class Vehicle():\n",
    "    def __init__(self,make,model,fuel):\n",
    "        self.make = make\n",
    "        self.model = model\n",
    "        self.fuel = fuel\n",
    "        self.current_year = 2022\n",
    "        self.value = None\n",
    "        \n",
    "    def get_value(self):\n",
    "        try:\n",
    "            if type(self.model) == str :\n",
    "                status = 'custom'\n",
    "                raise CarModleYearAsString(self.model)\n",
    "            elif self.model >= self.current_year:\n",
    "                status = 'custom'\n",
    "                raise NegativeZeroModelYear(self.model)\n",
    "            else :\n",
    "                status = \"Success\"\n",
    "                self.age = self.current_year - self.make\n",
    "                self.value = 1000*(1/self.age)\n",
    "            \n",
    "        except TypeError:\n",
    "            self.age = self.current_year - int(self.model)\n",
    "            self.value = 1000*(1/self.age)\n",
    "            status = 'Inbuilt'\n",
    "        else :\n",
    "            print('code run without exception')\n",
    "        finally :\n",
    "            if status == 'custom':\n",
    "                print('code has custome exception')            \n",
    "            elif status == 'Inbuilt':\n",
    "                print('code has Inbuilt exception')\n",
    "            else :\n",
    "                print('The value without exception-',self.value)\n",
    "        "
   ]
  },
  {
   "cell_type": "code",
   "execution_count": 50,
   "id": "f62a3598-7c35-4c35-a1ad-1fe8aa281bf0",
   "metadata": {},
   "outputs": [
    {
     "name": "stdout",
     "output_type": "stream",
     "text": [
      "code has Inbuilt exception\n"
     ]
    }
   ],
   "source": [
    "obj = Vehicle('Tesla', 2020 ,'electric')\n",
    "obj.get_value()"
   ]
  },
  {
   "cell_type": "code",
   "execution_count": null,
   "id": "1c145c6b-d195-499c-b980-705970dc3fe6",
   "metadata": {},
   "outputs": [],
   "source": []
  },
  {
   "cell_type": "code",
   "execution_count": 53,
   "id": "fbb99166-2108-4a1b-a152-24e8f6aee4da",
   "metadata": {},
   "outputs": [
    {
     "name": "stdout",
     "output_type": "stream",
     "text": [
      "Zero Division Error occured "
     ]
    }
   ],
   "source": [
    "class ZeroDenominatorError(ZeroDivisionError):\n",
    "    pass\n",
    "try:\n",
    "    a = 10\n",
    "    b = 0\n",
    "    if(b==0):\n",
    "        raise ZeroDenominatorError()\n",
    "    c = a/b\n",
    "except ZeroDivisionError:\n",
    "    print('Zero Division Error occured',end= ' ')\n",
    "except ZeroDenominatorError:\n",
    "    print('Zero Denominator Error occured',end = ' ')\n",
    "else:\n",
    "    print('else works')"
   ]
  },
  {
   "cell_type": "code",
   "execution_count": 54,
   "id": "bf235153-21ca-4e2d-8820-863405b62453",
   "metadata": {},
   "outputs": [
    {
     "ename": "ZeroDenominatorError",
     "evalue": "",
     "output_type": "error",
     "traceback": [
      "\u001b[1;31m---------------------------------------------------------------------------\u001b[0m",
      "\u001b[1;31mZeroDenominatorError\u001b[0m                      Traceback (most recent call last)",
      "Input \u001b[1;32mIn [54]\u001b[0m, in \u001b[0;36m<cell line: 3>\u001b[1;34m()\u001b[0m\n\u001b[0;32m      5\u001b[0m     b \u001b[38;5;241m=\u001b[39m \u001b[38;5;241m0\u001b[39m\n\u001b[0;32m      6\u001b[0m     \u001b[38;5;28;01mif\u001b[39;00m(b\u001b[38;5;241m==\u001b[39m\u001b[38;5;241m0\u001b[39m):\n\u001b[1;32m----> 7\u001b[0m         \u001b[38;5;28;01mraise\u001b[39;00m ZeroDenominatorError() \n\u001b[0;32m      8\u001b[0m     c \u001b[38;5;241m=\u001b[39m a\u001b[38;5;241m/\u001b[39mb\n\u001b[0;32m      9\u001b[0m \u001b[38;5;28;01mexcept\u001b[39;00m \u001b[38;5;167;01mZeroDivisionError\u001b[39;00m:\n",
      "\u001b[1;31mZeroDenominatorError\u001b[0m: "
     ]
    }
   ],
   "source": [
    "class ZeroDenominatorError(Exception):\n",
    "    pass\n",
    "try:\n",
    "    a = 10\n",
    "    b = 0\n",
    "    if(b==0):\n",
    "        raise ZeroDenominatorError() \n",
    "    c = a/b\n",
    "except ZeroDivisionError:\n",
    "    print('Zero Division Error occured')"
   ]
  },
  {
   "cell_type": "code",
   "execution_count": 62,
   "id": "4d223b50-ffca-40a3-b9c4-8bd16ead7c7b",
   "metadata": {},
   "outputs": [
    {
     "name": "stdout",
     "output_type": "stream",
     "text": [
      "5\n",
      "3\n",
      "[2, 0, 2]\n",
      "0\n"
     ]
    }
   ],
   "source": [
    "a = [[2,0,2] ,[2,0,2],[2,0,2],[2,0,2],[2,0,2]]\n",
    "print(len(a))\n",
    "print(len(a[0]))\n",
    "print(a[0])\n",
    "b = list(list())\n",
    "print(len(b))\n",
    "append.b"
   ]
  },
  {
   "cell_type": "code",
   "execution_count": null,
   "id": "489ebaa7-e307-4175-9161-a7e5d5fd5cf5",
   "metadata": {},
   "outputs": [],
   "source": []
  },
  {
   "cell_type": "code",
   "execution_count": null,
   "id": "430abdb1-fb97-4cea-b2ba-00f3a1d3f718",
   "metadata": {},
   "outputs": [],
   "source": []
  }
 ],
 "metadata": {
  "kernelspec": {
   "display_name": "Python 3 (ipykernel)",
   "language": "python",
   "name": "python3"
  },
  "language_info": {
   "codemirror_mode": {
    "name": "ipython",
    "version": 3
   },
   "file_extension": ".py",
   "mimetype": "text/x-python",
   "name": "python",
   "nbconvert_exporter": "python",
   "pygments_lexer": "ipython3",
   "version": "3.9.12"
  }
 },
 "nbformat": 4,
 "nbformat_minor": 5
}
