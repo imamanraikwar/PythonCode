{
 "cells": [
  {
   "cell_type": "code",
   "execution_count": 46,
   "id": "51a4fc4b",
   "metadata": {},
   "outputs": [],
   "source": [
    "class MapNode :\n",
    "    def __init__(self,key,value):\n",
    "        self.key = key\n",
    "        self.value = value\n",
    "        self.next = None"
   ]
  },
  {
   "cell_type": "code",
   "execution_count": 51,
   "id": "099328b9",
   "metadata": {},
   "outputs": [],
   "source": [
    "class Map :\n",
    "    def __init__(self):\n",
    "        self.bucketSize = 5\n",
    "        self.bucket = [None for i in range(self.bucketSize)]\n",
    "        self.count = 0\n",
    "        \n",
    "    def getIndex(self,hashValue):\n",
    "        return abs(hashValue) % self.bucketSize\n",
    "    \n",
    "    def size(self):\n",
    "        return self.count\n",
    "    \n",
    "    def remove(self,key):\n",
    "        index = self.getIndex(hash(key))\n",
    "        head = self.bucket[index]\n",
    "        prev = None \n",
    "        while head is not None :\n",
    "            if head.key == key :\n",
    "                if prev is None :\n",
    "                    self.bucket[index] = head.next\n",
    "                else :\n",
    "                    prev.next =  head.next\n",
    "                self.count -= 1\n",
    "                return head.value\n",
    "            prev = head\n",
    "            head = head.next\n",
    "        \n",
    "    \n",
    "    def getValue(self,key):\n",
    "        index = self.getIndex(hash(key))\n",
    "        head = self.bucket[index]\n",
    "        while head is not None:\n",
    "            if head.key == key :\n",
    "                return head.value\n",
    "            head = head.next\n",
    "        return None\n",
    "    \n",
    "    def insert(self,key,value):\n",
    "        hashValue = hash(key)\n",
    "        index = self.getIndex(hashValue)\n",
    "        head = self.bucket[index]\n",
    "        while head is not None :\n",
    "            if head.key == key:\n",
    "                head.value = value\n",
    "                return\n",
    "            head = head.next\n",
    "        head = self.bucket[index]\n",
    "        newNode = MapNode(key,value)\n",
    "        newNode.next = head\n",
    "        self.bucket[index] = newNode\n",
    "        self.count += 1\n",
    "        \n",
    "    \n",
    "        \n",
    "     "
   ]
  },
  {
   "cell_type": "code",
   "execution_count": 53,
   "id": "ca107e3e",
   "metadata": {},
   "outputs": [
    {
     "name": "stdout",
     "output_type": "stream",
     "text": [
      "1\n",
      "2\n",
      "3\n",
      "None\n"
     ]
    }
   ],
   "source": [
    "m = Map()\n",
    "m.insert('A',1)\n",
    "m.insert('B',2)\n",
    "#print(m.size())\n",
    "m.insert('C',3)\n",
    "#print(m.size())\n",
    "print(m.getValue('A'))\n",
    "print(m.getValue('B'))\n",
    "print(m.remove('C'))\n",
    "print(m.getValue('C'))"
   ]
  },
  {
   "cell_type": "code",
   "execution_count": 57,
   "id": "b4c99e42",
   "metadata": {},
   "outputs": [
    {
     "name": "stdout",
     "output_type": "stream",
     "text": [
      "5\n",
      "15\n"
     ]
    }
   ],
   "source": [
    "print(hash(5))\n",
    "print(hash(15))"
   ]
  },
  {
   "cell_type": "code",
   "execution_count": null,
   "id": "5cde61a9",
   "metadata": {},
   "outputs": [],
   "source": []
  }
 ],
 "metadata": {
  "hide_input": false,
  "kernelspec": {
   "display_name": "Python 3 (ipykernel)",
   "language": "python",
   "name": "python3"
  },
  "language_info": {
   "codemirror_mode": {
    "name": "ipython",
    "version": 3
   },
   "file_extension": ".py",
   "mimetype": "text/x-python",
   "name": "python",
   "nbconvert_exporter": "python",
   "pygments_lexer": "ipython3",
   "version": "3.9.12"
  }
 },
 "nbformat": 4,
 "nbformat_minor": 5
}
