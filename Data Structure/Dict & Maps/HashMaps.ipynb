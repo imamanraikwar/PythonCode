{
 "cells": [
  {
   "cell_type": "code",
   "execution_count": 3,
   "id": "b18d9ae5",
   "metadata": {},
   "outputs": [],
   "source": [
    "class MapNode:\n",
    "    def __init__(self,key,value):\n",
    "        self.key=key\n",
    "        self.value=value\n",
    "        self.next=None\n"
   ]
  },
  {
   "cell_type": "code",
   "execution_count": 4,
   "id": "aaa7ee6d",
   "metadata": {},
   "outputs": [],
   "source": [
    "class Map:\n",
    "    \n",
    "    def __init__(self):\n",
    "        self.bucketSize=10\n",
    "        self.buckets=[None for i in range(self.bucketSize)]\n",
    "        self.count=0\n",
    "        \n",
    "    def size(self):\n",
    "        return self.count\n",
    "    \n",
    "    def getBucketIndex(self,hc):\n",
    "        return (abs(hc)%(self.bucketSize))\n",
    "    \n",
    "    def getValue(self,key):\n",
    "        hc=hash(key)\n",
    "        index=self.getBucketIndex(hc)\n",
    "        head=self.buckets[index]\n",
    "        while head is not None:\n",
    "            if head.key==key:\n",
    "                return head.value\n",
    "            head=head.next\n",
    "        return None\n",
    "    \n",
    "    def remove(self,key):\n",
    "        hc=hash(key)\n",
    "        index=self.getBucketIndex(hc)\n",
    "        head=self.buckets[index]\n",
    "        prev=None\n",
    "        while head is not None:\n",
    "            if head.key==key:\n",
    "                \n",
    "                if prev is None:\n",
    "                    self.buckets[index]=head.next\n",
    "                else:\n",
    "                    prev.next=head.next\n",
    "                self.count -= 1\n",
    "                return head.value\n",
    "            prev=head\n",
    "            head=head.next\n",
    "            \n",
    "    def rehash(self):\n",
    "        temp=self.buckets\n",
    "        self.buckets=[None for i in range(2*self.bucketSize)]\n",
    "        self.bucketSize=2*self.bucketSize\n",
    "        self.count=0\n",
    "        for head in temp:\n",
    "            while head is not None:\n",
    "                self.insert(head.key,head.value)\n",
    "                head=head.next\n",
    "                \n",
    "    def loadFactor(self):\n",
    "        return self.count/self.bucketSize\n",
    "    \n",
    "    def insert(self,key,value):\n",
    "        hc=hash(key)\n",
    "        #print(hc)\n",
    "        index=self.getBucketIndex(hc)\n",
    "        #print(index)\n",
    "        head=self.buckets[index]\n",
    "        currhead = head\n",
    "        while head is not None:\n",
    "            if head.key==key:\n",
    "                head.value=value\n",
    "                return\n",
    "            head=head.next\n",
    "        newNode=MapNode(key,value)\n",
    "        newNode.next=currhead\n",
    "        self.buckets[index]=newNode\n",
    "        self.count+=1\n",
    "        loadFactor=self.count/self.bucketSize\n",
    "        if loadFactor>=0.7:\n",
    "            self.rehash()\n",
    "\n",
    "        \n",
    "    "
   ]
  },
  {
   "cell_type": "code",
   "execution_count": 5,
   "id": "b2b3bcb4",
   "metadata": {},
   "outputs": [
    {
     "name": "stdout",
     "output_type": "stream",
     "text": [
      "1\n",
      "2\n",
      "5\n",
      "6\n",
      "2\n",
      "5\n",
      "None\n"
     ]
    }
   ],
   "source": [
    "m=Map()\n",
    "m.insert('A',1)\n",
    "print(m.getValue('A'))\n",
    "m.insert('B',2)\n",
    "print(m.getValue('B'))\n",
    "m.insert('E',5)\n",
    "print(m.getValue('E'))\n",
    "m.insert('e',6)\n",
    "print(m.getValue('e'))\n",
    "print(m.getValue('B'))\n",
    "print(m.remove('E'))\n",
    "print(m.remove('E'))"
   ]
  },
  {
   "cell_type": "code",
   "execution_count": null,
   "id": "b0a88bd7",
   "metadata": {},
   "outputs": [],
   "source": []
  },
  {
   "cell_type": "code",
   "execution_count": null,
   "id": "6a3785b5",
   "metadata": {},
   "outputs": [],
   "source": []
  }
 ],
 "metadata": {
  "hide_input": false,
  "kernelspec": {
   "display_name": "Python 3 (ipykernel)",
   "language": "python",
   "name": "python3"
  },
  "language_info": {
   "codemirror_mode": {
    "name": "ipython",
    "version": 3
   },
   "file_extension": ".py",
   "mimetype": "text/x-python",
   "name": "python",
   "nbconvert_exporter": "python",
   "pygments_lexer": "ipython3",
   "version": "3.9.12"
  }
 },
 "nbformat": 4,
 "nbformat_minor": 5
}
