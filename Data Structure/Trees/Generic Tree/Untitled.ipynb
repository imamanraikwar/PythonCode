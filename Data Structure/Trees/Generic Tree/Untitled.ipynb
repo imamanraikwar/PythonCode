{
 "cells": [
  {
   "cell_type": "code",
   "execution_count": 21,
   "id": "64769f0a",
   "metadata": {},
   "outputs": [],
   "source": [
    "class TreeNode :\n",
    "    def __init__(self,data):\n",
    "        self.data = data\n",
    "        self.children = list()\n"
   ]
  },
  {
   "cell_type": "code",
   "execution_count": 32,
   "id": "db2dbf6c",
   "metadata": {},
   "outputs": [],
   "source": [
    "\n",
    "def takeInputHelper(root,num):\n",
    "    \n",
    "    for i in range(1,num+1):\n",
    "        print('Enter ',i,' children of root ',root.data)\n",
    "        data = int(input())\n",
    "        childroot = TreeNode(data)\n",
    "        root.children.append(childroot)\n",
    "        print('How many children of root',data)\n",
    "        num = int(input())\n",
    "        takeInputHelper(childroot,num)\n",
    "\n",
    "\n",
    "        \n",
    "def takeTreeInput():\n",
    "    print('Enter Root Data')\n",
    "    rootData=int(input())\n",
    "    if rootData==-1:\n",
    "        return None\n",
    "    \n",
    "    root=TreeNode(rootData)\n",
    "    \n",
    "    print('Enter number of children for',rootData)\n",
    "    childrenCount=int(input())\n",
    "    takeInputHelper(root,childrenCount)\n",
    "    return root\n",
    "\n",
    "\n",
    "\n",
    "def printTreeDetailed(root):\n",
    "    if root==None:\n",
    "        return\n",
    "    \n",
    "    print(root.data,end=\":\")\n",
    "    for child in root.children:\n",
    "        print(child.data,end=\",\")\n",
    "    print()\n",
    "    \n",
    "    for child in root.children:\n",
    "        printTreeDetailed(child)\n",
    "        \n",
    "def countNode(root):\n",
    "    if root is None :\n",
    "        return 0\n",
    "    count = 1\n",
    "    for child in root.children:\n",
    "        count = count + countNode(child)\n",
    "    return count\n",
    "        "
   ]
  },
  {
   "cell_type": "code",
   "execution_count": 33,
   "id": "be6ec40f",
   "metadata": {},
   "outputs": [
    {
     "name": "stdout",
     "output_type": "stream",
     "text": [
      "Enter Root Data\n",
      "1\n",
      "Enter number of children for 1\n",
      "2\n",
      "Enter  1  children of root  1\n",
      "2\n",
      "How many children of root 2\n",
      "0\n",
      "Enter  2  children of root  1\n",
      "3\n",
      "How many children of root 3\n",
      "0\n",
      "1:2,3,\n",
      "2:\n",
      "3:\n",
      "Number of Node is  3\n"
     ]
    }
   ],
   "source": [
    "root = takeTreeInput()\n",
    "#print(root.data)\n",
    "#print(root.children.data)\n",
    "#printTree(root)\n",
    "printTreeDetailed(root)\n",
    "print('Number of Node is ',countNode(root))"
   ]
  },
  {
   "cell_type": "code",
   "execution_count": null,
   "id": "bc9f68ff",
   "metadata": {},
   "outputs": [],
   "source": []
  }
 ],
 "metadata": {
  "hide_input": false,
  "kernelspec": {
   "display_name": "Python 3 (ipykernel)",
   "language": "python",
   "name": "python3"
  },
  "language_info": {
   "codemirror_mode": {
    "name": "ipython",
    "version": 3
   },
   "file_extension": ".py",
   "mimetype": "text/x-python",
   "name": "python",
   "nbconvert_exporter": "python",
   "pygments_lexer": "ipython3",
   "version": "3.9.12"
  }
 },
 "nbformat": 4,
 "nbformat_minor": 5
}
