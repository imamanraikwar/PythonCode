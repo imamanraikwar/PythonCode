{
 "cells": [
  {
   "cell_type": "markdown",
   "id": "aa5be2e2",
   "metadata": {},
   "source": [
    "## Remove leaves "
   ]
  },
  {
   "cell_type": "code",
   "execution_count": 13,
   "id": "ea324466",
   "metadata": {},
   "outputs": [],
   "source": [
    "class BinaryTreeNode:\n",
    "    def __init__(self,data):\n",
    "        self.data = data\n",
    "        self.left = None\n",
    "        self.right = None"
   ]
  },
  {
   "cell_type": "code",
   "execution_count": 14,
   "id": "f42efbfd",
   "metadata": {},
   "outputs": [],
   "source": [
    "def takeBInput():\n",
    "    data = int(input())\n",
    "    if data == -1 :\n",
    "        return\n",
    "    root = BinaryTreeNode(data)\n",
    "    root.left = takeBInput()\n",
    "    root.right = takeBInput()\n",
    "    return root\n",
    "    "
   ]
  },
  {
   "cell_type": "code",
   "execution_count": 15,
   "id": "d16321c0",
   "metadata": {},
   "outputs": [],
   "source": [
    "def printBT(node):\n",
    "    if node is None :\n",
    "        return\n",
    "    \n",
    "    print(node.data,':',end=' ')\n",
    "    if node.left is not None :\n",
    "        print('L',node.left.data,',',end=' ')\n",
    "    if node.right is not None :\n",
    "        print('R',node.right.data,end=' ')\n",
    "    print()\n",
    "    if node.left is not None :\n",
    "        printBT(node.left)\n",
    "    if node.right is not None:\n",
    "        printBT(node.right)"
   ]
  },
  {
   "cell_type": "code",
   "execution_count": 18,
   "id": "cc53ed11",
   "metadata": {},
   "outputs": [],
   "source": [
    "def height(node):\n",
    "    if node is None :\n",
    "        return 0    \n",
    "    l = height(node.left)\n",
    "    r = height(node.right)    \n",
    "    return 1 + max (l , r)"
   ]
  },
  {
   "cell_type": "code",
   "execution_count": null,
   "id": "41fb1bdb",
   "metadata": {},
   "outputs": [],
   "source": [
    "\n",
    "    "
   ]
  },
  {
   "cell_type": "code",
   "execution_count": 16,
   "id": "31e7c718",
   "metadata": {},
   "outputs": [
    {
     "name": "stdout",
     "output_type": "stream",
     "text": [
      "1\n",
      "2\n",
      "-1\n",
      "-1\n",
      "3\n",
      "-1\n",
      "-1\n",
      "1 : L 2 , R 3 \n",
      "2 : \n",
      "3 : \n"
     ]
    }
   ],
   "source": [
    "node = takeBInput()\n",
    "printBT(node)"
   ]
  },
  {
   "cell_type": "code",
   "execution_count": null,
   "id": "6612ad25",
   "metadata": {},
   "outputs": [],
   "source": []
  }
 ],
 "metadata": {
  "hide_input": false,
  "kernelspec": {
   "display_name": "Python 3 (ipykernel)",
   "language": "python",
   "name": "python3"
  },
  "language_info": {
   "codemirror_mode": {
    "name": "ipython",
    "version": 3
   },
   "file_extension": ".py",
   "mimetype": "text/x-python",
   "name": "python",
   "nbconvert_exporter": "python",
   "pygments_lexer": "ipython3",
   "version": "3.10.8"
  }
 },
 "nbformat": 4,
 "nbformat_minor": 5
}
