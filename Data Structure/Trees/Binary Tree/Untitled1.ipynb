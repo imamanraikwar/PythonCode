{
 "cells": [
  {
   "cell_type": "code",
   "execution_count": 4,
   "id": "1aa8d505",
   "metadata": {},
   "outputs": [],
   "source": [
    "from sys import stdin, setrecursionlimit\n",
    "import queue"
   ]
  },
  {
   "cell_type": "code",
   "execution_count": 5,
   "id": "c7c39990",
   "metadata": {},
   "outputs": [],
   "source": [
    "class BinaryTreeNode:\n",
    "    def __init__(self, data):\n",
    "        self.data = data\n",
    "        self.left = None\n",
    "        self.right = None"
   ]
  },
  {
   "cell_type": "code",
   "execution_count": 7,
   "id": "ecf11263",
   "metadata": {},
   "outputs": [],
   "source": [
    "def takeInput():\n",
    "    levelOrder = [int(x) for x in input().split()]\n",
    "    start = 0\n",
    "    \n",
    "    length = len(levelOrder)\n",
    "\n",
    "    if length == 1 :\n",
    "        return None\n",
    "    \n",
    "    root = BinaryTreeNode(levelOrder[start])\n",
    "    start += 1\n",
    "\n",
    "    q = queue.Queue()\n",
    "    q.put(root)\n",
    "\n",
    "    while not q.empty():\n",
    "        currentNode = q.get()\n",
    "\n",
    "        leftChild = levelOrder[start]\n",
    "        start += 1\n",
    "\n",
    "        if leftChild != -1:\n",
    "            leftNode = BinaryTreeNode(leftChild)\n",
    "            currentNode.left =leftNode\n",
    "            q.put(leftNode)\n",
    "\n",
    "        rightChild = levelOrder[start]\n",
    "        start += 1\n",
    "\n",
    "        if rightChild != -1:\n",
    "            rightNode = BinaryTreeNode(rightChild)\n",
    "            currentNode.right =rightNode\n",
    "            q.put(rightNode)\n",
    "\n",
    "    return root\n",
    "\n",
    "    "
   ]
  },
  {
   "cell_type": "code",
   "execution_count": 12,
   "id": "3214338b",
   "metadata": {},
   "outputs": [],
   "source": [
    "def targetFind(root,target):  \n",
    "    \n",
    "    if root is None :\n",
    "        return\n",
    "    \n",
    "    if root.data == target :\n",
    "        return root.data\n",
    "\n",
    "\n",
    "    data = root.data\n",
    "    targetFind(root.left,target)\n",
    "    targetFind(root.right,target)\n",
    "\n",
    "    print(root.data)\n",
    "        \n",
    "        \n",
    "    \n",
    "    "
   ]
  },
  {
   "cell_type": "code",
   "execution_count": 13,
   "id": "9abdb2ae",
   "metadata": {},
   "outputs": [
    {
     "name": "stdout",
     "output_type": "stream",
     "text": [
      "8 3 10 1 6 -1 14 -1 -1 4 7 13 -1 -1 -1 -1 -1 -1 -1 14\n",
      "14\n",
      "1\n",
      "4\n",
      "7\n",
      "6\n",
      "3\n",
      "10\n",
      "8\n"
     ]
    }
   ],
   "source": [
    "root = takeInput()\n",
    "target = int(input())\n",
    "\n",
    "targetFind(root,target)"
   ]
  },
  {
   "cell_type": "code",
   "execution_count": null,
   "id": "f0329e37",
   "metadata": {},
   "outputs": [],
   "source": []
  }
 ],
 "metadata": {
  "hide_input": false,
  "kernelspec": {
   "display_name": "Python 3 (ipykernel)",
   "language": "python",
   "name": "python3"
  },
  "language_info": {
   "codemirror_mode": {
    "name": "ipython",
    "version": 3
   },
   "file_extension": ".py",
   "mimetype": "text/x-python",
   "name": "python",
   "nbconvert_exporter": "python",
   "pygments_lexer": "ipython3",
   "version": "3.9.12"
  }
 },
 "nbformat": 4,
 "nbformat_minor": 5
}
