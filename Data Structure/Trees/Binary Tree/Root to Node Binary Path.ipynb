{
 "cells": [
  {
   "cell_type": "code",
   "execution_count": 47,
   "id": "077ec3fe",
   "metadata": {},
   "outputs": [],
   "source": [
    "import queue"
   ]
  },
  {
   "cell_type": "code",
   "execution_count": 48,
   "id": "cdbb7408",
   "metadata": {},
   "outputs": [],
   "source": [
    "class BinaryNode :\n",
    "    def __init__(self,data):\n",
    "        self.data = data\n",
    "        self.left = None \n",
    "        self.right = None\n",
    "        "
   ]
  },
  {
   "cell_type": "code",
   "execution_count": 49,
   "id": "3f7b2147",
   "metadata": {},
   "outputs": [],
   "source": [
    "def takeInputLevelWise():\n",
    "    q = queue.Queue()\n",
    "    \n",
    "    rootData = int(input('Enter Root Data: '))\n",
    "    if rootData == -1 :\n",
    "        return None\n",
    "    \n",
    "    rootNode = BinaryNode(rootData)\n",
    "    q.put(rootNode)\n",
    "    \n",
    "    while not q.empty() :\n",
    "        root = q.get()\n",
    "        print('Enter left Node Data of ',root.data, ' :')\n",
    "        left_data = int(input())\n",
    "        if left_data != -1:\n",
    "            left_node = BinaryNode(left_data)\n",
    "            root.left = left_node\n",
    "            q.put(left_node)\n",
    "            \n",
    "        print('Enter right Node Data of ',root.data, ' :')    \n",
    "        right_data = int(input())\n",
    "        if right_data != -1:\n",
    "            right_node = BinaryNode(right_data)\n",
    "            root.right = right_node\n",
    "            q.put(right_node)\n",
    "            \n",
    "    return rootNode\n",
    "        "
   ]
  },
  {
   "cell_type": "code",
   "execution_count": 50,
   "id": "103f7307",
   "metadata": {},
   "outputs": [],
   "source": [
    "def printLevelWise(node):\n",
    "    if node is None:\n",
    "        return\n",
    "    \n",
    "    q = queue.Queue()\n",
    "    q.put(node)\n",
    "    q.put(None)\n",
    "    while not q.empty():\n",
    "        node = q.get()\n",
    "        \n",
    "        if node is None :\n",
    "            print()\n",
    "            \n",
    "            if not q.empty():\n",
    "                q.put(None)\n",
    "        else :\n",
    "            print(node.data,end=' ')\n",
    "            if node.left is not None :\n",
    "                q.put(node.left)\n",
    "            if node.right is not None :\n",
    "                q.put(node.right)"
   ]
  },
  {
   "cell_type": "code",
   "execution_count": 51,
   "id": "a3aa028e",
   "metadata": {},
   "outputs": [],
   "source": [
    "def noodToRootPath(root,s):\n",
    "    if root is None :\n",
    "        return None\n",
    "    if root.data == s :\n",
    "        l = []\n",
    "        l.append(s)\n",
    "        return l\n",
    "    \n",
    "    left_data = noodToRootPath(root.left,s)\n",
    "    if left_data != None:\n",
    "        left_data.append(root.data)\n",
    "        return left_data\n",
    "    right_data = noodToRootPath(root.righ,s)\n",
    "    if right_data != None:\n",
    "        right_data.append(root.data)\n",
    "        return right_data\n",
    "    else :\n",
    "        return None \n",
    "        "
   ]
  },
  {
   "cell_type": "code",
   "execution_count": 53,
   "id": "e9ff9746",
   "metadata": {},
   "outputs": [
    {
     "name": "stdout",
     "output_type": "stream",
     "text": [
      "Enter Root Data: 1\n",
      "Enter left Node Data of  1  :\n",
      "2\n",
      "Enter right Node Data of  1  :\n",
      "-1\n",
      "Enter left Node Data of  2  :\n",
      "-1\n",
      "Enter right Node Data of  2  :\n",
      "-1\n",
      "1 \n",
      "2 \n",
      "Enter Search Element-2\n"
     ]
    },
    {
     "ename": "AttributeError",
     "evalue": "'BinaryNode' object has no attribute 'righ'",
     "output_type": "error",
     "traceback": [
      "\u001b[1;31m---------------------------------------------------------------------------\u001b[0m",
      "\u001b[1;31mAttributeError\u001b[0m                            Traceback (most recent call last)",
      "Input \u001b[1;32mIn [53]\u001b[0m, in \u001b[0;36m<cell line: 5>\u001b[1;34m()\u001b[0m\n\u001b[0;32m      2\u001b[0m printLevelWise(root)\n\u001b[0;32m      3\u001b[0m n \u001b[38;5;241m=\u001b[39m \u001b[38;5;28mint\u001b[39m(\u001b[38;5;28minput\u001b[39m(\u001b[38;5;124m'\u001b[39m\u001b[38;5;124mEnter Search Element\u001b[39m\u001b[38;5;124m'\u001b[39m) )\n\u001b[1;32m----> 5\u001b[0m ans \u001b[38;5;241m=\u001b[39m \u001b[43mnoodToRootPath\u001b[49m\u001b[43m(\u001b[49m\u001b[43mroot\u001b[49m\u001b[43m,\u001b[49m\u001b[43mn\u001b[49m\u001b[43m)\u001b[49m\n\u001b[0;32m      6\u001b[0m \u001b[38;5;28mprint\u001b[39m(ans)\n",
      "Input \u001b[1;32mIn [51]\u001b[0m, in \u001b[0;36mnoodToRootPath\u001b[1;34m(root, s)\u001b[0m\n\u001b[0;32m      6\u001b[0m     l\u001b[38;5;241m.\u001b[39mappend(s)\n\u001b[0;32m      7\u001b[0m     \u001b[38;5;28;01mreturn\u001b[39;00m l\n\u001b[1;32m----> 9\u001b[0m left_data \u001b[38;5;241m=\u001b[39m \u001b[43mnoodToRootPath\u001b[49m\u001b[43m(\u001b[49m\u001b[43mroot\u001b[49m\u001b[38;5;241;43m.\u001b[39;49m\u001b[43mleft\u001b[49m\u001b[43m,\u001b[49m\u001b[43ms\u001b[49m\u001b[43m)\u001b[49m\n\u001b[0;32m     10\u001b[0m \u001b[38;5;28;01mif\u001b[39;00m left_data \u001b[38;5;241m!=\u001b[39m \u001b[38;5;28;01mNone\u001b[39;00m:\n\u001b[0;32m     11\u001b[0m     left_data\u001b[38;5;241m.\u001b[39mappend(root\u001b[38;5;241m.\u001b[39mdata)\n",
      "Input \u001b[1;32mIn [51]\u001b[0m, in \u001b[0;36mnoodToRootPath\u001b[1;34m(root, s)\u001b[0m\n\u001b[0;32m     11\u001b[0m     left_data\u001b[38;5;241m.\u001b[39mappend(root\u001b[38;5;241m.\u001b[39mdata)\n\u001b[0;32m     12\u001b[0m     \u001b[38;5;28;01mreturn\u001b[39;00m left_data\n\u001b[1;32m---> 13\u001b[0m right_data \u001b[38;5;241m=\u001b[39m noodToRootPath(\u001b[43mroot\u001b[49m\u001b[38;5;241;43m.\u001b[39;49m\u001b[43mrigh\u001b[49m,s)\n\u001b[0;32m     14\u001b[0m \u001b[38;5;28;01mif\u001b[39;00m right_data \u001b[38;5;241m!=\u001b[39m \u001b[38;5;28;01mNone\u001b[39;00m:\n\u001b[0;32m     15\u001b[0m     right_data\u001b[38;5;241m.\u001b[39mappend(root\u001b[38;5;241m.\u001b[39mdata)\n",
      "\u001b[1;31mAttributeError\u001b[0m: 'BinaryNode' object has no attribute 'righ'"
     ]
    }
   ],
   "source": [
    "root = takeInputLevelWise()\n",
    "printLevelWise(root)\n",
    "n = int(input('Enter Search Element') )\n",
    "\n",
    "ans = noodToRootPath(root,n)\n",
    "print(ans)"
   ]
  },
  {
   "cell_type": "code",
   "execution_count": null,
   "id": "6c14c8d2",
   "metadata": {},
   "outputs": [],
   "source": []
  },
  {
   "cell_type": "code",
   "execution_count": null,
   "id": "74a5b437",
   "metadata": {},
   "outputs": [],
   "source": []
  }
 ],
 "metadata": {
  "hide_input": false,
  "kernelspec": {
   "display_name": "Python 3 (ipykernel)",
   "language": "python",
   "name": "python3"
  },
  "language_info": {
   "codemirror_mode": {
    "name": "ipython",
    "version": 3
   },
   "file_extension": ".py",
   "mimetype": "text/x-python",
   "name": "python",
   "nbconvert_exporter": "python",
   "pygments_lexer": "ipython3",
   "version": "3.9.12"
  }
 },
 "nbformat": 4,
 "nbformat_minor": 5
}
