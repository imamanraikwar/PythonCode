{
 "cells": [
  {
   "cell_type": "code",
   "execution_count": 22,
   "id": "0e195e9a",
   "metadata": {},
   "outputs": [],
   "source": [
    "def celebrity(M, n):\n",
    "    # r=row number\n",
    "    r = 0\n",
    "    for i in range(1, n):\n",
    "        # checking if r th person knows i th person\n",
    "        if(M[r][i] == 1):\n",
    "            M[r][r] = 1\n",
    "            r = i\n",
    "        else:\n",
    "            M[i][i] = 1\n",
    "\n",
    "    for i in range(n):\n",
    "        # checking if i th person can be a celebrity or\n",
    "        # not\n",
    "        if(M[i][i] == 0):\n",
    "            flag = 0\n",
    "            # iterating in the i th column to check\n",
    "            # whether everyone knows i th person or not\n",
    "            for j in range(n):\n",
    "                # checking if M[j][i] is not a diagonal\n",
    "                # element and if j th person knows i th\n",
    "                    # person\n",
    "                if(j != i and M[j][i] == 0):\n",
    "                    flag = 1\n",
    "                    break\n",
    "            if(flag == 0):\n",
    "                return i\n",
    "\n",
    "    return -1 "
   ]
  },
  {
   "cell_type": "code",
   "execution_count": 23,
   "id": "3c4d362e",
   "metadata": {},
   "outputs": [],
   "source": [
    "def getMatrix(arr,n):\n",
    "    \n",
    "    matrix = []\n",
    "    arr1 = []\n",
    "    j = 0\n",
    "    for i in range(len(arr)):\n",
    "        if j < n :\n",
    "            arr1.append(arr[i])\n",
    "            j += 1\n",
    "        else :\n",
    "            matrix.append(arr1)\n",
    "            arr1 = []\n",
    "            arr1.append(arr[i])\n",
    "            j = 1\n",
    "            \n",
    "    matrix.append(arr1)\n",
    "    return matrix\n",
    "        "
   ]
  },
  {
   "cell_type": "code",
   "execution_count": 25,
   "id": "7d54255a",
   "metadata": {},
   "outputs": [
    {
     "name": "stdout",
     "output_type": "stream",
     "text": [
      "3\n",
      "0 1 0 0 0 0 0 1 0\n",
      "1\n"
     ]
    }
   ],
   "source": [
    "\n",
    "n = int(input())\n",
    "\n",
    "arr = [ int(x) for x in input().split()]\n",
    "\n",
    "m = getMatrix(arr,n)\n",
    "    \n",
    "a = celebrity(m, n)\n",
    "\n",
    "if a == -1 :\n",
    "    print('-1')\n",
    "else :\n",
    "    print(a)"
   ]
  },
  {
   "cell_type": "code",
   "execution_count": null,
   "id": "3360b80a",
   "metadata": {},
   "outputs": [],
   "source": []
  }
 ],
 "metadata": {
  "hide_input": false,
  "kernelspec": {
   "display_name": "Python 3 (ipykernel)",
   "language": "python",
   "name": "python3"
  },
  "language_info": {
   "codemirror_mode": {
    "name": "ipython",
    "version": 3
   },
   "file_extension": ".py",
   "mimetype": "text/x-python",
   "name": "python",
   "nbconvert_exporter": "python",
   "pygments_lexer": "ipython3",
   "version": "3.9.12"
  }
 },
 "nbformat": 4,
 "nbformat_minor": 5
}
