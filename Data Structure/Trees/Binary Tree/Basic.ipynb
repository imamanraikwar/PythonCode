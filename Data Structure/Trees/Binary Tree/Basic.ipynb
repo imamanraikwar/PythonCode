{
 "cells": [
  {
   "cell_type": "markdown",
   "id": "76ab4c8c",
   "metadata": {},
   "source": [
    "## Binary Tree Basics"
   ]
  },
  {
   "cell_type": "code",
   "execution_count": 3,
   "id": "34462369",
   "metadata": {},
   "outputs": [],
   "source": [
    "class BinaryTree:\n",
    "    def __init__(self,data):\n",
    "        self.data = data\n",
    "        self.left = None\n",
    "        self.right = None"
   ]
  },
  {
   "cell_type": "code",
   "execution_count": 4,
   "id": "e4914f50",
   "metadata": {},
   "outputs": [],
   "source": [
    "def printBT(node):\n",
    "    if node is None :\n",
    "        return\n",
    "    \n",
    "    print(node.data,':',end=' ')\n",
    "    if node.left is not None :\n",
    "        print('L',node.left.data,',',end=' ')\n",
    "    if node.right is not None :\n",
    "        print('R',node.right.data,end=' ')\n",
    "    print()\n",
    "    if node.left is not None :\n",
    "        printBT(node.left)\n",
    "    if node.right is not None:\n",
    "        printBT(node.right)"
   ]
  },
  {
   "cell_type": "code",
   "execution_count": 5,
   "id": "e0cdacd8",
   "metadata": {},
   "outputs": [],
   "source": [
    "bt1 = BinaryTree(1)\n",
    "bt2 = BinaryTree(2)\n",
    "bt3 = BinaryTree(3)\n",
    "\n",
    "bt1.left = bt2\n",
    "bt1.right = bt3"
   ]
  },
  {
   "cell_type": "code",
   "execution_count": 6,
   "id": "9e1ab990",
   "metadata": {},
   "outputs": [
    {
     "name": "stdout",
     "output_type": "stream",
     "text": [
      "1 : L 2 , R 3 \n",
      "2 : \n",
      "3 : \n"
     ]
    }
   ],
   "source": [
    "printBT(bt1)"
   ]
  },
  {
   "cell_type": "code",
   "execution_count": 7,
   "id": "7cd8c0fd",
   "metadata": {},
   "outputs": [],
   "source": [
    "def takeBInput():\n",
    "    data = int(input())\n",
    "    if data == -1 :\n",
    "        return\n",
    "    root = BinaryTree(data)\n",
    "    root.left = takeBInput()\n",
    "    root.right = takeBInput()\n",
    "    return root\n",
    "    "
   ]
  },
  {
   "cell_type": "code",
   "execution_count": 8,
   "id": "69704470",
   "metadata": {},
   "outputs": [],
   "source": [
    "def countNode(root):\n",
    "    if root is None :\n",
    "        return 0\n",
    "    leftcount = countNode(root.left)\n",
    "    rightcount = countNode(root.right)\n",
    "    return 1 + leftcount + rightcount"
   ]
  },
  {
   "cell_type": "code",
   "execution_count": 9,
   "id": "2ecabc2a",
   "metadata": {},
   "outputs": [],
   "source": [
    "def countleafNode(root):\n",
    "    if root is None :\n",
    "        return 0\n",
    "    \n",
    "    if root.left is  None and root.right is  None :\n",
    "        return 1\n",
    "    \n",
    "    leftLeaf = countleafNode(root.left)\n",
    "    rightLeaf = countleafNode(root.right)\n",
    "    \n",
    "    return leftLeaf + rightLeaf\n",
    "    \n",
    "    "
   ]
  },
  {
   "cell_type": "code",
   "execution_count": 10,
   "id": "eed4d2d7",
   "metadata": {},
   "outputs": [],
   "source": [
    "def height(node):\n",
    "    if node is None :\n",
    "        return 0\n",
    "    \n",
    "    l = height(node.left)\n",
    "    r = height(node.right)\n",
    "    \n",
    "    return 1 + max (l , r)"
   ]
  },
  {
   "cell_type": "code",
   "execution_count": 12,
   "id": "1378a48e",
   "metadata": {},
   "outputs": [
    {
     "name": "stdout",
     "output_type": "stream",
     "text": [
      "1\n",
      "2\n",
      "4\n",
      "6\n",
      "-1\n",
      "-1\n",
      "-1\n",
      "5\n",
      "-1\n",
      "-1\n",
      "3\n",
      "-1\n",
      "-1\n",
      "1 : L 2 , R 3 \n",
      "2 : L 4 , R 5 \n",
      "4 : L 6 , \n",
      "6 : \n",
      "5 : \n",
      "3 : \n",
      "6\n",
      "3\n",
      "4\n"
     ]
    }
   ],
   "source": [
    "root = takeBInput()\n",
    "printBT(root)\n",
    "print(countNode(root))\n",
    "print(countleafNode(root))\n",
    "print(height(root))"
   ]
  },
  {
   "cell_type": "code",
   "execution_count": null,
   "id": "0be308c9",
   "metadata": {},
   "outputs": [],
   "source": []
  }
 ],
 "metadata": {
  "hide_input": false,
  "kernelspec": {
   "display_name": "Python 3 (ipykernel)",
   "language": "python",
   "name": "python3"
  },
  "language_info": {
   "codemirror_mode": {
    "name": "ipython",
    "version": 3
   },
   "file_extension": ".py",
   "mimetype": "text/x-python",
   "name": "python",
   "nbconvert_exporter": "python",
   "pygments_lexer": "ipython3",
   "version": "3.9.12"
  }
 },
 "nbformat": 4,
 "nbformat_minor": 5
}
