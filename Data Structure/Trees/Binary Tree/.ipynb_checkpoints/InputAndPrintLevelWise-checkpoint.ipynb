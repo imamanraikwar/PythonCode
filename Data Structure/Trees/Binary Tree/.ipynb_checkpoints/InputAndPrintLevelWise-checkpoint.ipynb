{
 "cells": [
  {
   "cell_type": "code",
   "execution_count": 1,
   "id": "0774abfc",
   "metadata": {},
   "outputs": [],
   "source": [
    "import queue"
   ]
  },
  {
   "cell_type": "code",
   "execution_count": 2,
   "id": "32653143",
   "metadata": {},
   "outputs": [],
   "source": [
    "class BinaryTree:\n",
    "    def __init__(self,data):\n",
    "        self.data = data\n",
    "        self.left = None\n",
    "        self.right= None"
   ]
  },
  {
   "cell_type": "code",
   "execution_count": 12,
   "id": "02f8f9d7",
   "metadata": {},
   "outputs": [],
   "source": [
    "def takeInputLevelWise():\n",
    "    q = queue.Queue()\n",
    "    \n",
    "    rootData = int(input('Enter Root Data: '))\n",
    "    if rootData == -1 :\n",
    "        return None\n",
    "    \n",
    "    rootNode = BinaryTree(rootData)\n",
    "    q.put(rootNode)\n",
    "    \n",
    "    while not q.empty() :\n",
    "        root = q.get()\n",
    "        print('Enter left Node Data of ',root.data, ' :')\n",
    "        left_data = int(input())\n",
    "        if left_data != -1:\n",
    "            left_node = BinaryTree(left_data)\n",
    "            root.left = left_node\n",
    "            q.put(left_node)\n",
    "            \n",
    "        print('Enter right Node Data of ',root.data, ' :')    \n",
    "        right_data = int(input())\n",
    "        if right_data != -1:\n",
    "            right_node = BinaryTree(right_data)\n",
    "            root.right = right_node\n",
    "            q.put(right_node)\n",
    "            \n",
    "    return rootNode\n",
    "        \n",
    "        \n",
    "    \n",
    "    "
   ]
  },
  {
   "cell_type": "code",
   "execution_count": 22,
   "id": "62486e53",
   "metadata": {},
   "outputs": [],
   "source": [
    "def printLevelWise(node):\n",
    "    q = queue.Queue()\n",
    "    if node is None :\n",
    "        return\n",
    "    #print(node.data,end=' ')\n",
    "    q.put(node)\n",
    "    \n",
    "    while not q.empty():\n",
    "        rootNode = q.get()\n",
    "        print(rootNode.data,': ',end='')\n",
    "        if rootNode.left is not None :\n",
    "            print('L',rootNode.left.data,end='')\n",
    "            q.put(rootNode.left)\n",
    "        if rootNode.right is not None :\n",
    "            print(', R',rootNode.right.data,end='')\n",
    "            q.put(rootNode.right)\n",
    "        print()\n",
    "        "
   ]
  },
  {
   "cell_type": "code",
   "execution_count": 23,
   "id": "2de85c7f",
   "metadata": {},
   "outputs": [
    {
     "name": "stdout",
     "output_type": "stream",
     "text": [
      "Enter Root Data: 1\n",
      "Enter left Node Data of  1  :\n",
      "2\n",
      "Enter right Node Data of  1  :\n",
      "3\n",
      "Enter left Node Data of  2  :\n",
      "4\n",
      "Enter right Node Data of  2  :\n",
      "-1\n",
      "Enter left Node Data of  3  :\n",
      "-1\n",
      "Enter right Node Data of  3  :\n",
      "-1\n",
      "Enter left Node Data of  4  :\n",
      "-1\n",
      "Enter right Node Data of  4  :\n",
      "-1\n",
      "1 : L 2, R 3\n",
      "2 : L 4\n",
      "3 : \n",
      "4 : \n"
     ]
    }
   ],
   "source": [
    "root = takeInputLevelWise()\n",
    "printLevelWise(root)"
   ]
  },
  {
   "cell_type": "code",
   "execution_count": null,
   "id": "9510674d",
   "metadata": {},
   "outputs": [],
   "source": []
  },
  {
   "cell_type": "code",
   "execution_count": null,
   "id": "347c8b45",
   "metadata": {},
   "outputs": [],
   "source": []
  }
 ],
 "metadata": {
  "hide_input": false,
  "kernelspec": {
   "display_name": "Python 3 (ipykernel)",
   "language": "python",
   "name": "python3"
  },
  "language_info": {
   "codemirror_mode": {
    "name": "ipython",
    "version": 3
   },
   "file_extension": ".py",
   "mimetype": "text/x-python",
   "name": "python",
   "nbconvert_exporter": "python",
   "pygments_lexer": "ipython3",
   "version": "3.9.12"
  }
 },
 "nbformat": 4,
 "nbformat_minor": 5
}
