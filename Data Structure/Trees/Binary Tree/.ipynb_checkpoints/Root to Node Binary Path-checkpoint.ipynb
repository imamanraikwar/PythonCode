{
 "cells": [
  {
   "cell_type": "code",
   "execution_count": 2,
   "id": "51304c14",
   "metadata": {},
   "outputs": [],
   "source": [
    "import queue"
   ]
  },
  {
   "cell_type": "code",
   "execution_count": 3,
   "id": "b994ad77",
   "metadata": {},
   "outputs": [],
   "source": [
    "class BinaryNode :\n",
    "    def __init__(self,data):\n",
    "        self.data = data\n",
    "        self.left = None \n",
    "        self.right = None\n",
    "        "
   ]
  },
  {
   "cell_type": "code",
   "execution_count": 8,
   "id": "79fc47ab",
   "metadata": {},
   "outputs": [],
   "source": [
    "def takeLevelInput():\n",
    "    data = int(input())\n",
    "    if data == -1 :\n",
    "        return\n",
    "    root = BinaryNode(data)\n",
    "    q = queue.Queue()\n",
    "    q.put(root)\n",
    "    \n",
    "    while not q.empty():\n",
    "        root = q.get()\n",
    "        print('Enter left child of :', root.data)\n",
    "        data = int(input())\n",
    "        if data != -1 :\n",
    "            left_child = BinaryNode(data)\n",
    "            root.left = left_child\n",
    "            q.put(left_child)\n",
    "        print('Enter right child of:', root.data)\n",
    "        data = int(input())\n",
    "        if data != -1 :\n",
    "            right_child = BinaryNode(data)\n",
    "            root.right = right_child\n",
    "            q.put(right_child)\n",
    "    return root\n",
    "    "
   ]
  },
  {
   "cell_type": "code",
   "execution_count": 10,
   "id": "383ad9fa",
   "metadata": {},
   "outputs": [],
   "source": [
    "def printLevelWise(node):\n",
    "    if node is None:\n",
    "        return\n",
    "    \n",
    "    q = queue.Queue()\n",
    "    q.put(node)\n",
    "    q.put(None)\n",
    "    while not q.empty():\n",
    "        node = q.get()\n",
    "        \n",
    "        if node is None :\n",
    "            print()\n",
    "            \n",
    "            if not q.empty():\n",
    "                q.put(None)\n",
    "        else :\n",
    "            print(node.data,end=' ')\n",
    "            if node.left is not None :\n",
    "                q.put(node.left)\n",
    "            if node.right is not None :\n",
    "                q.put(node.right)"
   ]
  },
  {
   "cell_type": "code",
   "execution_count": 17,
   "id": "efac79d7",
   "metadata": {},
   "outputs": [],
   "source": [
    "def noodToRootPath(root,s):\n",
    "    if root is None :\n",
    "        return None\n",
    "    if root.data == s :\n",
    "        l = []\n",
    "        l.append(s)\n",
    "        return l\n",
    "    \n",
    "    list = noodToRootPath(root.left)\n",
    "    if list != None:\n",
    "        list.append(root.data)\n",
    "        return list\n",
    "    list = noodToRootPath(root.righ)\n",
    "    if list != None:\n",
    "        list.append(root.data)\n",
    "        return list\n",
    "    else :\n",
    "        return None \n",
    "        "
   ]
  },
  {
   "cell_type": "code",
   "execution_count": 19,
   "id": "4c122bc1",
   "metadata": {},
   "outputs": [
    {
     "name": "stdout",
     "output_type": "stream",
     "text": [
      "1\n",
      "Enter left child of : 1\n",
      "-1\n",
      "Enter right child of: 1\n",
      "-1\n",
      "1 \n",
      "Enter Search Element1\n"
     ]
    },
    {
     "ename": "UnboundLocalError",
     "evalue": "local variable 'list' referenced before assignment",
     "output_type": "error",
     "traceback": [
      "\u001b[1;31m---------------------------------------------------------------------------\u001b[0m",
      "\u001b[1;31mUnboundLocalError\u001b[0m                         Traceback (most recent call last)",
      "Input \u001b[1;32mIn [19]\u001b[0m, in \u001b[0;36m<cell line: 5>\u001b[1;34m()\u001b[0m\n\u001b[0;32m      2\u001b[0m printLevelWise(root)\n\u001b[0;32m      3\u001b[0m n \u001b[38;5;241m=\u001b[39m \u001b[38;5;28mint\u001b[39m(\u001b[38;5;28minput\u001b[39m(\u001b[38;5;124m'\u001b[39m\u001b[38;5;124mEnter Search Element\u001b[39m\u001b[38;5;124m'\u001b[39m) )\n\u001b[1;32m----> 5\u001b[0m ans \u001b[38;5;241m=\u001b[39m \u001b[43mnoodToRootPath\u001b[49m\u001b[43m(\u001b[49m\u001b[43mroot\u001b[49m\u001b[43m,\u001b[49m\u001b[43mn\u001b[49m\u001b[43m)\u001b[49m\n\u001b[0;32m      6\u001b[0m \u001b[38;5;28mprint\u001b[39m(ans)\n",
      "Input \u001b[1;32mIn [17]\u001b[0m, in \u001b[0;36mnoodToRootPath\u001b[1;34m(root, s)\u001b[0m\n\u001b[0;32m      3\u001b[0m     \u001b[38;5;28;01mreturn\u001b[39;00m \u001b[38;5;28;01mNone\u001b[39;00m\n\u001b[0;32m      4\u001b[0m \u001b[38;5;28;01mif\u001b[39;00m root\u001b[38;5;241m.\u001b[39mdata \u001b[38;5;241m==\u001b[39m s :\n\u001b[1;32m----> 5\u001b[0m     l \u001b[38;5;241m=\u001b[39m \u001b[38;5;28;43mlist\u001b[39;49m()\n\u001b[0;32m      6\u001b[0m     l\u001b[38;5;241m.\u001b[39mappend(s)\n\u001b[0;32m      7\u001b[0m     \u001b[38;5;28;01mreturn\u001b[39;00m l\n",
      "\u001b[1;31mUnboundLocalError\u001b[0m: local variable 'list' referenced before assignment"
     ]
    }
   ],
   "source": [
    "root = takeLevelInput()\n",
    "printLevelWise(root)\n",
    "n = int(input('Enter Search Element') )\n",
    "\n",
    "ans = noodToRootPath(root,n)\n",
    "print(ans)"
   ]
  },
  {
   "cell_type": "code",
   "execution_count": null,
   "id": "a08adc20",
   "metadata": {},
   "outputs": [],
   "source": []
  }
 ],
 "metadata": {
  "hide_input": false,
  "kernelspec": {
   "display_name": "Python 3 (ipykernel)",
   "language": "python",
   "name": "python3"
  },
  "language_info": {
   "codemirror_mode": {
    "name": "ipython",
    "version": 3
   },
   "file_extension": ".py",
   "mimetype": "text/x-python",
   "name": "python",
   "nbconvert_exporter": "python",
   "pygments_lexer": "ipython3",
   "version": "3.9.12"
  }
 },
 "nbformat": 4,
 "nbformat_minor": 5
}
