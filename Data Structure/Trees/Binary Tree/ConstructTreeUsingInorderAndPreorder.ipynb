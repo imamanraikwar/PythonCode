{
 "cells": [
  {
   "cell_type": "code",
   "execution_count": 23,
   "id": "4ead9afd",
   "metadata": {},
   "outputs": [],
   "source": [
    "import queue"
   ]
  },
  {
   "cell_type": "code",
   "execution_count": 24,
   "id": "60c32b00",
   "metadata": {},
   "outputs": [],
   "source": [
    "class BinaryTree:\n",
    "    def __init__(self,data):\n",
    "        self.data = data\n",
    "        self.left = None\n",
    "        self.right= None"
   ]
  },
  {
   "cell_type": "code",
   "execution_count": 25,
   "id": "488341a1",
   "metadata": {},
   "outputs": [],
   "source": [
    "def printLevelWise(node):\n",
    "    q = queue.Queue()\n",
    "    if node is None :\n",
    "        return\n",
    "    #print(node.data,end=' ')\n",
    "    q.put(node)\n",
    "    \n",
    "    while not q.empty():\n",
    "        rootNode = q.get()\n",
    "        print(rootNode.data,': ',end='')\n",
    "        if rootNode.left is not None :\n",
    "            print('L',rootNode.left.data,end='')\n",
    "            q.put(rootNode.left)\n",
    "        if rootNode.right is not None :\n",
    "            print(', R',rootNode.right.data,end='')\n",
    "            q.put(rootNode.right)\n",
    "        print()\n",
    "       "
   ]
  },
  {
   "cell_type": "code",
   "execution_count": 26,
   "id": "b375f0dc",
   "metadata": {},
   "outputs": [],
   "source": [
    "def takeInput():\n",
    "    n = int(input())\n",
    "    \n",
    "    if n == 0:\n",
    "        return\n",
    "    \n",
    "    preOrder = [int(x) for x in input().split()]\n",
    "    inOrder = [int(x) for x in input().split()]\n",
    "    \n",
    "    return preOrder , inOrder , n"
   ]
  },
  {
   "cell_type": "code",
   "execution_count": null,
   "id": "86aaf067",
   "metadata": {},
   "outputs": [],
   "source": []
  },
  {
   "cell_type": "code",
   "execution_count": 27,
   "id": "3a966110",
   "metadata": {},
   "outputs": [],
   "source": [
    "def ConstructTreeUsingInorderAndPreorder(preOrder , inOrder ) :\n",
    "    if not preOrder or not inOrder:\n",
    "        return None\n",
    "    root = BinaryTree(preOrder[0])\n",
    "    mid = inOrder.index(preOrder[0])\n",
    "    root.left = ConstructTreeUsingInorderAndPreorder( preOrder[1:mid+1] , inOrder[:mid] )\n",
    "    root.right = ConstructTreeUsingInorderAndPreorder( preOrder[mid+1:] , inOrder[mid+1:] )\n",
    "    return root\n",
    "    "
   ]
  },
  {
   "cell_type": "code",
   "execution_count": 28,
   "id": "f3993c5d",
   "metadata": {},
   "outputs": [
    {
     "name": "stdout",
     "output_type": "stream",
     "text": [
      "7\n",
      "1 2 4 5 3 6 7\n",
      "4 2 5 1 6 3 7\n",
      "1 : L 2, R 3\n",
      "2 : L 4, R 5\n",
      "3 : L 6, R 7\n",
      "4 : \n",
      "5 : \n",
      "6 : \n",
      "7 : \n"
     ]
    }
   ],
   "source": [
    "preOrder , inOrder , n = takeInput()\n",
    "root = ConstructTreeUsingInorderAndPreorder(preOrder , inOrder)\n",
    "\n",
    "printLevelWise(root)"
   ]
  },
  {
   "cell_type": "code",
   "execution_count": null,
   "id": "d3d43836",
   "metadata": {},
   "outputs": [],
   "source": []
  }
 ],
 "metadata": {
  "hide_input": false,
  "kernelspec": {
   "display_name": "Python 3 (ipykernel)",
   "language": "python",
   "name": "python3"
  },
  "language_info": {
   "codemirror_mode": {
    "name": "ipython",
    "version": 3
   },
   "file_extension": ".py",
   "mimetype": "text/x-python",
   "name": "python",
   "nbconvert_exporter": "python",
   "pygments_lexer": "ipython3",
   "version": "3.9.12"
  }
 },
 "nbformat": 4,
 "nbformat_minor": 5
}
