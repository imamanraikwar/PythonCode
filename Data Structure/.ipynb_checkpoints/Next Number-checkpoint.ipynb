{
 "cells": [
  {
   "cell_type": "code",
   "execution_count": 5,
   "id": "8d9039f9",
   "metadata": {},
   "outputs": [],
   "source": [
    "class Node :\n",
    "    \n",
    "    def __init__(self,data):\n",
    "        self.data = data\n",
    "        self.next = None"
   ]
  },
  {
   "cell_type": "code",
   "execution_count": 16,
   "id": "4fb6ed61",
   "metadata": {},
   "outputs": [],
   "source": [
    "def nextNumber(head):\n",
    "    num = 0\n",
    "    count = 0\n",
    "    newhead = head\n",
    "    while head is not None :\n",
    "        if head.data == 0:\n",
    "            count += 1\n",
    "        else :\n",
    "            num = num * 10 + head.data\n",
    "            head = head.next\n",
    "    \n",
    "    head = newhead\n",
    "    str1 = len(str(num))\n",
    "    str_num = len(str(num+1))\n",
    "    str2 = str(num+1)\n",
    "    if str_num > str1 :\n",
    "        n = str_num - str1\n",
    "        while count - n > 0 :\n",
    "            newhead.data = 0\n",
    "            newhead = newhead.next\n",
    "        for n in str2:\n",
    "            newhead.data = n\n",
    "            newhead = newhead.next\n",
    "    return head\n",
    "        \n",
    "        \n",
    "    \n",
    "        \n",
    "    \n",
    "    "
   ]
  },
  {
   "cell_type": "code",
   "execution_count": 17,
   "id": "63c08705",
   "metadata": {},
   "outputs": [],
   "source": [
    "def printll(head):\n",
    "    while head is not None:\n",
    "        print(head.data)\n",
    "        head = head.next\n",
    "    "
   ]
  },
  {
   "cell_type": "code",
   "execution_count": 18,
   "id": "48854001",
   "metadata": {},
   "outputs": [],
   "source": [
    "def takeinput(arr):\n",
    "    if len(arr)==0:\n",
    "        return None\n",
    "    head = Node(arr[0])\n",
    "    last = head\n",
    "    for data in arr[1:]:\n",
    "        last.next = Node(data)\n",
    "        last = last.next\n",
    "    return head\n",
    "\n",
    "def printll(head):\n",
    "    while head is not None:\n",
    "        print(head.data,end= ' ')\n",
    "        head = head.next\n",
    "    return"
   ]
  },
  {
   "cell_type": "code",
   "execution_count": null,
   "id": "3325ddee",
   "metadata": {},
   "outputs": [],
   "source": [
    "arr=[int(ele) for ele in input().split()]\n",
    "# Create a Linked list after removing -1 from list\n",
    "head = takeinput(arr[:-1])\n",
    "head = nextNumber(head)\n",
    "printll(head)"
   ]
  },
  {
   "cell_type": "code",
   "execution_count": null,
   "id": "f7e915b3",
   "metadata": {},
   "outputs": [],
   "source": []
  }
 ],
 "metadata": {
  "hide_input": false,
  "kernelspec": {
   "display_name": "Python 3 (ipykernel)",
   "language": "python",
   "name": "python3"
  },
  "language_info": {
   "codemirror_mode": {
    "name": "ipython",
    "version": 3
   },
   "file_extension": ".py",
   "mimetype": "text/x-python",
   "name": "python",
   "nbconvert_exporter": "python",
   "pygments_lexer": "ipython3",
   "version": "3.9.12"
  }
 },
 "nbformat": 4,
 "nbformat_minor": 5
}
