{
 "cells": [
  {
   "cell_type": "markdown",
   "id": "7671798c",
   "metadata": {},
   "source": [
    "## fibb number using dynamic programming "
   ]
  },
  {
   "cell_type": "code",
   "execution_count": 9,
   "id": "5ea17e23",
   "metadata": {},
   "outputs": [],
   "source": [
    "def fibb(n,dp):\n",
    "    \n",
    "    if n== 0 or n == 1 :\n",
    "        return n \n",
    "    if dp[n-1] == -1 :\n",
    "        ans1 = fibb(n-1,dp)\n",
    "        dp[n-1] = ans1\n",
    "    else :\n",
    "        ans1 = dp[n-1]\n",
    "        \n",
    "    if dp[n-2] == -1 :\n",
    "        ans2 = fibb(n-2,dp)\n",
    "        dp[n-2] = ans2\n",
    "    else :\n",
    "        ans2 = dp[n-2]\n",
    "    \n",
    "    ans = ans1 + ans2\n",
    "    return ans"
   ]
  },
  {
   "cell_type": "code",
   "execution_count": 11,
   "id": "0bacf307",
   "metadata": {},
   "outputs": [
    {
     "name": "stdout",
     "output_type": "stream",
     "text": [
      "8\n",
      "21\n"
     ]
    }
   ],
   "source": [
    "n = int(input())\n",
    "\n",
    "dp = [-1 for x in range(n+1)]\n",
    "\n",
    "ans = fibb(n,dp)\n",
    "print(ans)"
   ]
  },
  {
   "cell_type": "code",
   "execution_count": null,
   "id": "c0e3876f",
   "metadata": {},
   "outputs": [],
   "source": []
  },
  {
   "cell_type": "code",
   "execution_count": null,
   "id": "5f116b89",
   "metadata": {},
   "outputs": [],
   "source": []
  }
 ],
 "metadata": {
  "hide_input": false,
  "kernelspec": {
   "display_name": "Python 3 (ipykernel)",
   "language": "python",
   "name": "python3"
  },
  "language_info": {
   "codemirror_mode": {
    "name": "ipython",
    "version": 3
   },
   "file_extension": ".py",
   "mimetype": "text/x-python",
   "name": "python",
   "nbconvert_exporter": "python",
   "pygments_lexer": "ipython3",
   "version": "3.9.12"
  }
 },
 "nbformat": 4,
 "nbformat_minor": 5
}
