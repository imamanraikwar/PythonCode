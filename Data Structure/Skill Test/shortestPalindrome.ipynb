{
 "cells": [
  {
   "cell_type": "markdown",
   "id": "6198f604",
   "metadata": {},
   "source": [
    "### Add words on begining "
   ]
  },
  {
   "cell_type": "code",
   "execution_count": 23,
   "id": "2868a2d5",
   "metadata": {},
   "outputs": [],
   "source": [
    "class Solution:\n",
    "    def shortestPalindrome(self, s: str) -> str :\n",
    "        \n",
    "        n = len(s)\n",
    "        ans = 1\n",
    "        for i in range(1,n+2):\n",
    "            #print(s[:i][::-1])\n",
    "            if s[:i][::-1] == s[:i] :\n",
    "                ans = i\n",
    "                \n",
    "        return s[ans:][::-1] + s \n",
    "        \n",
    "\n",
    "        "
   ]
  },
  {
   "cell_type": "code",
   "execution_count": 25,
   "id": "cb609a2c",
   "metadata": {},
   "outputs": [
    {
     "name": "stdout",
     "output_type": "stream",
     "text": [
      "edbbddaddbbde\n"
     ]
    }
   ],
   "source": [
    "s = 'addbbde'\n",
    "obj = Solution()\n",
    "ans = obj.shortestPalindrome(s)\n",
    "\n",
    "print(ans)"
   ]
  },
  {
   "cell_type": "code",
   "execution_count": 19,
   "id": "f8105c52",
   "metadata": {},
   "outputs": [
    {
     "name": "stdout",
     "output_type": "stream",
     "text": [
      "ecaa\n"
     ]
    }
   ],
   "source": [
    "s = 'aacecaaa'\n",
    "i = 4\n",
    "a = s[:i]\n",
    "print(s[:i][::-1])"
   ]
  },
  {
   "cell_type": "code",
   "execution_count": null,
   "id": "7e19f802",
   "metadata": {},
   "outputs": [],
   "source": []
  }
 ],
 "metadata": {
  "hide_input": false,
  "kernelspec": {
   "display_name": "Python 3 (ipykernel)",
   "language": "python",
   "name": "python3"
  },
  "language_info": {
   "codemirror_mode": {
    "name": "ipython",
    "version": 3
   },
   "file_extension": ".py",
   "mimetype": "text/x-python",
   "name": "python",
   "nbconvert_exporter": "python",
   "pygments_lexer": "ipython3",
   "version": "3.9.12"
  }
 },
 "nbformat": 4,
 "nbformat_minor": 5
}
