{
 "cells": [
  {
   "cell_type": "markdown",
   "id": "2fc88138",
   "metadata": {},
   "source": []
  },
  {
   "cell_type": "code",
   "execution_count": 1,
   "id": "da76e2d9",
   "metadata": {},
   "outputs": [],
   "source": [
    "def find_Ways(n):\n",
    "    \n",
    "    if n== 1 or n ==2 :\n",
    "        return 2 \n",
    "    \n",
    "    ans = find_Ways(n-1) + find_Ways(n-2)\n",
    "    \n",
    "    return ans\n"
   ]
  },
  {
   "cell_type": "code",
   "execution_count": 3,
   "id": "ca0fcfd2",
   "metadata": {},
   "outputs": [
    {
     "name": "stdout",
     "output_type": "stream",
     "text": [
      "4\n",
      "6\n"
     ]
    }
   ],
   "source": [
    "n = int(input())\n",
    "\n",
    "print(find_Ways(n))"
   ]
  },
  {
   "cell_type": "code",
   "execution_count": null,
   "id": "46b0ab38",
   "metadata": {},
   "outputs": [],
   "source": []
  }
 ],
 "metadata": {
  "hide_input": false,
  "kernelspec": {
   "display_name": "Python 3 (ipykernel)",
   "language": "python",
   "name": "python3"
  },
  "language_info": {
   "codemirror_mode": {
    "name": "ipython",
    "version": 3
   },
   "file_extension": ".py",
   "mimetype": "text/x-python",
   "name": "python",
   "nbconvert_exporter": "python",
   "pygments_lexer": "ipython3",
   "version": "3.9.12"
  }
 },
 "nbformat": 4,
 "nbformat_minor": 5
}
