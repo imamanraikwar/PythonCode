{
 "cells": [
  {
   "cell_type": "code",
   "execution_count": 15,
   "id": "f586763d",
   "metadata": {},
   "outputs": [],
   "source": [
    "import itertools"
   ]
  },
  {
   "cell_type": "code",
   "execution_count": 18,
   "id": "6d5391c5",
   "metadata": {},
   "outputs": [],
   "source": [
    "def groupSum(arr,target):\n",
    "    \n",
    "    for i in range(len(arr),0,-1):\n",
    "        for seq in itertools.combinations(arr,i):\n",
    "            if sum(seq) == target:\n",
    "                return True\n",
    "    else :\n",
    "        return False \n",
    "\n",
    "    "
   ]
  },
  {
   "cell_type": "code",
   "execution_count": 19,
   "id": "30cc9974",
   "metadata": {},
   "outputs": [
    {
     "name": "stdout",
     "output_type": "stream",
     "text": [
      "4\n",
      "2 4 4 8\n",
      "14\n",
      "false\n"
     ]
    }
   ],
   "source": [
    "n = int(input())\n",
    "\n",
    "arr = [int(x) for x in input().split()]\n",
    "\n",
    "target = int(input())\n",
    "arr1 = []\n",
    "arr1.append(arr[0])\n",
    "i = 0\n",
    "for j in range(1,len(arr)):\n",
    "    if arr[i] == arr[j]:\n",
    "        arr1[i] = arr1[i] + arr[j]\n",
    "        i = j\n",
    "    else :\n",
    "        arr1.append(arr[j])\n",
    "        i += 1\n",
    "        \n",
    "if groupSum(arr1,target):\n",
    "    print('true')\n",
    "else:\n",
    "    print('false')\n",
    "    \n",
    "        "
   ]
  },
  {
   "cell_type": "code",
   "execution_count": null,
   "id": "8314974a",
   "metadata": {},
   "outputs": [],
   "source": []
  },
  {
   "cell_type": "code",
   "execution_count": null,
   "id": "abb8f345",
   "metadata": {},
   "outputs": [],
   "source": []
  },
  {
   "cell_type": "code",
   "execution_count": null,
   "id": "001825ea",
   "metadata": {},
   "outputs": [],
   "source": []
  }
 ],
 "metadata": {
  "hide_input": false,
  "kernelspec": {
   "display_name": "Python 3 (ipykernel)",
   "language": "python",
   "name": "python3"
  },
  "language_info": {
   "codemirror_mode": {
    "name": "ipython",
    "version": 3
   },
   "file_extension": ".py",
   "mimetype": "text/x-python",
   "name": "python",
   "nbconvert_exporter": "python",
   "pygments_lexer": "ipython3",
   "version": "3.9.12"
  }
 },
 "nbformat": 4,
 "nbformat_minor": 5
}
