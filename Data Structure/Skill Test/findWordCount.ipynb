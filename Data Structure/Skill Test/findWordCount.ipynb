{
 "cells": [
  {
   "cell_type": "code",
   "execution_count": 8,
   "id": "b512d198",
   "metadata": {},
   "outputs": [],
   "source": [
    "def findWord(arr,word):\n",
    "    a = word[0]\n",
    "    b = word[1]\n",
    "    \n",
    "    n = len(arr)\n",
    "    count = 0\n",
    "    for i in range (n):\n",
    "        \n",
    "        for j in range(0,len(arr[i])-1):\n",
    "            \n",
    "            if arr[i][j] == a :\n",
    "                if arr[i][j+1] == b :\n",
    "                    count += 1\n",
    "            elif arr[i][j] == b :\n",
    "                if arr[i][j+1] == a :\n",
    "                    count += 1\n",
    "            \n",
    "            if i < n - 1 : \n",
    "                if arr[i][j] == a :\n",
    "                    if arr[i+1][j] == b :\n",
    "                        count += 1\n",
    "                elif arr[i][j] == b :\n",
    "                    if arr[i+1][j] == a :\n",
    "                        count += 1\n",
    "                    \n",
    "    return count\n",
    "                \n",
    "        "
   ]
  },
  {
   "cell_type": "code",
   "execution_count": 9,
   "id": "ea2c2ce3",
   "metadata": {},
   "outputs": [
    {
     "name": "stdout",
     "output_type": "stream",
     "text": [
      "3\n",
      "rtoe\n",
      "aotl\n",
      "ttot\n",
      "to\n",
      "8\n"
     ]
    }
   ],
   "source": [
    "t = int(input())\n",
    "\n",
    "arr = []\n",
    "\n",
    "while t > 0 :\n",
    "    \n",
    "    temp = input()\n",
    "    arr1 = []\n",
    "    for ele in temp:\n",
    "        arr1.append(ele)\n",
    "    arr.append(arr1)\n",
    "    \n",
    "    t -= 1\n",
    "    \n",
    "word = input()\n",
    "\n",
    "print(findWord(arr,word))"
   ]
  },
  {
   "cell_type": "code",
   "execution_count": null,
   "id": "ed484684",
   "metadata": {},
   "outputs": [],
   "source": []
  }
 ],
 "metadata": {
  "hide_input": false,
  "kernelspec": {
   "display_name": "Python 3 (ipykernel)",
   "language": "python",
   "name": "python3"
  },
  "language_info": {
   "codemirror_mode": {
    "name": "ipython",
    "version": 3
   },
   "file_extension": ".py",
   "mimetype": "text/x-python",
   "name": "python",
   "nbconvert_exporter": "python",
   "pygments_lexer": "ipython3",
   "version": "3.9.12"
  }
 },
 "nbformat": 4,
 "nbformat_minor": 5
}
