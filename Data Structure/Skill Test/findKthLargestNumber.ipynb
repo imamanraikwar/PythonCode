{
 "cells": [
  {
   "cell_type": "code",
   "execution_count": 11,
   "id": "2d6b2082",
   "metadata": {},
   "outputs": [
    {
     "data": {
      "text/plain": [
       "6"
      ]
     },
     "execution_count": 11,
     "metadata": {},
     "output_type": "execute_result"
    }
   ],
   "source": [
    "class Solution:\n",
    "    def findKthLargest(self, nums, k: int) -> int:\n",
    "        \n",
    "        k = len(nums) - k\n",
    "        \n",
    "        def quickSelect(l , r) :\n",
    "            pivot , p = nums[r] , l\n",
    "            \n",
    "            for i in range(l , r) :\n",
    "                if nums[i] <= pivot :\n",
    "                    nums[i] , nums[p] = nums[p] , nums[i]\n",
    "                    p += 1\n",
    "                    \n",
    "            nums[p] , nums[r] = nums[r] , nums[p]\n",
    "            \n",
    "            if p < k : return quickSelect(p+1 , r )\n",
    "            elif p > k : return quickSelect(l , p - 1)\n",
    "            else : return nums[p]\n",
    "                        \n",
    "                                          \n",
    "        return quickSelect(0 , len(nums)-1)\n",
    "                \n",
    "arr = [1,2,3,4,5,6,7]\n",
    "obj = Solution()\n",
    "obj.findKthLargest(arr,2)               "
   ]
  },
  {
   "cell_type": "code",
   "execution_count": null,
   "id": "d639638f",
   "metadata": {},
   "outputs": [],
   "source": []
  },
  {
   "cell_type": "code",
   "execution_count": null,
   "id": "ca7b7aa4",
   "metadata": {},
   "outputs": [],
   "source": []
  }
 ],
 "metadata": {
  "hide_input": false,
  "kernelspec": {
   "display_name": "Python 3 (ipykernel)",
   "language": "python",
   "name": "python3"
  },
  "language_info": {
   "codemirror_mode": {
    "name": "ipython",
    "version": 3
   },
   "file_extension": ".py",
   "mimetype": "text/x-python",
   "name": "python",
   "nbconvert_exporter": "python",
   "pygments_lexer": "ipython3",
   "version": "3.9.12"
  }
 },
 "nbformat": 4,
 "nbformat_minor": 5
}
