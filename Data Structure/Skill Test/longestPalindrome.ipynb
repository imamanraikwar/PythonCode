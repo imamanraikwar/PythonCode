{
 "cells": [
  {
   "cell_type": "code",
   "execution_count": 44,
   "id": "766b9cf3",
   "metadata": {},
   "outputs": [],
   "source": [
    "def longestPalindromeHelper(s,i,j,n):\n",
    "        \n",
    "        while i>=0 and j < n and s[i] == s[j] :\n",
    "            \n",
    "            i -= 1\n",
    "            j += 1\n",
    "            \n",
    "        return s[i+1:j]"
   ]
  },
  {
   "cell_type": "code",
   "execution_count": 45,
   "id": "4c6f272c",
   "metadata": {},
   "outputs": [],
   "source": [
    "def longestPalindrome(s):\n",
    "    n = len(s)    \n",
    "    res = ''\n",
    "    for i in range(n):\n",
    "        \n",
    "        odd = longestPalindromeHelper(s,i,i,n)\n",
    "        \n",
    "        even = longestPalindromeHelper(s,i,i+1,n)\n",
    "        \n",
    "        res = max(odd,even,res,key=len)\n",
    "        \n",
    "    return res\n",
    "        "
   ]
  },
  {
   "cell_type": "code",
   "execution_count": 47,
   "id": "d9aec8ae",
   "metadata": {},
   "outputs": [
    {
     "name": "stdout",
     "output_type": "stream",
     "text": [
      "dbbd\n"
     ]
    }
   ],
   "source": [
    "s = 'addbbde'\n",
    "ans = longestPalindrome(s)\n",
    "print(ans)"
   ]
  },
  {
   "cell_type": "code",
   "execution_count": null,
   "id": "926c0c91",
   "metadata": {},
   "outputs": [],
   "source": []
  }
 ],
 "metadata": {
  "hide_input": false,
  "kernelspec": {
   "display_name": "Python 3 (ipykernel)",
   "language": "python",
   "name": "python3"
  },
  "language_info": {
   "codemirror_mode": {
    "name": "ipython",
    "version": 3
   },
   "file_extension": ".py",
   "mimetype": "text/x-python",
   "name": "python",
   "nbconvert_exporter": "python",
   "pygments_lexer": "ipython3",
   "version": "3.9.12"
  }
 },
 "nbformat": 4,
 "nbformat_minor": 5
}
