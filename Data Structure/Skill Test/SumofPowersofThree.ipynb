{
 "cells": [
  {
   "cell_type": "code",
   "execution_count": 4,
   "id": "c3756744",
   "metadata": {},
   "outputs": [],
   "source": [
    "def SumofPowersofThree(arr,target):\n",
    "    \n",
    "    for i in range(len(arr),0,-1):\n",
    "        for seq in itertools.combinations(arr,i):\n",
    "            if sum(seq) == target:\n",
    "                return True\n",
    "    else :\n",
    "        return False \n",
    "\n",
    "    "
   ]
  },
  {
   "cell_type": "code",
   "execution_count": 3,
   "id": "e3b4ab46",
   "metadata": {},
   "outputs": [
    {
     "name": "stdout",
     "output_type": "stream",
     "text": [
      "91\n",
      "[1, 3, 9, 27, 81]\n"
     ]
    }
   ],
   "source": [
    "target = int(input())\n",
    "i = 0\n",
    "\n",
    "arr = []\n",
    "while 1 :\n",
    "    \n",
    "    temp = 3 ** i \n",
    "    if temp > target :\n",
    "        n = i - 1 \n",
    "        break\n",
    "    arr.append(temp)\n",
    "    i += 1\n",
    "    \n",
    "if SumofPowersofThree(arr,target) :\n",
    "    print('true')\n",
    "else :\n",
    "    print('false')"
   ]
  },
  {
   "cell_type": "markdown",
   "id": "0fbc8e14",
   "metadata": {},
   "source": [
    "4\n",
    "2 8\n",
    "13 24\n",
    "13 23\n",
    "25 33"
   ]
  },
  {
   "cell_type": "code",
   "execution_count": null,
   "id": "5c0861d3",
   "metadata": {},
   "outputs": [],
   "source": []
  },
  {
   "cell_type": "code",
   "execution_count": null,
   "id": "e4ffe99e",
   "metadata": {},
   "outputs": [],
   "source": []
  }
 ],
 "metadata": {
  "hide_input": false,
  "kernelspec": {
   "display_name": "Python 3 (ipykernel)",
   "language": "python",
   "name": "python3"
  },
  "language_info": {
   "codemirror_mode": {
    "name": "ipython",
    "version": 3
   },
   "file_extension": ".py",
   "mimetype": "text/x-python",
   "name": "python",
   "nbconvert_exporter": "python",
   "pygments_lexer": "ipython3",
   "version": "3.9.12"
  }
 },
 "nbformat": 4,
 "nbformat_minor": 5
}
