{
 "cells": [
  {
   "cell_type": "code",
   "execution_count": 11,
   "id": "a5585b68",
   "metadata": {},
   "outputs": [],
   "source": [
    "def frequencyPalindrome( st , st_index  ,end_index ): \n",
    "    st = st[st_index:end_index+1]\n",
    "    n = len(st)\n",
    "    \n",
    "    if n % 2 == 0 :\n",
    "        \n",
    "        st1 = st[:(n//2)]\n",
    "        st2 = st[(n//2):]\n",
    "        \n",
    "        if sorted(st1) == sorted(st2):\n",
    "            return  True\n",
    "        return False\n",
    "                \n",
    "    else :\n",
    "        st1 = st[:(n//2)]\n",
    "        st2 = st[(n//2)+1:]\n",
    "        \n",
    "        if sorted(st1) == sorted(st2):\n",
    "            return  True\n",
    "        return False\n",
    "    \n",
    "    pass\n"
   ]
  },
  {
   "cell_type": "code",
   "execution_count": 12,
   "id": "b959a10c",
   "metadata": {},
   "outputs": [
    {
     "name": "stdout",
     "output_type": "stream",
     "text": [
      "heleltronrocop\n",
      "3\n",
      "1 3\n",
      "Yes\n",
      "0 4\n",
      "No\n",
      "6 10\n",
      "Yes\n"
     ]
    }
   ],
   "source": [
    "st = input()\n",
    "\n",
    "t = int(input())\n",
    "\n",
    "while t > 0 :\n",
    "    \n",
    "    arr = [int(x) for x in input().split()]\n",
    "    st_index = arr[0]\n",
    "    end_index = arr[1]\n",
    "    \n",
    "    if frequencyPalindrome(st , st_index, end_index ) :\n",
    "        print('Yes')\n",
    "    else :\n",
    "        print('No')\n",
    "    \n",
    "    t -= 1"
   ]
  },
  {
   "cell_type": "code",
   "execution_count": null,
   "id": "9ef0b092",
   "metadata": {},
   "outputs": [],
   "source": []
  }
 ],
 "metadata": {
  "hide_input": false,
  "kernelspec": {
   "display_name": "Python 3 (ipykernel)",
   "language": "python",
   "name": "python3"
  },
  "language_info": {
   "codemirror_mode": {
    "name": "ipython",
    "version": 3
   },
   "file_extension": ".py",
   "mimetype": "text/x-python",
   "name": "python",
   "nbconvert_exporter": "python",
   "pygments_lexer": "ipython3",
   "version": "3.9.12"
  }
 },
 "nbformat": 4,
 "nbformat_minor": 5
}
