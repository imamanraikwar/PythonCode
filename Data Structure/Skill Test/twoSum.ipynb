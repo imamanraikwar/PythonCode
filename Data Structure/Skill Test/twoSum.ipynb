{
 "cells": [
  {
   "cell_type": "code",
   "execution_count": 73,
   "id": "76242de3",
   "metadata": {},
   "outputs": [],
   "source": [
    "import itertools\n",
    "class Solution:\n",
    "    def twoSum(self, nums, target: int) :\n",
    "\n",
    "        prevMap = {}\n",
    "        \n",
    "        for i , n in enumerate(nums):\n",
    "            print(i,n)\n",
    "            print(prevMap)\n",
    "            diff = target - n \n",
    "            if diff in prevMap :\n",
    "                return [prevMap[diff],i]\n",
    "            prevMap[n] = i\n",
    "            \n",
    "                    "
   ]
  },
  {
   "cell_type": "code",
   "execution_count": 74,
   "id": "993f3f97",
   "metadata": {},
   "outputs": [
    {
     "name": "stdout",
     "output_type": "stream",
     "text": [
      "0 3\n",
      "{}\n",
      "1 3\n",
      "{3: 0}\n"
     ]
    },
    {
     "data": {
      "text/plain": [
       "[0, 1]"
      ]
     },
     "execution_count": 74,
     "metadata": {},
     "output_type": "execute_result"
    }
   ],
   "source": [
    "ob = Solution()\n",
    "ob.twoSum([3,3],6)"
   ]
  },
  {
   "cell_type": "code",
   "execution_count": null,
   "id": "20a69f14",
   "metadata": {},
   "outputs": [],
   "source": []
  },
  {
   "cell_type": "code",
   "execution_count": null,
   "id": "cf305b32",
   "metadata": {},
   "outputs": [],
   "source": []
  }
 ],
 "metadata": {
  "hide_input": false,
  "kernelspec": {
   "display_name": "Python 3 (ipykernel)",
   "language": "python",
   "name": "python3"
  },
  "language_info": {
   "codemirror_mode": {
    "name": "ipython",
    "version": 3
   },
   "file_extension": ".py",
   "mimetype": "text/x-python",
   "name": "python",
   "nbconvert_exporter": "python",
   "pygments_lexer": "ipython3",
   "version": "3.9.12"
  }
 },
 "nbformat": 4,
 "nbformat_minor": 5
}
