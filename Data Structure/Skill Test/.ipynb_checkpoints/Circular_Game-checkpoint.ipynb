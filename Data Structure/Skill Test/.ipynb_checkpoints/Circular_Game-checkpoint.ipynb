{
 "cells": [
  {
   "cell_type": "code",
   "execution_count": 5,
   "id": "82eb7315",
   "metadata": {},
   "outputs": [],
   "source": [
    "##Write your code here\n",
    "class LinkList :\n",
    "    \n",
    "    def __init__(self,data):\n",
    "        self.data = data\n",
    "        self.next = None\n",
    "\n",
    "def printLL(head):\n",
    "    \n",
    "    while head is not None:\n",
    "        print(head.data,end=' ')\n",
    "        head = head.next\n",
    "\n",
    "def takeInput(n):\n",
    "    head = None \n",
    "    tail = None\n",
    "    for ele in range(1,n+1):\n",
    "\n",
    "        newNode = LinkList(ele)\n",
    "        \n",
    "        if head is None :\n",
    "            head = newNode\n",
    "            tail = newNode\n",
    "            \n",
    "        tail.next = newNode\n",
    "        tail = tail.next\n",
    "        \n",
    "    tail.next = head\n",
    "    return head\n",
    "            \n",
    "\n",
    "\n"
   ]
  },
  {
   "cell_type": "code",
   "execution_count": 10,
   "id": "df315897",
   "metadata": {},
   "outputs": [],
   "source": [
    "def Circular_Game(head,count):\n",
    "    \n",
    "    temp = 2\n",
    "    while 1 :\n",
    "        \n",
    "        if head.next.next.data == head.data :\n",
    "            return head\n",
    "        \n",
    "        if temp == count :\n",
    "            head.next = head.next.next\n",
    "            head = head.next\n",
    "            temp = 2\n",
    "            \n",
    "        else :\n",
    "            head = head.next\n",
    "            temp += 1\n",
    "        \n",
    "    "
   ]
  },
  {
   "cell_type": "code",
   "execution_count": 12,
   "id": "54bd6105",
   "metadata": {},
   "outputs": [
    {
     "name": "stdout",
     "output_type": "stream",
     "text": [
      "7 3\n",
      "1\n"
     ]
    }
   ],
   "source": [
    "arr = [int(x) for x in input().split()]\n",
    "    \n",
    "n = arr[0]\n",
    "c = arr[1]\n",
    "\n",
    "head = takeInput(n)\n",
    "\n",
    "ans = Circular_Game(head,c)\n",
    "print(ans.data)"
   ]
  },
  {
   "cell_type": "code",
   "execution_count": null,
   "id": "d1ef5ba6",
   "metadata": {},
   "outputs": [],
   "source": []
  }
 ],
 "metadata": {
  "hide_input": false,
  "kernelspec": {
   "display_name": "Python 3 (ipykernel)",
   "language": "python",
   "name": "python3"
  },
  "language_info": {
   "codemirror_mode": {
    "name": "ipython",
    "version": 3
   },
   "file_extension": ".py",
   "mimetype": "text/x-python",
   "name": "python",
   "nbconvert_exporter": "python",
   "pygments_lexer": "ipython3",
   "version": "3.10.8"
  }
 },
 "nbformat": 4,
 "nbformat_minor": 5
}
