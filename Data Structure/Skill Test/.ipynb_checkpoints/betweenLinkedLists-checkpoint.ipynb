{
 "cells": [
  {
   "cell_type": "code",
   "execution_count": 6,
   "id": "54cff427",
   "metadata": {},
   "outputs": [],
   "source": [
    "class LinkList :\n",
    "    \n",
    "    def __init__(self,data):\n",
    "        self.data = data\n",
    "        self.next = None"
   ]
  },
  {
   "cell_type": "code",
   "execution_count": 25,
   "id": "0b808b0b",
   "metadata": {},
   "outputs": [],
   "source": [
    "def betweenLinkedLists(head1,head2,st_index,end_index) :\n",
    "    \n",
    "    i = 0 \n",
    "    newhead1 = head1\n",
    "    \n",
    "    while i < st_index-1 :\n",
    "        newhead1 =  newhead1.next\n",
    "        i += 1\n",
    "        \n",
    "    temp = newhead1.next\n",
    "    i = 0   \n",
    "    while temp is not None :\n",
    "        if i <= end_index - st_index :\n",
    "            temp = temp.next\n",
    "            i += 1\n",
    "            continue\n",
    "        break\n",
    "        \n",
    "    \n",
    "    while head2 is not None :\n",
    "        newhead1.next = head2\n",
    "        head2 = head2.next\n",
    "        newhead1 = newhead1.next\n",
    "        \n",
    "    while temp is not None :\n",
    "        newhead1.next = temp\n",
    "        temp = temp.next\n",
    "        newhead1 = newhead1.next\n",
    "        \n",
    "    return head1\n",
    "    \n",
    "\n",
    "        \n",
    "    "
   ]
  },
  {
   "cell_type": "code",
   "execution_count": 26,
   "id": "f1785fdf",
   "metadata": {},
   "outputs": [],
   "source": [
    "def printLL(head):\n",
    "    \n",
    "    while head is not None:\n",
    "        print(head.data,end='->')\n",
    "        head = head.next"
   ]
  },
  {
   "cell_type": "code",
   "execution_count": 27,
   "id": "5a43d85d",
   "metadata": {},
   "outputs": [],
   "source": [
    "def takeInput():\n",
    "    \n",
    "    arr = [int(x) for x in input().split()]\n",
    "    \n",
    "    head = None \n",
    "    tail = None\n",
    "    for ele in arr:\n",
    "        if ele == -1 :\n",
    "            return head\n",
    "        newNode = LinkList(ele)\n",
    "        \n",
    "        if head is None :\n",
    "            head = newNode\n",
    "            tail = newNode\n",
    "            \n",
    "        tail.next = newNode\n",
    "        tail = tail.next\n",
    "            "
   ]
  },
  {
   "cell_type": "code",
   "execution_count": 28,
   "id": "487e3398",
   "metadata": {},
   "outputs": [
    {
     "name": "stdout",
     "output_type": "stream",
     "text": [
      "0 1 2 3 4 5 6 -1\n",
      "3 5\n",
      "7 8 9 10 -1\n",
      "0->1->2->7->8->9->10->6->"
     ]
    }
   ],
   "source": [
    "list1 = takeInput()\n",
    "\n",
    "index_array = [int(x) for x in input().split() ]\n",
    "st_index = index_array[0]\n",
    "end_index = index_array[1]\n",
    "\n",
    "list2 = takeInput()\n",
    "\n",
    "head = betweenLinkedLists(list1,list2,st_index,end_index)\n",
    "#printLL(list1)\n",
    "#printLL(list2)\n",
    "printLL(head)"
   ]
  },
  {
   "cell_type": "code",
   "execution_count": null,
   "id": "5c694507",
   "metadata": {},
   "outputs": [],
   "source": []
  }
 ],
 "metadata": {
  "hide_input": false,
  "kernelspec": {
   "display_name": "Python 3 (ipykernel)",
   "language": "python",
   "name": "python3"
  },
  "language_info": {
   "codemirror_mode": {
    "name": "ipython",
    "version": 3
   },
   "file_extension": ".py",
   "mimetype": "text/x-python",
   "name": "python",
   "nbconvert_exporter": "python",
   "pygments_lexer": "ipython3",
   "version": "3.10.8"
  }
 },
 "nbformat": 4,
 "nbformat_minor": 5
}
