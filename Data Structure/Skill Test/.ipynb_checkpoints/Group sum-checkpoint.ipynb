{
 "cells": [
  {
   "cell_type": "code",
   "execution_count": 5,
   "id": "f586763d",
   "metadata": {},
   "outputs": [],
   "source": [
    "def groupSumHelper(arr , sum ):\n",
    "    pass \n",
    "    "
   ]
  },
  {
   "cell_type": "code",
   "execution_count": 6,
   "id": "6d5391c5",
   "metadata": {},
   "outputs": [],
   "source": [
    "def groupSum(arr,sum):\n",
    "    \n",
    "    n = len(arr)\n",
    "    \n",
    "    sum = 0\n",
    "    for i in range(n):\n",
    "        sum = sum + arr[i]\n",
    "        groupSumHelper()\n",
    "        \n",
    "    \n",
    "    groupSumHelper()\n",
    "            \n",
    "        \n",
    "    \n",
    "    \n",
    "    \n",
    "    pass"
   ]
  },
  {
   "cell_type": "code",
   "execution_count": 4,
   "id": "30cc9974",
   "metadata": {},
   "outputs": [
    {
     "name": "stdout",
     "output_type": "stream",
     "text": [
      "1\n",
      "5\n"
     ]
    },
    {
     "ename": "TypeError",
     "evalue": "groupSum() missing 2 required positional arguments: 'n' and 'sum'",
     "output_type": "error",
     "traceback": [
      "\u001b[1;31m---------------------------------------------------------------------------\u001b[0m",
      "\u001b[1;31mTypeError\u001b[0m                                 Traceback (most recent call last)",
      "Input \u001b[1;32mIn [4]\u001b[0m, in \u001b[0;36m<cell line: 11>\u001b[1;34m()\u001b[0m\n\u001b[0;32m      8\u001b[0m     \u001b[38;5;28;01melse\u001b[39;00m :\n\u001b[0;32m      9\u001b[0m         a[ele] \u001b[38;5;241m=\u001b[39m \u001b[38;5;241m1\u001b[39m \n\u001b[1;32m---> 11\u001b[0m \u001b[43mgroupSum\u001b[49m\u001b[43m(\u001b[49m\u001b[43ma\u001b[49m\u001b[43m)\u001b[49m\n",
      "\u001b[1;31mTypeError\u001b[0m: groupSum() missing 2 required positional arguments: 'n' and 'sum'"
     ]
    }
   ],
   "source": [
    "n = int(input())\n",
    "\n",
    "arr = [int(x) for x in input().split()]\n",
    "\n",
    "sum = int(input())\n",
    "a = {}\n",
    "for ele in arr :\n",
    "    if ele in a :\n",
    "        a[ele] += ele \n",
    "    else :\n",
    "        a[ele] = ele \n",
    "        \n",
    "arr1 = []\n",
    "for ele in a :\n",
    "    arr1.append(ele)\n",
    "        \n",
    "ans = groupSum(arr1,sum)\n",
    "\n",
    "if ans :\n",
    "    print('true')\n",
    "else :\n",
    "    print('false')"
   ]
  },
  {
   "cell_type": "code",
   "execution_count": null,
   "id": "8314974a",
   "metadata": {},
   "outputs": [],
   "source": []
  }
 ],
 "metadata": {
  "hide_input": false,
  "kernelspec": {
   "display_name": "Python 3 (ipykernel)",
   "language": "python",
   "name": "python3"
  },
  "language_info": {
   "codemirror_mode": {
    "name": "ipython",
    "version": 3
   },
   "file_extension": ".py",
   "mimetype": "text/x-python",
   "name": "python",
   "nbconvert_exporter": "python",
   "pygments_lexer": "ipython3",
   "version": "3.9.12"
  }
 },
 "nbformat": 4,
 "nbformat_minor": 5
}
