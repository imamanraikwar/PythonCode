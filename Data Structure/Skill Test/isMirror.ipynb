{
 "cells": [
  {
   "cell_type": "code",
   "execution_count": null,
   "id": "5bcb34d4",
   "metadata": {},
   "outputs": [],
   "source": []
  },
  {
   "cell_type": "code",
   "execution_count": 8,
   "id": "039efb2c",
   "metadata": {},
   "outputs": [],
   "source": [
    "from sys import stdin, setrecursionlimit\n",
    "import queue"
   ]
  },
  {
   "cell_type": "code",
   "execution_count": 9,
   "id": "0b8cf369",
   "metadata": {},
   "outputs": [],
   "source": [
    "class BinaryTreeNode:\n",
    "    def __init__(self, data):\n",
    "        self.data = data\n",
    "        self.left = None\n",
    "        self.right = None"
   ]
  },
  {
   "cell_type": "code",
   "execution_count": 14,
   "id": "079b47e3",
   "metadata": {},
   "outputs": [],
   "source": [
    "def takeInput():\n",
    "    levelOrder = [int(x) for x in input().split()]\n",
    "    start = 0\n",
    "    \n",
    "    length = len(levelOrder)\n",
    "\n",
    "    if length == 1 :\n",
    "        return None\n",
    "    \n",
    "    root = BinaryTreeNode(levelOrder[start])\n",
    "    start += 1\n",
    "\n",
    "    q = queue.Queue()\n",
    "    q.put(root)\n",
    "\n",
    "    while not q.empty():\n",
    "        currentNode = q.get()\n",
    "\n",
    "        leftChild = levelOrder[start]\n",
    "        start += 1\n",
    "\n",
    "        if leftChild != -1:\n",
    "            leftNode = BinaryTreeNode(leftChild)\n",
    "            currentNode.left =leftNode\n",
    "            q.put(leftNode)\n",
    "\n",
    "        rightChild = levelOrder[start]\n",
    "        start += 1\n",
    "\n",
    "        if rightChild != -1:\n",
    "            rightNode = BinaryTreeNode(rightChild)\n",
    "            currentNode.right =rightNode\n",
    "            q.put(rightNode)\n",
    "\n",
    "    return root\n",
    "\n",
    "    "
   ]
  },
  {
   "cell_type": "code",
   "execution_count": 17,
   "id": "2007804a",
   "metadata": {},
   "outputs": [],
   "source": [
    "def isMirror(root1, root2):\n",
    "\n",
    "    if root1 is None and root2 is None:\n",
    "        return True\n",
    "\n",
    "\n",
    "    if (root1 is not None and root2 is not None):\n",
    "        if root1.data == root2.data:\n",
    "            return (isMirror(root1.left, root2.right)and\n",
    "                    isMirror(root1.right, root2.left))\n",
    "\n",
    "\n",
    "    return False\n"
   ]
  },
  {
   "cell_type": "code",
   "execution_count": 19,
   "id": "1b401e65",
   "metadata": {},
   "outputs": [
    {
     "name": "stdout",
     "output_type": "stream",
     "text": [
      "1 2 2 -1 3 -1 3 -1 -1 -1 -1\n",
      "false\n"
     ]
    }
   ],
   "source": [
    "root = takeInput()\n",
    "\n",
    "if isMirror(root,root):\n",
    "    print('true')\n",
    "else :\n",
    "    print('false')\n"
   ]
  },
  {
   "cell_type": "code",
   "execution_count": null,
   "id": "bfdc0a92",
   "metadata": {},
   "outputs": [],
   "source": []
  },
  {
   "cell_type": "code",
   "execution_count": null,
   "id": "bc4d0c71",
   "metadata": {},
   "outputs": [],
   "source": []
  }
 ],
 "metadata": {
  "hide_input": false,
  "kernelspec": {
   "display_name": "Python 3 (ipykernel)",
   "language": "python",
   "name": "python3"
  },
  "language_info": {
   "codemirror_mode": {
    "name": "ipython",
    "version": 3
   },
   "file_extension": ".py",
   "mimetype": "text/x-python",
   "name": "python",
   "nbconvert_exporter": "python",
   "pygments_lexer": "ipython3",
   "version": "3.10.8"
  }
 },
 "nbformat": 4,
 "nbformat_minor": 5
}
