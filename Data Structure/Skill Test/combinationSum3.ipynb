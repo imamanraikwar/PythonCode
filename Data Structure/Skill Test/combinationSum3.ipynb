{
 "cells": [
  {
   "cell_type": "code",
   "execution_count": 3,
   "id": "6130edc5",
   "metadata": {},
   "outputs": [],
   "source": [
    "import itertools\n",
    "\n",
    "class Solution:\n",
    "\n",
    "    def combinationSum3(self, k: int, n: int):\n",
    "        arr = []\n",
    "        list1 = [1,2,3,4,5,6,7,8,9]\n",
    "        for seq in itertools.combinations(list1,k):\n",
    "            if sum(seq) == n:\n",
    "                arr.append(seq)\n",
    "        return arr\n"
   ]
  },
  {
   "cell_type": "code",
   "execution_count": 4,
   "id": "0a8d3dec",
   "metadata": {},
   "outputs": [
    {
     "name": "stdout",
     "output_type": "stream",
     "text": [
      "[(1, 2, 4)]\n"
     ]
    }
   ],
   "source": [
    "obj = Solution()\n",
    "print(obj.combinationSum3(3,7))"
   ]
  },
  {
   "cell_type": "code",
   "execution_count": null,
   "id": "15b33c99",
   "metadata": {},
   "outputs": [],
   "source": []
  }
 ],
 "metadata": {
  "hide_input": false,
  "kernelspec": {
   "display_name": "Python 3 (ipykernel)",
   "language": "python",
   "name": "python3"
  },
  "language_info": {
   "codemirror_mode": {
    "name": "ipython",
    "version": 3
   },
   "file_extension": ".py",
   "mimetype": "text/x-python",
   "name": "python",
   "nbconvert_exporter": "python",
   "pygments_lexer": "ipython3",
   "version": "3.9.12"
  }
 },
 "nbformat": 4,
 "nbformat_minor": 5
}
