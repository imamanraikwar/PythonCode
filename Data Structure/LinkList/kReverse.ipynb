{
 "cells": [
  {
   "cell_type": "code",
   "execution_count": 1,
   "id": "e533724d",
   "metadata": {
    "ExecuteTime": {
     "end_time": "2022-10-25T15:58:13.743380Z",
     "start_time": "2022-10-25T15:58:13.736375Z"
    }
   },
   "outputs": [],
   "source": [
    "class Node:\n",
    "    def __init__(self,data):\n",
    "        self.data = data\n",
    "        self.next = None"
   ]
  },
  {
   "cell_type": "code",
   "execution_count": 2,
   "id": "c5c69ca7",
   "metadata": {
    "ExecuteTime": {
     "end_time": "2022-10-25T15:58:19.662776Z",
     "start_time": "2022-10-25T15:58:19.647132Z"
    }
   },
   "outputs": [],
   "source": [
    "def takeInput():\n",
    "    list = [int(ch) for ch in input().split()]\n",
    "    head = False\n",
    "    tail = False\n",
    "    for data in list:\n",
    "        newNode = Node(str(data))\n",
    "        if head is False:\n",
    "            head = newNode\n",
    "            tail = newNode\n",
    "        else :\n",
    "            tail.next = newNode\n",
    "            tail = newNode\n",
    "            \n",
    "    return head\n",
    "                       \n",
    "    "
   ]
  },
  {
   "cell_type": "code",
   "execution_count": 3,
   "id": "724d1680",
   "metadata": {
    "ExecuteTime": {
     "end_time": "2022-10-25T15:58:21.066972Z",
     "start_time": "2022-10-25T15:58:21.061969Z"
    }
   },
   "outputs": [],
   "source": [
    "def printList(head):    \n",
    "    while head is not None :\n",
    "        print(head.data,'-->',end='')\n",
    "        head = head.next\n",
    "    print(None)\n",
    "    return"
   ]
  },
  {
   "cell_type": "code",
   "execution_count": 14,
   "id": "1d0d230b",
   "metadata": {},
   "outputs": [],
   "source": [
    "def revlist( head , tail ) :\n",
    "    \n",
    "    if head.next is None or head.data == tail.data : \n",
    "        head.next = None\n",
    "        return head , tail\n",
    "    \n",
    "    newhead , tail = revlist(head.next,tail)\n",
    "    if newhead.next is None :\n",
    "        newhead.next = head\n",
    "        head.next = None\n",
    "    else :\n",
    "        temp = newhead\n",
    "        while temp.next is not None:\n",
    "            temp = temp.next\n",
    "        temp.next  = head\n",
    "        head.next = None\n",
    "    return newhead , head\n",
    "\n",
    "def mergetwolist(firsthead,sechead,firsttail,sectail):\n",
    "    if firsthead == None :\n",
    "        sectail.next = None\n",
    "        return sechead , sectail\n",
    "    else :\n",
    "        firsttail.next = sechead\n",
    "        sectail.next = None\n",
    "        return firsthead , sectail\n",
    "\n",
    "def kReverse(head, k) :\n",
    "\t#Your code goes here\n",
    "    if k == 0 or head is None:\n",
    "        return head\n",
    "    \n",
    "    firsthead = None\n",
    "    firsttail = None\n",
    "    tail = head\n",
    "    count = 1\n",
    "    while tail is not None :\n",
    "        if count == k or tail.next is None:\n",
    "            temp = tail.next\n",
    "            #print(temp.data)\n",
    "            #print(tail.data)\n",
    "            sechead,sectail = revlist(head,tail)\n",
    "            #print(sechead.data, sechead.next.data,sectail.data,sectail.next)\n",
    "            firsthead , firsttail = mergetwolist(firsthead,sechead,firsttail,sectail)\n",
    "            #print(firsthead.data,firsthead.next.data,firsttail.data,firsttail.next)\n",
    "            #print(temp.data,temp.next.data)\n",
    "            head = temp\n",
    "            tail = temp\n",
    "            #print(tail.data)\n",
    "            #print('headdata',head.data)\n",
    "            count = 1\n",
    "        else :\n",
    "            tail = tail.next\n",
    "            count += 1\n",
    "    return firsthead\n",
    "    "
   ]
  },
  {
   "cell_type": "code",
   "execution_count": null,
   "id": "79956696",
   "metadata": {},
   "outputs": [],
   "source": [
    "def kReverse(head, k):\n",
    "    curr, prev, next = head, None, None\n",
    "    cnt = 0\n",
    "    while curr is not None and cnt < k:\n",
    "        next = curr.next\n",
    "        curr.next = prev\n",
    "        prev = curr\n",
    "        curr = next\n",
    "        cnt += 1\n",
    "\n",
    "    if next is not None:\n",
    "        head.next = kReverse(next, k)\n",
    "\n",
    "    return prev"
   ]
  },
  {
   "cell_type": "code",
   "execution_count": 17,
   "id": "a0f15c97",
   "metadata": {
    "ExecuteTime": {
     "end_time": "2022-10-25T15:59:13.827740Z",
     "start_time": "2022-10-25T15:59:09.016471Z"
    }
   },
   "outputs": [
    {
     "name": "stdout",
     "output_type": "stream",
     "text": [
      "1 2 3 4 5 6\n",
      "1 -->2 -->3 -->4 -->5 -->6 -->None\n",
      "3 -->2 -->1 -->4 -->5 -->6 -->None\n",
      "1 -->2 -->3 -->4 -->5 -->6 -->None\n",
      "3 -->2 -->1 -->4 -->5 -->6 -->None\n"
     ]
    }
   ],
   "source": [
    "head1 = takeInput()\n",
    "printList(head)\n",
    "head2 = kReverse(head)\n",
    "printList(head2)\n",
    "printList(head1)\n",
    "printList(head2)"
   ]
  },
  {
   "cell_type": "code",
   "execution_count": null,
   "id": "662378cf",
   "metadata": {},
   "outputs": [],
   "source": []
  }
 ],
 "metadata": {
  "kernelspec": {
   "display_name": "Python 3 (ipykernel)",
   "language": "python",
   "name": "python3"
  },
  "language_info": {
   "codemirror_mode": {
    "name": "ipython",
    "version": 3
   },
   "file_extension": ".py",
   "mimetype": "text/x-python",
   "name": "python",
   "nbconvert_exporter": "python",
   "pygments_lexer": "ipython3",
   "version": "3.9.12"
  }
 },
 "nbformat": 4,
 "nbformat_minor": 5
}
