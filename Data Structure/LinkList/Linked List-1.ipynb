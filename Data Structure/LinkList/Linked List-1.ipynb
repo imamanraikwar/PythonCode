{
 "cells": [
  {
   "cell_type": "markdown",
   "id": "9cacba03",
   "metadata": {},
   "source": [
    "# Linked List-1\n"
   ]
  },
  {
   "cell_type": "code",
   "execution_count": 29,
   "id": "4f607c85",
   "metadata": {},
   "outputs": [],
   "source": [
    "class Node:\n",
    "    def __init__(self,data):\n",
    "        self.data = data\n",
    "        self.next = None"
   ]
  },
  {
   "cell_type": "code",
   "execution_count": 38,
   "id": "18e7433d",
   "metadata": {},
   "outputs": [],
   "source": [
    "def takeInput():\n",
    "    list = [int(ch) for ch in input().split()]\n",
    "    head = False\n",
    "    tail = False\n",
    "    for data in list:\n",
    "        newNode = Node(str(data))\n",
    "        if head is False:\n",
    "            head = newNode\n",
    "            tail = newNode\n",
    "        else :\n",
    "            tail.next = newNode\n",
    "            tail = newNode\n",
    "            \n",
    "    return head\n",
    "                       \n",
    "    "
   ]
  },
  {
   "cell_type": "code",
   "execution_count": 36,
   "id": "31da12f1",
   "metadata": {},
   "outputs": [],
   "source": [
    "def printList(head):\n",
    "    \n",
    "    while head is not None :\n",
    "        print(head.data,'-->',end='')\n",
    "        head = head.next\n",
    "    print(None)\n",
    "    return"
   ]
  },
  {
   "cell_type": "code",
   "execution_count": 49,
   "id": "f2a8d035",
   "metadata": {},
   "outputs": [],
   "source": [
    "def insert(head,item,index):\n",
    "    count = 0\n",
    "    t_head = head\n",
    "    while head is not None :\n",
    "        if count == index - 1:\n",
    "            temp = head.next\n",
    "            head.next = item\n",
    "            item.next = temp\n",
    "            return t_head\n",
    "        head = head.next\n",
    "        count += 1"
   ]
  },
  {
   "cell_type": "code",
   "execution_count": 53,
   "id": "7e137eba",
   "metadata": {},
   "outputs": [],
   "source": [
    "def deleteIndex(head,index):\n",
    "    count = 0\n",
    "    t_head = head\n",
    "    while head is not None :\n",
    "        if count == index - 1:\n",
    "            temp = head.next\n",
    "            head.next = temp.next\n",
    "            return t_head\n",
    "            \n",
    "            \n",
    "        head = head.next\n",
    "        count += 1"
   ]
  },
  {
   "cell_type": "code",
   "execution_count": 52,
   "id": "4c92f21b",
   "metadata": {},
   "outputs": [
    {
     "name": "stdout",
     "output_type": "stream",
     "text": [
      "1 2 3 5 5 6\n",
      "1 -->2 -->3 -->5 -->5 -->6 -->None\n",
      "Insert Item : 4\n",
      "Insert Index: 3\n",
      "1 -->2 -->3 -->4 -->5 -->5 -->6 -->None\n",
      "Delete nth index : 1\n",
      "1 -->3 -->4 -->5 -->5 -->6 -->None\n"
     ]
    }
   ],
   "source": []
  },
  {
   "cell_type": "code",
   "execution_count": 55,
   "id": "f6b31d79",
   "metadata": {},
   "outputs": [
    {
     "name": "stdout",
     "output_type": "stream",
     "text": [
      "1 2 4 5 6\n",
      "1 -->2 -->4 -->5 -->6 -->None\n",
      "Insert Item : 3\n",
      "Insert Index: 2\n",
      "1 -->2 -->3 -->4 -->5 -->6 -->None\n",
      "Delete nth index : 4\n",
      "1 -->2 -->3 -->4 -->6 -->None\n"
     ]
    }
   ],
   "source": [
    "head = takeInput()\n",
    "printList(head)\n",
    "item = int(input('Insert Item : '))\n",
    "index = int(input('Insert Index: '))\n",
    "head = insert(head , Node(item),index)\n",
    "printList(head)\n",
    "index = int(input('Delete nth index : '))\n",
    "head = deleteIndex(head,index)\n",
    "printList(head)"
   ]
  },
  {
   "cell_type": "code",
   "execution_count": null,
   "id": "79dcbd4a",
   "metadata": {},
   "outputs": [],
   "source": []
  }
 ],
 "metadata": {
  "kernelspec": {
   "display_name": "Python 3 (ipykernel)",
   "language": "python",
   "name": "python3"
  },
  "language_info": {
   "codemirror_mode": {
    "name": "ipython",
    "version": 3
   },
   "file_extension": ".py",
   "mimetype": "text/x-python",
   "name": "python",
   "nbconvert_exporter": "python",
   "pygments_lexer": "ipython3",
   "version": "3.9.12"
  }
 },
 "nbformat": 4,
 "nbformat_minor": 5
}
