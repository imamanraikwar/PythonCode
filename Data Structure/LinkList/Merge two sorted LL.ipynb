{
 "cells": [
  {
   "cell_type": "code",
   "execution_count": 58,
   "id": "b24e2ad1",
   "metadata": {},
   "outputs": [],
   "source": [
    "class Node :\n",
    "    def __init__(self,data):\n",
    "        self.data = data\n",
    "        self.next = None"
   ]
  },
  {
   "cell_type": "code",
   "execution_count": 59,
   "id": "65803e22",
   "metadata": {},
   "outputs": [],
   "source": [
    "def inputList():\n",
    "    list = [int(ele) for ele in input().split() ]\n",
    "    head = None\n",
    "    tail = None\n",
    "    for data in list:\n",
    "        if head != None:\n",
    "            tail.next = Node(data)\n",
    "            tail = tail.next\n",
    "            \n",
    "        else :\n",
    "            head = Node(data)\n",
    "            tail = head\n",
    "    return head\n",
    "            \n",
    "            \n",
    "        \n",
    "    "
   ]
  },
  {
   "cell_type": "code",
   "execution_count": 60,
   "id": "7ef53d98",
   "metadata": {},
   "outputs": [],
   "source": [
    "def printList(head):\n",
    "    while head is not None:\n",
    "        print(head.data,'-->',end='')\n",
    "        head = head.next\n",
    "    print('None')"
   ]
  },
  {
   "cell_type": "code",
   "execution_count": 61,
   "id": "33ba2c1a",
   "metadata": {},
   "outputs": [],
   "source": [
    "def mergetwosortedarray(head1,head2):   \n",
    "    if head1.data <= head2.data:\n",
    "        newhead = head1\n",
    "        tail = head1\n",
    "        head1 = head1.next\n",
    "        \n",
    "    else:\n",
    "        newhead = head2\n",
    "        tail = head2\n",
    "        head1 = head2.next\n",
    "    while head1 is not None and head2 is not None :\n",
    "        if head1.data <= head2.data:\n",
    "            tail.next = head1\n",
    "            tail = tail.next\n",
    "            head1 = head1.next\n",
    "        else :\n",
    "            tail.next = head2\n",
    "            tail = tail.next\n",
    "            head2 = head2.next\n",
    "    if head1!= None :\n",
    "        tail.next = head1\n",
    "    else :\n",
    "        tail.next = head2\n",
    "    return newhead\n",
    "            \n",
    "        "
   ]
  },
  {
   "cell_type": "code",
   "execution_count": 62,
   "id": "7143a25b",
   "metadata": {},
   "outputs": [],
   "source": [
    "def midPoint(head) :\n",
    "    # Write your code here\n",
    "    if head == None or head.next == None:\n",
    "        return head , head\n",
    "    \n",
    "    \n",
    "    fast = head\n",
    "    slow = head\n",
    "    while (fast is not None and fast.next is not None):\n",
    "        if fast.next.next is None:\n",
    "            fast = fast.next.next\n",
    "        else :\n",
    "            slow = slow.next\n",
    "            fast = fast.next.next\n",
    "            \n",
    "    return head , slow\n",
    " \n",
    "    \n",
    "    "
   ]
  },
  {
   "cell_type": "code",
   "execution_count": 63,
   "id": "5c293727",
   "metadata": {},
   "outputs": [],
   "source": [
    "def mergeSort(head) :\n",
    "    \n",
    "    if head.next is None :\n",
    "        return head\n",
    "    \n",
    "    head1,midNode = midPoint(head)\n",
    "    head2 = midNode.next\n",
    "    midNode.next = None\n",
    "    \n",
    "    headA = mergeSort(head1)\n",
    "    headB = mergeSort(head2)\n",
    "    \n",
    "    finalhead = mergetwosortedarray(headA,headB)\n",
    "    \n",
    "    return finalhead   "
   ]
  },
  {
   "cell_type": "code",
   "execution_count": 64,
   "id": "1364393c",
   "metadata": {},
   "outputs": [
    {
     "name": "stdout",
     "output_type": "stream",
     "text": [
      "5 4 3 2 1\n",
      "5 -->4 -->3 -->2 -->1 -->None\n"
     ]
    },
    {
     "ename": "KeyboardInterrupt",
     "evalue": "",
     "output_type": "error",
     "traceback": [
      "\u001b[1;31m---------------------------------------------------------------------------\u001b[0m",
      "\u001b[1;31mKeyboardInterrupt\u001b[0m                         Traceback (most recent call last)",
      "Input \u001b[1;32mIn [64]\u001b[0m, in \u001b[0;36m<cell line: 8>\u001b[1;34m()\u001b[0m\n\u001b[0;32m      2\u001b[0m \u001b[38;5;66;03m#head2 = inputList()\u001b[39;00m\n\u001b[0;32m      3\u001b[0m \u001b[38;5;66;03m#printList(head1)\u001b[39;00m\n\u001b[0;32m      4\u001b[0m \u001b[38;5;66;03m#printList(head2)\u001b[39;00m\n\u001b[0;32m      5\u001b[0m \u001b[38;5;66;03m#sortedhead = mergetwosortedarray(head1,head2)\u001b[39;00m\n\u001b[0;32m      6\u001b[0m \u001b[38;5;66;03m#printList(sortedhead)\u001b[39;00m\n\u001b[0;32m      7\u001b[0m printList(head1)\n\u001b[1;32m----> 8\u001b[0m head \u001b[38;5;241m=\u001b[39m \u001b[43mmergeSort\u001b[49m\u001b[43m(\u001b[49m\u001b[43mhead1\u001b[49m\u001b[43m)\u001b[49m\n\u001b[0;32m      9\u001b[0m printListnt(head)\n",
      "Input \u001b[1;32mIn [63]\u001b[0m, in \u001b[0;36mmergeSort\u001b[1;34m(head)\u001b[0m\n\u001b[0;32m     10\u001b[0m headA \u001b[38;5;241m=\u001b[39m mergeSort(head1)\n\u001b[0;32m     11\u001b[0m headB \u001b[38;5;241m=\u001b[39m mergeSort(head2)\n\u001b[1;32m---> 13\u001b[0m finalhead \u001b[38;5;241m=\u001b[39m \u001b[43mmergetwosortedarray\u001b[49m\u001b[43m(\u001b[49m\u001b[43mheadA\u001b[49m\u001b[43m,\u001b[49m\u001b[43mheadB\u001b[49m\u001b[43m)\u001b[49m\n\u001b[0;32m     15\u001b[0m \u001b[38;5;28;01mreturn\u001b[39;00m finalhead\n",
      "Input \u001b[1;32mIn [61]\u001b[0m, in \u001b[0;36mmergetwosortedarray\u001b[1;34m(head1, head2)\u001b[0m\n\u001b[0;32m     11\u001b[0m \u001b[38;5;28;01mwhile\u001b[39;00m head1 \u001b[38;5;129;01mis\u001b[39;00m \u001b[38;5;129;01mnot\u001b[39;00m \u001b[38;5;28;01mNone\u001b[39;00m \u001b[38;5;129;01mand\u001b[39;00m head2 \u001b[38;5;129;01mis\u001b[39;00m \u001b[38;5;129;01mnot\u001b[39;00m \u001b[38;5;28;01mNone\u001b[39;00m :\n\u001b[0;32m     12\u001b[0m     \u001b[38;5;28;01mif\u001b[39;00m head1\u001b[38;5;241m.\u001b[39mdata \u001b[38;5;241m<\u001b[39m\u001b[38;5;241m=\u001b[39m head2\u001b[38;5;241m.\u001b[39mdata:\n\u001b[1;32m---> 13\u001b[0m         tail\u001b[38;5;241m.\u001b[39mnext \u001b[38;5;241m=\u001b[39m head1\n\u001b[0;32m     14\u001b[0m         tail \u001b[38;5;241m=\u001b[39m tail\u001b[38;5;241m.\u001b[39mnext\n\u001b[0;32m     15\u001b[0m         head1 \u001b[38;5;241m=\u001b[39m head1\u001b[38;5;241m.\u001b[39mnext\n",
      "\u001b[1;31mKeyboardInterrupt\u001b[0m: "
     ]
    }
   ],
   "source": [
    "head1 = inputList()\n",
    "#head2 = inputList()\n",
    "#printList(head1)\n",
    "#printList(head2)\n",
    "#sortedhead = mergetwosortedarray(head1,head2)\n",
    "#printList(sortedhead)\n",
    "printList(head1)\n",
    "head = mergeSort(head1)\n",
    "printListnt(head)\n"
   ]
  },
  {
   "cell_type": "code",
   "execution_count": null,
   "id": "4a9fe15e",
   "metadata": {},
   "outputs": [],
   "source": []
  }
 ],
 "metadata": {
  "kernelspec": {
   "display_name": "Python 3 (ipykernel)",
   "language": "python",
   "name": "python3"
  },
  "language_info": {
   "codemirror_mode": {
    "name": "ipython",
    "version": 3
   },
   "file_extension": ".py",
   "mimetype": "text/x-python",
   "name": "python",
   "nbconvert_exporter": "python",
   "pygments_lexer": "ipython3",
   "version": "3.9.12"
  }
 },
 "nbformat": 4,
 "nbformat_minor": 5
}
