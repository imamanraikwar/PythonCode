{
 "cells": [
  {
   "cell_type": "code",
   "execution_count": 2,
   "id": "75ab417d",
   "metadata": {},
   "outputs": [],
   "source": [
    "class Node:\n",
    "    def __init__(self,data):\n",
    "        self.data = data\n",
    "        self.next = None"
   ]
  },
  {
   "cell_type": "code",
   "execution_count": 3,
   "id": "0419c875",
   "metadata": {},
   "outputs": [],
   "source": [
    "def listInput():\n",
    "    \n",
    "    list = [int(ele) for ele in input().split()]\n",
    "    head = None\n",
    "    for data in list:\n",
    "        if data != -1 :\n",
    "            newNode = Node(data)\n",
    "\n",
    "            if head == None :\n",
    "                head = newNode\n",
    "                tail = newNode\n",
    "            else :\n",
    "                tail.next = newNode\n",
    "                tail = newNode\n",
    "    return head"
   ]
  },
  {
   "cell_type": "code",
   "execution_count": 4,
   "id": "1de30675",
   "metadata": {},
   "outputs": [],
   "source": [
    "def printList(head):\n",
    "    \n",
    "    while head is not None:\n",
    "        print(head.data,'-->',end='')\n",
    "        head = head.next\n",
    "    print('None')"
   ]
  },
  {
   "cell_type": "code",
   "execution_count": 5,
   "id": "2816c600",
   "metadata": {},
   "outputs": [],
   "source": [
    "def insertAt(head,i,data):\n",
    "    \n",
    "    if i < 0:\n",
    "        return head\n",
    "    \n",
    "    if i == 0:\n",
    "        newNode = Node(data)\n",
    "        newNode.next = head\n",
    "        return newNode\n",
    "    \n",
    "    if head is None:\n",
    "        return None\n",
    "    \n",
    "    smallhead = insertAt(head.next,i-1,data) \n",
    "    head.next = smallhead\n",
    "    return head    \n",
    "    "
   ]
  },
  {
   "cell_type": "code",
   "execution_count": 6,
   "id": "c09e0cb7",
   "metadata": {},
   "outputs": [],
   "source": [
    "def deleteAt(head,i):\n",
    "    \n",
    "    if i == 0:\n",
    "        return head.next\n",
    "    if head.next is None:\n",
    "        return None   \n",
    "    \n",
    "    newhead = deleteAt(head.next,i-1)\n",
    "    head.next = newhead\n",
    "    return head"
   ]
  },
  {
   "cell_type": "code",
   "execution_count": 17,
   "id": "3692125f",
   "metadata": {},
   "outputs": [],
   "source": []
  },
  {
   "cell_type": "code",
   "execution_count": 37,
   "id": "1e5442d6",
   "metadata": {},
   "outputs": [],
   "source": [
    "def isPalindrome(head) :\n",
    "    #Your code goes here\n",
    "    str1 = \"\"\n",
    "    while head is not None :\n",
    "        print(head.data)\n",
    "        str1 += str(head.data)\n",
    "        head = head.next\n",
    "    \n",
    "    \n",
    "        \n",
    "    \n",
    "        "
   ]
  },
  {
   "cell_type": "code",
   "execution_count": 38,
   "id": "dcb872a8",
   "metadata": {},
   "outputs": [
    {
     "name": "stdout",
     "output_type": "stream",
     "text": [
      "1 2 3\n",
      "1 -->2 -->3 -->None\n",
      "1\n",
      "2\n",
      "3\n",
      "123\n"
     ]
    }
   ],
   "source": [
    "head = listInput()\n",
    "printList(head)\n",
    "\n",
    "#index = int(input('Insert At : '))\n",
    "#data = int(input('data : '))\n",
    "#head = insertAt(head,index,data)\n",
    "#printList(head)\n",
    "#i = int(input('Delete At : '))\n",
    "#head =  deleteAt(head,i)\n",
    "#printList(head)\n",
    "\n",
    "isPalindrome(head)"
   ]
  },
  {
   "cell_type": "code",
   "execution_count": null,
   "id": "70e391f3",
   "metadata": {},
   "outputs": [],
   "source": []
  }
 ],
 "metadata": {
  "kernelspec": {
   "display_name": "Python 3 (ipykernel)",
   "language": "python",
   "name": "python3"
  },
  "language_info": {
   "codemirror_mode": {
    "name": "ipython",
    "version": 3
   },
   "file_extension": ".py",
   "mimetype": "text/x-python",
   "name": "python",
   "nbconvert_exporter": "python",
   "pygments_lexer": "ipython3",
   "version": "3.9.12"
  }
 },
 "nbformat": 4,
 "nbformat_minor": 5
}
