{
 "cells": [
  {
   "cell_type": "code",
   "execution_count": 13,
   "id": "923936e9",
   "metadata": {},
   "outputs": [
    {
     "data": {
      "text/plain": [
       "array([[[ 0.        , -0.2794155 , -0.53657292, -0.75098725],\n",
       "        [ 0.90929743,  0.98935825,  0.99060736,  0.91294525],\n",
       "        [-0.7568025 , -0.54402111, -0.28790332, -0.00885131]],\n",
       "\n",
       "       [[ 0.84147098,  0.6569866 ,  0.42016704,  0.14987721],\n",
       "        [ 0.14112001,  0.41211849,  0.65028784,  0.83665564],\n",
       "        [-0.95892427, -0.99999021, -0.96139749, -0.8462204 ]]])"
      ]
     },
     "execution_count": 13,
     "metadata": {},
     "output_type": "execute_result"
    }
   ],
   "source": [
    "import numpy as np\n",
    "x= np.arange(24).reshape(4,3,2)\n",
    "np.power(x,2)\n",
    "y=np.array([2,3,4,5,0,-5,-4,-3,-2])\n",
    "abs(y)\n",
    "x = x.T\n",
    "x.transpose(1,2,0)\n",
    "np.sin(x)"
   ]
  },
  {
   "cell_type": "code",
   "execution_count": 17,
   "id": "3da2a74d",
   "metadata": {},
   "outputs": [
    {
     "name": "stdout",
     "output_type": "stream",
     "text": [
      "4\n"
     ]
    },
    {
     "data": {
      "text/plain": [
       "array([[1, 1, 1, 1],\n",
       "       [1, 0, 0, 1],\n",
       "       [1, 0, 0, 1],\n",
       "       [1, 1, 1, 1]])"
      ]
     },
     "execution_count": 17,
     "metadata": {},
     "output_type": "execute_result"
    }
   ],
   "source": [
    "n= int(input())\n",
    "arr = np.ones((n,n),dtype=int)\n",
    "arr[1:-1,1:-1] = 0\n",
    "arr"
   ]
  },
  {
   "cell_type": "code",
   "execution_count": null,
   "id": "0b8dba3d",
   "metadata": {},
   "outputs": [],
   "source": []
  }
 ],
 "metadata": {
  "kernelspec": {
   "display_name": "Python 3 (ipykernel)",
   "language": "python",
   "name": "python3"
  },
  "language_info": {
   "codemirror_mode": {
    "name": "ipython",
    "version": 3
   },
   "file_extension": ".py",
   "mimetype": "text/x-python",
   "name": "python",
   "nbconvert_exporter": "python",
   "pygments_lexer": "ipython3",
   "version": "3.9.12"
  }
 },
 "nbformat": 4,
 "nbformat_minor": 5
}
