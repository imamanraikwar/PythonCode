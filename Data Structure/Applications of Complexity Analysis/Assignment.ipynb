{
 "cells": [
  {
   "cell_type": "code",
   "execution_count": null,
   "id": "878930be",
   "metadata": {},
   "outputs": [],
   "source": []
  },
  {
   "cell_type": "code",
   "execution_count": 23,
   "id": "d79c9e3e",
   "metadata": {},
   "outputs": [
    {
     "name": "stdout",
     "output_type": "stream",
     "text": [
      "[7, 6, 5, 4, 3, 2, 1]\n",
      "[4, 5, 6, 7, 1, 2, 3]\n"
     ]
    }
   ],
   "source": [
    "arr =  [1,2,3,4,5,6,7]\n",
    "#print(arr.index(9))\n",
    "arr.sort(reverse=True)\n",
    "print(arr)\n",
    "arr = arr[-4::-1] + arr [-1:-4:-1]\n",
    "print(arr)"
   ]
  },
  {
   "cell_type": "code",
   "execution_count": 32,
   "id": "ce0f3f4e",
   "metadata": {},
   "outputs": [
    {
     "name": "stdout",
     "output_type": "stream",
     "text": [
      "1\n",
      "7\n",
      "1 2 3 4 5 6 7\n",
      "4\n",
      "4 5 6 7 1 2 3\n",
      "7 6 5 4 3 2 1 \n"
     ]
    }
   ],
   "source": [
    "from sys import stdin\n",
    "\n",
    "\n",
    "def rotate(arr, n, d):\n",
    "    #Your code goes here    \n",
    "    try :\n",
    "        index = arr.index(d)\n",
    "    except :\n",
    "        return arr\n",
    "    else :\n",
    "        arr.sort(reverse = True)\n",
    "        index = arr.index(d)\n",
    "        arr = arr[-index-1::-1] + arr[-1:-index-1:-1]\n",
    "        print(*arr)\n",
    "        #return arr        \n",
    "  \n",
    "def takeInput() :\n",
    "    n = int(input())\n",
    "    if n == 0:\n",
    "        return list(), 0\n",
    "\n",
    "    arr = list(int(x) for x in input().split())\n",
    "    return arr, n\n",
    "\n",
    "\n",
    "#to print the array/list \n",
    "def printList(arr, n) : \n",
    "    for i in range(n) :\n",
    "        print(arr[i], end = \" \")\n",
    "    print()\n",
    "\n",
    "\n",
    "#main\n",
    "t = int(input())\n",
    "\n",
    "while t > 0 :\n",
    "    \n",
    "    arr, n = takeInput()\n",
    "    d = int(input())\n",
    "    rotate(arr, n, d)\n",
    "    printList(arr, n)\n",
    "    \n",
    "    t -= 1"
   ]
  },
  {
   "cell_type": "code",
   "execution_count": 35,
   "id": "2b8b6932",
   "metadata": {},
   "outputs": [
    {
     "data": {
      "text/plain": [
       "1"
      ]
     },
     "execution_count": 35,
     "metadata": {},
     "output_type": "execute_result"
    }
   ],
   "source": [
    "arr =  [1,2,3,4,5,6,7]\n",
    "arr.pop(0)\n",
    "#print(arr)"
   ]
  },
  {
   "cell_type": "code",
   "execution_count": 49,
   "id": "c588adc9",
   "metadata": {},
   "outputs": [
    {
     "name": "stdout",
     "output_type": "stream",
     "text": [
      "7\n",
      "1 2 3 4 6 3 1\n",
      "7\n",
      "4\n"
     ]
    }
   ],
   "source": [
    "n = int(input())\n",
    "arr = [int(x) for x in input().split()]\n",
    "#print(arr)\n",
    "num = int(input())\n",
    "i , j , k = 0 , 1 , 2\n",
    "count = 0\n",
    "\n",
    "while i < n - 2:\n",
    "    if arr[i] + arr[j] + arr[k] == num :\n",
    "        count += 1\n",
    "    k += 1        \n",
    "    if k == n  :\n",
    "        if j == n - 2 :\n",
    "            i += 1\n",
    "            j = i + 1\n",
    "            k = j + 1\n",
    "        else :            \n",
    "            j += 1\n",
    "            k = j + 1\n",
    "    \n",
    "print(count)"
   ]
  },
  {
   "cell_type": "code",
   "execution_count": null,
   "id": "69fa5792",
   "metadata": {},
   "outputs": [],
   "source": []
  }
 ],
 "metadata": {
  "kernelspec": {
   "display_name": "Python 3 (ipykernel)",
   "language": "python",
   "name": "python3"
  },
  "language_info": {
   "codemirror_mode": {
    "name": "ipython",
    "version": 3
   },
   "file_extension": ".py",
   "mimetype": "text/x-python",
   "name": "python",
   "nbconvert_exporter": "python",
   "pygments_lexer": "ipython3",
   "version": "3.9.12"
  }
 },
 "nbformat": 4,
 "nbformat_minor": 5
}
