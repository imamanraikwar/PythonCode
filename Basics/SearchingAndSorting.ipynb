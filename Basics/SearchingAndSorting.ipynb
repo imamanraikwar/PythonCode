{
 "cells": [
  {
   "cell_type": "raw",
   "id": "fcf74166",
   "metadata": {},
   "source": [
    "Binary Search"
   ]
  },
  {
   "cell_type": "code",
   "execution_count": 47,
   "id": "4a9cd7c5",
   "metadata": {},
   "outputs": [],
   "source": [
    "def binarySearch1(arr,x, flag= False):\n",
    "    lower_bound=0\n",
    "    upper_bound=len(arr)-1\n",
    "    \n",
    "    while lower_bound < upper_bound :\n",
    "        mid_bound=(lower_bound+upper_bound)//2\n",
    "        if arr[mid_bound]==x:\n",
    "            return \"Your value is found at the index\", mid_bound\n",
    "        if x < arr[mid_bound]:\n",
    "            upper_bound= mid_bound-1\n",
    "        else :\n",
    "            lower_bound=mid_bound+1\n",
    "            \n",
    "    return 'Your value is not found'\n",
    "            "
   ]
  },
  {
   "cell_type": "code",
   "execution_count": 51,
   "id": "dbac0b03",
   "metadata": {},
   "outputs": [
    {
     "name": "stdout",
     "output_type": "stream",
     "text": [
      "Your value is not found\n",
      "Your value is not found\n"
     ]
    }
   ],
   "source": [
    "arr=[3,4,5,6,7,8,9]\n",
    "print(binarySearch1(arr,9))\n",
    "print(binarySearch1(arr,3))"
   ]
  },
  {
   "cell_type": "raw",
   "id": "8d709d93",
   "metadata": {},
   "source": [
    "Input\n",
    "7\n",
    "1 2 3 4 5 6 7\n",
    "2\n",
    "9\n",
    "7\n",
    "\n",
    "output\n",
    "-1\n",
    "6"
   ]
  },
  {
   "cell_type": "code",
   "execution_count": 52,
   "id": "434b5f14",
   "metadata": {},
   "outputs": [
    {
     "name": "stdout",
     "output_type": "stream",
     "text": [
      "5\n",
      "1 2 3 4 5\n",
      "[1, 2, 3, 4, 5]\n",
      "2\n",
      "3\n",
      "2\n",
      "5\n",
      "4\n"
     ]
    }
   ],
   "source": [
    "def binnarSearch(arr,n,x):\n",
    "    lower_bound=0\n",
    "    upper_bound=len(arr)-1\n",
    "    \n",
    "    while lower_bound <= upper_bound :\n",
    "        mid_bound=(lower_bound+upper_bound)//2\n",
    "        if arr[mid_bound]==x:\n",
    "            return mid_bound\n",
    "        elif x < arr[mid_bound]:\n",
    "            upper_bound= mid_bound-1\n",
    "        else :\n",
    "            lower_bound=mid_bound+1\n",
    "            \n",
    "    return -1\n",
    "\n",
    "\n",
    "def takeInput():\n",
    "    n=int(input())\n",
    "    \n",
    "    if n==0:\n",
    "        return arr(),0\n",
    "    else: \n",
    "        arr=list(int(x) for x in input().split())\n",
    "        return arr, n\n",
    "                 \n",
    "arr,n = takeInput()\n",
    "print(arr)\n",
    "t=int(input())\n",
    "while t > 0 :\n",
    "    x=int(input())\n",
    "    print(binnarSearch(arr,n,x))\n",
    "    t=t-1"
   ]
  },
  {
   "cell_type": "raw",
   "id": "f071f24b",
   "metadata": {},
   "source": [
    "Bubble Sort"
   ]
  },
  {
   "cell_type": "code",
   "execution_count": 60,
   "id": "116c5f42",
   "metadata": {},
   "outputs": [
    {
     "name": "stdout",
     "output_type": "stream",
     "text": [
      " Number of Pass  0\n",
      " Pairs Swap  1 3\n",
      " Pairs Swap  2 3\n",
      " Number of Pass  1\n",
      "[1, 2, 3, 4, 5]\n"
     ]
    }
   ],
   "source": [
    "def bubbleSort(arr):\n",
    "    for i in range(len(arr)-1):\n",
    "        flag = True\n",
    "        print(\" Number of Pass \", i)\n",
    "        for j in range(len(arr)-1-i):\n",
    "            if arr[j] > arr[j+1]:\n",
    "                arr[j], arr[j+1] = arr[j+1], arr[j]\n",
    "                print(\" Pairs Swap \", arr[j], arr[j+1])\n",
    "                flag = False \n",
    "        if flag :\n",
    "            break \n",
    "    return arr\n",
    "\n",
    "arr=[3, 1, 2, 4, 5]\n",
    "print(bubbleSort(arr))"
   ]
  },
  {
   "cell_type": "raw",
   "id": "7581d02c",
   "metadata": {},
   "source": [
    "Insertion Sorting"
   ]
  },
  {
   "cell_type": "code",
   "execution_count": null,
   "id": "434e5abf",
   "metadata": {},
   "outputs": [],
   "source": [
    "def insertionSort(arr, n) :  \n",
    "    #Your code goes here\n",
    "    for i in range(n-1):\n",
    "        f=i+1\n",
    "        for j in range(i,-1,-1):\n",
    "            if arr[j] > arr[f]:\n",
    "                arr[j], arr[f]= arr[f], arr[j]\n",
    "                f=f-1\n",
    "                \n",
    "arr=[5,4,3,2,1]\n",
    "print()            "
   ]
  },
  {
   "cell_type": "raw",
   "id": "7a57c068",
   "metadata": {},
   "source": [
    "Merge Two Sorted Array"
   ]
  },
  {
   "cell_type": "code",
   "execution_count": 63,
   "id": "c4637375",
   "metadata": {},
   "outputs": [
    {
     "name": "stdout",
     "output_type": "stream",
     "text": [
      "[2, 3, 4, 4, 6, 7, 7, 8, 9, 9, 10, 13]\n"
     ]
    }
   ],
   "source": [
    "def mergeSortedArray(arr1,arr2):\n",
    "    i,j=0,0\n",
    "    len1 , len2 = len(arr1), len(arr2)\n",
    "    arr3 = []\n",
    "    \n",
    "    while i < len1 and j < len2 :\n",
    "        if arr1[i] < arr2[j]:\n",
    "            arr3.append(arr1[i])\n",
    "            i=i+1\n",
    "        else :\n",
    "            arr3.append(arr2[j])\n",
    "            j=j+1\n",
    "            \n",
    "    while i <len1:\n",
    "        arr3.append(arr1[i])\n",
    "        i=i+1\n",
    "    while j <len2:\n",
    "        arr3.append(arr2[j])\n",
    "        j=j+1\n",
    "    return arr3\n",
    "        \n",
    "a1=[2,3,4,7,9]\n",
    "a2=[4,6,7,8,9,10,13]\n",
    "print(mergeSortedArray(a1,a2))\n",
    "        "
   ]
  },
  {
   "cell_type": "code",
   "execution_count": null,
   "id": "64630b4a",
   "metadata": {},
   "outputs": [],
   "source": [
    "    for i in range (n): \n",
    "        if arr[i]==0:\n",
    "            for j in range (i+1,n):\n",
    "                 \n",
    "                if arr[j]!=0:\n",
    "                \n",
    "                    arr[i],arr[j]= arr[j], arr[i]\n",
    "                    break \n",
    "    "
   ]
  },
  {
   "cell_type": "code",
   "execution_count": null,
   "id": "77576821",
   "metadata": {},
   "outputs": [],
   "source": []
  }
 ],
 "metadata": {
  "kernelspec": {
   "display_name": "Python 3 (ipykernel)",
   "language": "python",
   "name": "python3"
  },
  "language_info": {
   "codemirror_mode": {
    "name": "ipython",
    "version": 3
   },
   "file_extension": ".py",
   "mimetype": "text/x-python",
   "name": "python",
   "nbconvert_exporter": "python",
   "pygments_lexer": "ipython3",
   "version": "3.9.12"
  }
 },
 "nbformat": 4,
 "nbformat_minor": 5
}
