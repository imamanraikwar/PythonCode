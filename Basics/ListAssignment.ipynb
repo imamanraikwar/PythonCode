{
 "cells": [
  {
   "cell_type": "code",
   "execution_count": 1,
   "id": "7263a795",
   "metadata": {},
   "outputs": [],
   "source": [
    "str = \"Welcome to Coding Ninjas\""
   ]
  },
  {
   "cell_type": "code",
   "execution_count": 2,
   "id": "6a19b782",
   "metadata": {},
   "outputs": [
    {
     "name": "stdout",
     "output_type": "stream",
     "text": [
      "o\n",
      "4\n"
     ]
    }
   ],
   "source": [
    "a = str.split(\" \")\n",
    "print(a[0][4])\n",
    "print(len(a))"
   ]
  },
  {
   "cell_type": "code",
   "execution_count": 3,
   "id": "247a22fc",
   "metadata": {},
   "outputs": [
    {
     "name": "stdout",
     "output_type": "stream",
     "text": [
      " emocleW ot gnidoC sajniN \n"
     ]
    }
   ],
   "source": [
    "str= ' '\n",
    "for i in range(len(a)):    \n",
    "    for j in a[i][-1::-1]:\n",
    "        str+=j\n",
    "    str+=' '\n",
    "print(str)"
   ]
  },
  {
   "cell_type": "code",
   "execution_count": 4,
   "id": "1a931852",
   "metadata": {},
   "outputs": [
    {
     "ename": "NameError",
     "evalue": "name 'string' is not defined",
     "output_type": "error",
     "traceback": [
      "\u001b[1;31m---------------------------------------------------------------------------\u001b[0m",
      "\u001b[1;31mNameError\u001b[0m                                 Traceback (most recent call last)",
      "Input \u001b[1;32mIn [4]\u001b[0m, in \u001b[0;36m<cell line: 2>\u001b[1;34m()\u001b[0m\n\u001b[0;32m      1\u001b[0m str2 \u001b[38;5;241m=\u001b[39m \u001b[38;5;124m'\u001b[39m\u001b[38;5;124maabbaccaaddeeeffa\u001b[39m\u001b[38;5;124m'\u001b[39m\n\u001b[1;32m----> 2\u001b[0m \u001b[38;5;28mprint\u001b[39m(\u001b[43mstring\u001b[49m\u001b[38;5;241m.\u001b[39mcount(\u001b[38;5;124m\"\u001b[39m\u001b[38;5;124ma\u001b[39m\u001b[38;5;124m\"\u001b[39m))\n",
      "\u001b[1;31mNameError\u001b[0m: name 'string' is not defined"
     ]
    }
   ],
   "source": [
    "str2 = 'aabbaccaaddeeeffa'\n",
    "print(string.count(\"a\"))"
   ]
  },
  {
   "cell_type": "code",
   "execution_count": null,
   "id": "f09b0ec9",
   "metadata": {},
   "outputs": [],
   "source": [
    "str2='bbaccafffaddeeeffaa'\n",
    "count=0\n",
    "for i in str2[-1::-1]:\n",
    "    n= str2.count(i)\n",
    "    print(i, \" is \", n)\n",
    "    if n>=count:        \n",
    "        count=n\n",
    "        count_index=i\n",
    "print(count_index)"
   ]
  },
  {
   "cell_type": "code",
   "execution_count": null,
   "id": "b7f5b917",
   "metadata": {},
   "outputs": [],
   "source": [
    "n=2\n",
    "s='Aman { }'\n",
    "print()"
   ]
  },
  {
   "cell_type": "code",
   "execution_count": 22,
   "id": "d0aa0795",
   "metadata": {
    "scrolled": true
   },
   "outputs": [
    {
     "name": "stdout",
     "output_type": "stream",
     "text": [
      "a3b2cd2e5\n"
     ]
    }
   ],
   "source": [
    "input = 'aaabbcddeeeee'\n",
    "#print(len(input))\n",
    "str = input[0]\n",
    "c_str=''\n",
    "count=1\n",
    "s=1\n",
    "f1=True\n",
    "i=1\n",
    "while i < len(input):\n",
    "    #print(i)\n",
    "    #print(input[i])\n",
    "    flag = True\n",
    "    \n",
    "    s=s+1  \n",
    "    #print(s)\n",
    "    #print(len(input))\n",
    "            \n",
    "    if str == input[i] and f1:\n",
    "        count+=1\n",
    "        Flag = False        \n",
    "    \n",
    "    elif flag :\n",
    "        #print(\"flag\")\n",
    "        if count==1:\n",
    "            c_str+=str\n",
    "        elif count==2:\n",
    "            c_str+=str\n",
    "            c_str+='2'\n",
    "        elif count==3:\n",
    "            c_str+=str\n",
    "            c_str+='3'\n",
    "        elif count==4:\n",
    "            c_str+=str\n",
    "            c_str+='4'\n",
    "        elif count==5:\n",
    "            c_str+=str\n",
    "            c_str+='5'\n",
    "        elif count==6:\n",
    "            c_str+=str\n",
    "            c_str+='6'\n",
    "        elif count==7:\n",
    "            c_str+=str\n",
    "            c_str+='7'\n",
    "        elif count==8:\n",
    "            c_str+=str\n",
    "            c_str+='8'\n",
    "        elif count==9:\n",
    "            c_str+=str\n",
    "            c_str+='9'                    \n",
    "        count=1\n",
    "        str=input[i]\n",
    "    i=i+1\n",
    "    if i==len(input) and f1:\n",
    "        i=i-1\n",
    "        f1 = False \n",
    "                        \n",
    "#print(i)\n",
    "print(c_str)\n",
    "        \n",
    "        \n",
    "        "
   ]
  },
  {
   "cell_type": "code",
   "execution_count": 26,
   "id": "09afd94b",
   "metadata": {},
   "outputs": [
    {
     "name": "stdout",
     "output_type": "stream",
     "text": [
      "['a', 'a', 'a', 'b', 'b', 'c', 'd', 'd', 'e', 'e', 'e', 'e', 'e']\n"
     ]
    }
   ],
   "source": [
    "input = 'aaabbcddeeeee'\n",
    "arr=list()\n",
    "for i in range(len(input)):\n",
    "    arr.append(input[i])\n",
    "print(arr)"
   ]
  },
  {
   "cell_type": "code",
   "execution_count": null,
   "id": "a1a4a560",
   "metadata": {},
   "outputs": [],
   "source": []
  },
  {
   "cell_type": "code",
   "execution_count": 10,
   "id": "41878069",
   "metadata": {},
   "outputs": [
    {
     "name": "stdout",
     "output_type": "stream",
     "text": [
      "[5, 1, 2, 3, 4]\n"
     ]
    }
   ],
   "source": [
    "def rotate(arr,n,d):\n",
    "    arr1=[]\n",
    "    flag = False \n",
    "    for i in range(n):\n",
    "        arr1.append(arr[i])\n",
    "        if arr[i]==d:\n",
    "            d_times=i\n",
    "            flag= True\n",
    "    if flag:\n",
    "        for i in range(d_times+1):\n",
    "            temp = arr[0]\n",
    "            for j in range(n-1):\n",
    "                arr[j]=arr[j+1]\n",
    "            arr[n-1] = temp        \n",
    "    else :\n",
    "        pass\n",
    "            \n",
    "        \n",
    "    \n",
    "\n",
    "arr=[1,2,3,4,5]\n",
    "rotate(arr,5,4)\n",
    "print(arr)"
   ]
  },
  {
   "cell_type": "code",
   "execution_count": null,
   "id": "03f50223",
   "metadata": {},
   "outputs": [],
   "source": []
  },
  {
   "cell_type": "code",
   "execution_count": 51,
   "id": "d308600d",
   "metadata": {},
   "outputs": [
    {
     "name": "stdout",
     "output_type": "stream",
     "text": [
      "9\n",
      "[0, 9, 9, 3, 8]\n"
     ]
    }
   ],
   "source": [
    "def sumOfTwoArrays(arr1, n, arr2, m, output) :\n",
    "    #Your code goes here\n",
    "    max_size = max(n,m)\n",
    "    min_size = min(n,m)\n",
    "    #print(max_size)\n",
    "    #print(min_size)\n",
    "    if n>m :\n",
    "        for i in range(max_size-min_size):\n",
    "            arr2.insert(0,0)\n",
    "    else:\n",
    "        for i in range(max_size-min_size):\n",
    "            arr1.insert(0,0)\n",
    "    #print(arr1)\n",
    "    #print(arr2)\n",
    "    r=0\n",
    "    for i in range(-1,-max_size-1,-1):\n",
    "        sum=arr1[i]+arr2[i]+r\n",
    "        value=sum%10\n",
    "        r=sum//10\n",
    "        output[i]=value\n",
    "    #print(r)\n",
    "    print(value)\n",
    "    output[-max_size-1]=r\n",
    "    print(output)\n",
    "        \n",
    "    \n",
    "    \n",
    "    \n",
    "arr1=[6,3]\n",
    "arr2=[9,8,7,5]\n",
    "n,m=3,2\n",
    "outputSize = (1 + max(len(arr1), len(arr2)))\n",
    "output = outputSize * [0]\n",
    "sumOfTwoArrays(arr1,len(arr1),arr2,len(arr2),output)"
   ]
  },
  {
   "cell_type": "code",
   "execution_count": null,
   "id": "1bb523c4",
   "metadata": {},
   "outputs": [],
   "source": []
  },
  {
   "cell_type": "code",
   "execution_count": 56,
   "id": "d05131dc",
   "metadata": {},
   "outputs": [
    {
     "name": "stdout",
     "output_type": "stream",
     "text": [
      "list is empty\n"
     ]
    }
   ],
   "source": [
    "list1 = {\"a\": 1, \"b\": 2, \"c\": 3}\n",
    "list2 = []\n",
    "\n",
    "if list2:\n",
    "\tprint(\"list is not empty\")\n",
    "else:\n",
    "\tprint(\"list is empty\")\n"
   ]
  },
  {
   "cell_type": "code",
   "execution_count": null,
   "id": "1b0e6fce",
   "metadata": {},
   "outputs": [],
   "source": []
  },
  {
   "cell_type": "code",
   "execution_count": 57,
   "id": "174c7a63",
   "metadata": {},
   "outputs": [
    {
     "name": "stdout",
     "output_type": "stream",
     "text": [
      "Using reverse()  [15, 14, 13, 12, 11, 10]\n"
     ]
    }
   ],
   "source": [
    "lst = [10, 11, 12, 13, 14, 15]\n",
    "lst.reverse()\n",
    "print(\"Using reverse() \", lst)"
   ]
  },
  {
   "cell_type": "code",
   "execution_count": null,
   "id": "b128c33c",
   "metadata": {},
   "outputs": [],
   "source": []
  }
 ],
 "metadata": {
  "kernelspec": {
   "display_name": "Python 3 (ipykernel)",
   "language": "python",
   "name": "python3"
  },
  "language_info": {
   "codemirror_mode": {
    "name": "ipython",
    "version": 3
   },
   "file_extension": ".py",
   "mimetype": "text/x-python",
   "name": "python",
   "nbconvert_exporter": "python",
   "pygments_lexer": "ipython3",
   "version": "3.9.12"
  }
 },
 "nbformat": 4,
 "nbformat_minor": 5
}
