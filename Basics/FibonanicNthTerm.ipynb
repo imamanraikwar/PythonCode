{
 "cells": [
  {
   "cell_type": "code",
   "execution_count": 5,
   "id": "b6d16164",
   "metadata": {},
   "outputs": [
    {
     "name": "stdout",
     "output_type": "stream",
     "text": [
      "9\n",
      "34\n"
     ]
    }
   ],
   "source": [
    "n=int(input())\n",
    "\n",
    "fp=1\n",
    "sp=1\n",
    "i=3\n",
    "\n",
    "if n==1 :\n",
    "    print(\"1\")\n",
    "if n==2 :\n",
    "    print(\"2\")\n",
    "else :\n",
    "    while i<=n :\n",
    "        fn=0\n",
    "        fn=sp+fp\n",
    "        sp=fp\n",
    "        fp=fn\n",
    "        i=i+1\n",
    "        \n",
    "    print(fn)\n",
    "        \n",
    "        \n",
    "    \n"
   ]
  }
 ],
 "metadata": {
  "kernelspec": {
   "display_name": "Python 3 (ipykernel)",
   "language": "python",
   "name": "python3"
  },
  "language_info": {
   "codemirror_mode": {
    "name": "ipython",
    "version": 3
   },
   "file_extension": ".py",
   "mimetype": "text/x-python",
   "name": "python",
   "nbconvert_exporter": "python",
   "pygments_lexer": "ipython3",
   "version": "3.9.12"
  }
 },
 "nbformat": 4,
 "nbformat_minor": 5
}
