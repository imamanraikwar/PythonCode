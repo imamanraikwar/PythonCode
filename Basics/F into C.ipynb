{
 "cells": [
  {
   "cell_type": "code",
   "execution_count": 9,
   "id": "6ea0db9e",
   "metadata": {},
   "outputs": [
    {
     "name": "stdout",
     "output_type": "stream",
     "text": [
      "Start Fahrenheit Value 0\n",
      "End Fahrenheit value 100\n",
      "Step Size 20\n",
      "0 -17\n",
      "20 -6\n",
      "40 4\n",
      "60 15\n",
      "80 26\n",
      "100 37\n"
     ]
    }
   ],
   "source": [
    "s=int(input(\"Start Fahrenheit Value \"))\n",
    "e=int(input(\"End Fahrenheit value \"))\n",
    "w=int(input(\"Step Size \"))\n",
    "c=0\n",
    "\n",
    "while s<=e :\n",
    "    c=int((s-32)*5/9)\n",
    "    print(s,c)\n",
    "    s=s+w    "
   ]
  },
  {
   "cell_type": "code",
   "execution_count": 3,
   "id": "dbafca02",
   "metadata": {},
   "outputs": [
    {
     "name": "stdout",
     "output_type": "stream",
     "text": [
      "2\n",
      "4\n",
      "2\n",
      "2\n",
      "3\n",
      "4\n",
      "2\n",
      "8\n",
      "7\n",
      "Invalid Operation\n",
      "6\n"
     ]
    }
   ],
   "source": [
    "flag= True\n",
    " \n",
    "while flag :\n",
    "    \n",
    "    n=int(input())\n",
    "    \n",
    "    if n==1:\n",
    "        f=int(input())\n",
    "        s=int(input())\n",
    "        print(f+s)\n",
    "        \n",
    "\n",
    "    if n==2:\n",
    "        f=int(input())\n",
    "        s=int(input())\n",
    "        print(f-s)\n",
    "        \n",
    "        \n",
    "    if n==3:\n",
    "        f=int(input())\n",
    "        s=int(input())\n",
    "        print(f*s)\n",
    "        \n",
    "        \n",
    "    if n==4:\n",
    "        f=int(input())\n",
    "        s=int(input())\n",
    "        print(f/s)\n",
    "        \n",
    "        \n",
    "    if n==5:\n",
    "        f=int(input())\n",
    "        s=int(input())\n",
    "        print(f%s)\n",
    "        \n",
    "        \n",
    "        \n",
    "    if n==7:\n",
    "        print(\"Invalid Operation\")\n",
    "        test= True\n",
    "        \n",
    "        \n",
    "    if n==6:\n",
    "        flag= False\n",
    "        \n",
    "            \n",
    "                        \n",
    "         \n",
    "        \n"
   ]
  },
  {
   "cell_type": "code",
   "execution_count": 14,
   "id": "79763d2e",
   "metadata": {},
   "outputs": [
    {
     "name": "stdout",
     "output_type": "stream",
     "text": [
      "2\n"
     ]
    }
   ],
   "source": [
    "a=4\n",
    "b=2\n",
    "print(int(a/b))"
   ]
  },
  {
   "cell_type": "code",
   "execution_count": 16,
   "id": "17358de7",
   "metadata": {},
   "outputs": [
    {
     "name": "stdout",
     "output_type": "stream",
     "text": [
      "3\n",
      "4\n",
      "2\n",
      "8\n",
      "1\n",
      "3\n",
      "2\n",
      "5\n",
      "7\n",
      "Invalid Operation\n",
      "6\n"
     ]
    }
   ],
   "source": [
    "flag= True\n",
    " \n",
    "while flag :\n",
    "    \n",
    "    n=int(input())\n",
    "    \n",
    "    if n==1 or n==2 or n==3 or n==4 or n==5 :\n",
    "        f= int(input())\n",
    "        s= int(input())\n",
    "    \n",
    "    if n==7:\n",
    "        print(\"Invalid Operation\")        \n",
    "        \n",
    "    if n==6:\n",
    "        flag= False\n",
    "    \n",
    "    \n",
    "    if n==1:\n",
    "        print(f+s)\n",
    "        \n",
    "\n",
    "    if n==2:\n",
    "        print(f-s)\n",
    "        \n",
    "        \n",
    "    if n==3:\n",
    "        print(f*s)\n",
    "        \n",
    "        \n",
    "    if n==4:\n",
    "        print(int(f/s))\n",
    "        \n",
    "        \n",
    "    if n==5:\n",
    "        print(f%s)\n",
    "        \n",
    "        \n",
    "        \n",
    "    "
   ]
  },
  {
   "cell_type": "code",
   "execution_count": null,
   "id": "ed2bdd92",
   "metadata": {},
   "outputs": [],
   "source": [
    "flag= True\n",
    " \n",
    "while flag :\n",
    "    \n",
    "    n=int(input())\n",
    "    \n",
    "    if n==1 or n==2 or n==3 or n==4 or n==5 :\n",
    "        f= int(input())\n",
    "        s= int(input())\n",
    "    \n",
    "    if n==7:\n",
    "        print(\"Invalid Operation\")        \n",
    "        \n",
    "    if n==6:\n",
    "        flag= False\n",
    "    \n",
    "    \n",
    "    if n==1:\n",
    "        print(f+s)\n",
    "        \n",
    "\n",
    "    if n==2:\n",
    "        print(f-s)\n",
    "        \n",
    "        \n",
    "    if n==3:\n",
    "        print(f*s)\n",
    "        \n",
    "        \n",
    "    if n==4:\n",
    "        print(int(f/s))\n",
    "        \n",
    "        \n",
    "    if n==5:\n",
    "        print(f%s)\n",
    "        \n",
    "        \n",
    "        \n",
    "    "
   ]
  },
  {
   "cell_type": "code",
   "execution_count": null,
   "id": "ad4cf6f0",
   "metadata": {},
   "outputs": [],
   "source": [
    "n=int(input())\n",
    "    \n",
    "    if n==1 or n==2 or n==3 or n==4 or n==5 :\n",
    "        f= int(input())\n",
    "        s= int(input())"
   ]
  },
  {
   "cell_type": "code",
   "execution_count": null,
   "id": "dcd5c761",
   "metadata": {},
   "outputs": [],
   "source": [
    "n=int(input())n=int(input())"
   ]
  },
  {
   "cell_type": "code",
   "execution_count": 19,
   "id": "c7f3db5a",
   "metadata": {},
   "outputs": [
    {
     "name": "stdout",
     "output_type": "stream",
     "text": [
      "1234567890\n",
      "987654321\n"
     ]
    }
   ],
   "source": [
    "n=int(input())\n",
    "R=0\n",
    "while n!=0 :\n",
    "    \n",
    "    r=n%10\n",
    "    n=n//10\n",
    "    R=R*10+r\n",
    "    \n",
    "print(R)    \n",
    "    \n",
    "    \n",
    "    \n",
    "    "
   ]
  },
  {
   "cell_type": "code",
   "execution_count": 22,
   "id": "a7dd6956",
   "metadata": {},
   "outputs": [
    {
     "name": "stdout",
     "output_type": "stream",
     "text": [
      "123\n"
     ]
    }
   ],
   "source": [
    "N=int(input())\n",
    "a=N\n",
    "P=0\n",
    "while a!=0 :\n",
    "    \n",
    "    r=a%10\n",
    "    a=a//10\n",
    "    P=P*10+r\n",
    "if N==P :\n",
    "    print(\"Number Is palindrome\")\n",
    "\n",
    "\n"
   ]
  },
  {
   "cell_type": "code",
   "execution_count": 25,
   "id": "6dbfaa7d",
   "metadata": {},
   "outputs": [
    {
     "name": "stdout",
     "output_type": "stream",
     "text": [
      "12446\n",
      "16  1\n"
     ]
    }
   ],
   "source": [
    "n=int(input())\n",
    "ev=0\n",
    "od=0\n",
    "while n!=0 :\n",
    "    \n",
    "    r=n%10\n",
    "    n=n//10\n",
    "    \n",
    "    if r%2==0 :\n",
    "        ev=ev+r\n",
    "    else :\n",
    "        od=od+r\n",
    "        \n",
    "print(ev,\"\",od)"
   ]
  },
  {
   "cell_type": "code",
   "execution_count": 29,
   "id": "6d95ebcf",
   "metadata": {},
   "outputs": [
    {
     "name": "stdout",
     "output_type": "stream",
     "text": [
      "3\n"
     ]
    },
    {
     "ename": "TypeError",
     "evalue": "'int' object is not subscriptable",
     "output_type": "error",
     "traceback": [
      "\u001b[1;31m---------------------------------------------------------------------------\u001b[0m",
      "\u001b[1;31mTypeError\u001b[0m                                 Traceback (most recent call last)",
      "Input \u001b[1;32mIn [29]\u001b[0m, in \u001b[0;36m<cell line: 3>\u001b[1;34m()\u001b[0m\n\u001b[0;32m      1\u001b[0m n\u001b[38;5;241m=\u001b[39m\u001b[38;5;28mint\u001b[39m(\u001b[38;5;28minput\u001b[39m())\n\u001b[0;32m      2\u001b[0m i\u001b[38;5;241m=\u001b[39m\u001b[38;5;241m3\u001b[39m\n\u001b[1;32m----> 3\u001b[0m f\u001b[38;5;241m=\u001b[39m\u001b[43mf\u001b[49m\u001b[43m[\u001b[49m\u001b[38;5;241;43m6\u001b[39;49m\u001b[43m]\u001b[49m\n\u001b[0;32m      4\u001b[0m f[\u001b[38;5;241m1\u001b[39m]\u001b[38;5;241m=\u001b[39m\u001b[38;5;124m\"\u001b[39m\u001b[38;5;124m1\u001b[39m\u001b[38;5;124m\"\u001b[39m\n\u001b[0;32m      5\u001b[0m f[\u001b[38;5;241m2\u001b[39m]\u001b[38;5;241m=\u001b[39m\u001b[38;5;124m\"\u001b[39m\u001b[38;5;124m2\u001b[39m\u001b[38;5;124m\"\u001b[39m\n",
      "\u001b[1;31mTypeError\u001b[0m: 'int' object is not subscriptable"
     ]
    }
   ],
   "source": [
    "n=int(input())\n",
    "i=3\n",
    "f=f[6]\n",
    "f[1]=\"1\"\n",
    "f[2]=\"2\"\n",
    "while i<=n :\n",
    "    f[i]=f[i-1]+f[i-2]\n",
    "    i=i+1\n",
    "    \n",
    "print(f[n])    \n",
    "    \n",
    "    "
   ]
  }
 ],
 "metadata": {
  "kernelspec": {
   "display_name": "Python 3 (ipykernel)",
   "language": "python",
   "name": "python3"
  },
  "language_info": {
   "codemirror_mode": {
    "name": "ipython",
    "version": 3
   },
   "file_extension": ".py",
   "mimetype": "text/x-python",
   "name": "python",
   "nbconvert_exporter": "python",
   "pygments_lexer": "ipython3",
   "version": "3.9.12"
  }
 },
 "nbformat": 4,
 "nbformat_minor": 5
}
