{
 "cells": [
  {
   "cell_type": "code",
   "execution_count": null,
   "id": "5d729e0b",
   "metadata": {},
   "outputs": [],
   "source": [
    "def fact(a):\n",
    "    f=1\n",
    "    for i in range (1,a+1,1):\n",
    "        f=f*i\n",
    "    return f"
   ]
  },
  {
   "cell_type": "code",
   "execution_count": 17,
   "id": "616bdfef",
   "metadata": {},
   "outputs": [
    {
     "name": "stdout",
     "output_type": "stream",
     "text": [
      "5\n",
      "2\n",
      "10\n"
     ]
    }
   ],
   "source": [
    "n=int(input())\n",
    "r=int(input())\n",
    "n_f= fact (n)\n",
    "r_f=fact(r)\n",
    "n_r_f=fact(n-r)\n",
    "print(n_f//(r_f*n_r_f))"
   ]
  },
  {
   "cell_type": "code",
   "execution_count": 18,
   "id": "b332e9d0",
   "metadata": {},
   "outputs": [
    {
     "name": "stdout",
     "output_type": "stream",
     "text": [
      "12\n"
     ]
    }
   ],
   "source": [
    "a=14\n",
    "def f():\n",
    "    global a\n",
    "    a=12\n",
    "f()\n",
    "print(a)"
   ]
  }
 ],
 "metadata": {
  "kernelspec": {
   "display_name": "Python 3 (ipykernel)",
   "language": "python",
   "name": "python3"
  },
  "language_info": {
   "codemirror_mode": {
    "name": "ipython",
    "version": 3
   },
   "file_extension": ".py",
   "mimetype": "text/x-python",
   "name": "python",
   "nbconvert_exporter": "python",
   "pygments_lexer": "ipython3",
   "version": "3.9.12"
  }
 },
 "nbformat": 4,
 "nbformat_minor": 5
}
