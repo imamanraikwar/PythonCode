{
 "cells": [
  {
   "cell_type": "code",
   "execution_count": 11,
   "id": "a56c82f1",
   "metadata": {},
   "outputs": [
    {
     "name": "stdout",
     "output_type": "stream",
     "text": [
      "5\n",
      "2\n",
      "120\n",
      "2\n",
      "6\n",
      "10.0\n"
     ]
    }
   ],
   "source": [
    "n=int(input())\n",
    "r=int(input())\n",
    "n1=1\n",
    "r1=1\n",
    "nr=1\n",
    "for i in range(1,n+1,1):\n",
    "    n1=n1*i\n",
    "\n",
    "for j in range(1,r+1,1):\n",
    "    r1=r1*j\n",
    "\n",
    "for k in range(1,n-r+1,1):\n",
    "    nr=nr*k\n",
    "\n",
    "print((n1/(r1*nr)))"
   ]
  }
 ],
 "metadata": {
  "kernelspec": {
   "display_name": "Python 3 (ipykernel)",
   "language": "python",
   "name": "python3"
  },
  "language_info": {
   "codemirror_mode": {
    "name": "ipython",
    "version": 3
   },
   "file_extension": ".py",
   "mimetype": "text/x-python",
   "name": "python",
   "nbconvert_exporter": "python",
   "pygments_lexer": "ipython3",
   "version": "3.9.12"
  }
 },
 "nbformat": 4,
 "nbformat_minor": 5
}
