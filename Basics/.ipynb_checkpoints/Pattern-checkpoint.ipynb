{
 "cells": [
  {
   "cell_type": "markdown",
   "id": "d78bec9a",
   "metadata": {},
   "source": [
    "****\n",
    "****\n",
    "****\n",
    "****"
   ]
  },
  {
   "cell_type": "code",
   "execution_count": 5,
   "id": "892bdfe4",
   "metadata": {},
   "outputs": [
    {
     "name": "stdout",
     "output_type": "stream",
     "text": [
      "3\n",
      "***\n",
      "***\n",
      "***\n"
     ]
    }
   ],
   "source": [
    "n=int(input())\n",
    "i=1\n",
    "while i<=n :\n",
    "    j=1\n",
    "    while j<=n :\n",
    "        print(\"*\",end=\"\")\n",
    "        j=j+1\n",
    "    print(\"\")\n",
    "    i=i+1\n",
    "    \n"
   ]
  },
  {
   "cell_type": "markdown",
   "id": "d49e4c03",
   "metadata": {},
   "source": [
    "1111\n",
    "2222\n",
    "3333\n",
    "4444"
   ]
  },
  {
   "cell_type": "code",
   "execution_count": 11,
   "id": "ac297378",
   "metadata": {},
   "outputs": [
    {
     "name": "stdout",
     "output_type": "stream",
     "text": [
      "3\n",
      "111\n",
      "222\n",
      "333\n"
     ]
    }
   ],
   "source": [
    "n=int(input())\n",
    "i=1\n",
    "while i<=n :\n",
    "    j=1\n",
    "    while j<=n :\n",
    "        print(i,end=\"\")\n",
    "        j=j+1\n",
    "    print(\"\")\n",
    "    i=i+1"
   ]
  },
  {
   "cell_type": "markdown",
   "id": "5daefb8b",
   "metadata": {},
   "source": [
    "1234\n",
    "1234\n",
    "1234\n",
    "1234"
   ]
  },
  {
   "cell_type": "code",
   "execution_count": 14,
   "id": "97761cd9",
   "metadata": {},
   "outputs": [
    {
     "name": "stdout",
     "output_type": "stream",
     "text": [
      "4\n",
      "1234\n",
      "1234\n",
      "1234\n",
      "1234\n"
     ]
    }
   ],
   "source": [
    "n=int(input())\n",
    "i=1\n",
    "while i<=n :\n",
    "    j=1\n",
    "    while j<=n :\n",
    "        print(j,end=\"\")\n",
    "        j=j+1\n",
    "    print(\"\")\n",
    "    i=i+1"
   ]
  },
  {
   "cell_type": "markdown",
   "id": "6829657e",
   "metadata": {},
   "source": [
    "4321\n",
    "4321\n",
    "4321\n",
    "4321"
   ]
  },
  {
   "cell_type": "code",
   "execution_count": 17,
   "id": "a1694e33",
   "metadata": {},
   "outputs": [
    {
     "name": "stdout",
     "output_type": "stream",
     "text": [
      "4\n",
      "4321\n",
      "4321\n",
      "4321\n",
      "4321\n"
     ]
    }
   ],
   "source": [
    "n=int(input())\n",
    "i=1\n",
    "\n",
    "while i<=n :\n",
    "    j=n\n",
    "    while j>=1 :\n",
    "        print(j,end=\"\")\n",
    "        j=j-1\n",
    "    print(\"\")\n",
    "    i=i+1\n",
    "    "
   ]
  },
  {
   "cell_type": "markdown",
   "id": "6c8f3344",
   "metadata": {},
   "source": [
    "1\n",
    "12\n",
    "123\n",
    "1234"
   ]
  },
  {
   "cell_type": "code",
   "execution_count": 18,
   "id": "65f0c33b",
   "metadata": {},
   "outputs": [
    {
     "name": "stdout",
     "output_type": "stream",
     "text": [
      "4\n",
      "1\n",
      "12\n",
      "123\n",
      "1234\n"
     ]
    }
   ],
   "source": [
    "n=int(input())\n",
    "i=1\n",
    "\n",
    "while i<=n :\n",
    "    j=1\n",
    "    while j<=i :\n",
    "        print(j,end=\"\")\n",
    "        j=j+1\n",
    "    print(\"\")\n",
    "    i=i+1\n"
   ]
  },
  {
   "cell_type": "markdown",
   "id": "b253f850",
   "metadata": {},
   "source": [
    "1\n",
    "23\n",
    "345\n",
    "4567"
   ]
  },
  {
   "cell_type": "code",
   "execution_count": 19,
   "id": "52360635",
   "metadata": {},
   "outputs": [
    {
     "name": "stdout",
     "output_type": "stream",
     "text": [
      "4\n",
      "1\n",
      "23\n",
      "345\n",
      "4567\n"
     ]
    }
   ],
   "source": [
    "n=int(input())\n",
    "i=1\n",
    "while i<=n:\n",
    "    j=i\n",
    "    temp=1\n",
    "    while temp<=i :\n",
    "        print(j,end=\"\")\n",
    "        j=j+1\n",
    "        temp=temp+1\n",
    "    \n",
    "    print(\"\")\n",
    "    i=i+1\n",
    "\n",
    "\n"
   ]
  },
  {
   "cell_type": "markdown",
   "id": "6891d2cf",
   "metadata": {},
   "source": [
    "1\n",
    "23\n",
    "456\n",
    "78910"
   ]
  },
  {
   "cell_type": "code",
   "execution_count": 20,
   "id": "8168da8e",
   "metadata": {},
   "outputs": [
    {
     "name": "stdout",
     "output_type": "stream",
     "text": [
      "4\n",
      "1\n",
      "23\n",
      "456\n",
      "78910\n"
     ]
    }
   ],
   "source": [
    "n=int(input())\n",
    "i=1\n",
    "j=1\n",
    "while i<=n :\n",
    "    temp=1\n",
    "    while temp<=i :\n",
    "        print(j,end=\"\")\n",
    "        j=j+1\n",
    "        temp=temp+1\n",
    "    \n",
    "    \n",
    "    print(\"\")\n",
    "    i=i+1"
   ]
  },
  {
   "cell_type": "markdown",
   "id": "3548f8ed",
   "metadata": {},
   "source": [
    "ABCD\n",
    "ABCD\n",
    "ABCD\n",
    "ABCD"
   ]
  },
  {
   "cell_type": "code",
   "execution_count": 25,
   "id": "e0c2639c",
   "metadata": {},
   "outputs": [
    {
     "name": "stdout",
     "output_type": "stream",
     "text": [
      "4\n",
      "ABCD\n",
      "ABCD\n",
      "ABCD\n",
      "ABCD\n"
     ]
    }
   ],
   "source": [
    "n=int(input())\n",
    "i=1\n",
    "while i<=n :\n",
    "    x=ord('A')\n",
    "    j=x\n",
    "    temp=1\n",
    "    while temp<=n :\n",
    "        targetValue=x+temp-1\n",
    "     #   targetChar= chr(targetValue)\n",
    "        print(chr(targetValue),end=\"\")\n",
    "        temp=temp+1\n",
    "    \n",
    "    print(\"\")\n",
    "    i=i+1\n",
    "\n",
    "\n"
   ]
  },
  {
   "cell_type": "markdown",
   "id": "a108bd46",
   "metadata": {},
   "source": [
    "ABCD\n",
    "BCDE\n",
    "CDEF\n",
    "DEFG"
   ]
  },
  {
   "cell_type": "code",
   "execution_count": 27,
   "id": "8bd0505c",
   "metadata": {},
   "outputs": [
    {
     "name": "stdout",
     "output_type": "stream",
     "text": [
      "4\n",
      "ABCD\n",
      "BCDE\n",
      "CDEF\n",
      "DEFG\n"
     ]
    }
   ],
   "source": [
    "n=int(input())\n",
    "i=1\n",
    "\n",
    "while i<=n:\n",
    "    targetValue=ord('A')\n",
    "    temp=1\n",
    "    j=targetValue+i-1\n",
    "    while temp<=n:\n",
    "        \n",
    "        print(chr(j),end=\"\")\n",
    "        temp=temp+1\n",
    "        j=j+1\n",
    "            \n",
    "    print(\"\")\n",
    "    i=i+1"
   ]
  },
  {
   "cell_type": "markdown",
   "id": "f19105c0",
   "metadata": {},
   "source": [
    "****\n",
    "***\n",
    "**\n",
    "*"
   ]
  },
  {
   "cell_type": "code",
   "execution_count": 2,
   "id": "77f0fa93",
   "metadata": {},
   "outputs": [
    {
     "name": "stdout",
     "output_type": "stream",
     "text": [
      "5\n",
      "*****\n",
      "****\n",
      "***\n",
      "**\n",
      "*\n"
     ]
    }
   ],
   "source": [
    "n=int(input())\n",
    "\n",
    "i=1\n",
    "while i<=n:\n",
    "    j=1\n",
    "    while j<=n-i+1:\n",
    "        print(\"*\",end=\"\")\n",
    "        j=j+1\n",
    "    print(\"\")\n",
    "    i=i+1"
   ]
  },
  {
   "cell_type": "code",
   "execution_count": 4,
   "id": "05ab20d3",
   "metadata": {},
   "outputs": [
    {
     "name": "stdout",
     "output_type": "stream",
     "text": [
      "4\n",
      "4444\n",
      "333\n",
      "22\n",
      "1\n"
     ]
    }
   ],
   "source": [
    "n=int(input())\n",
    "i=n\n",
    "\n",
    "while i>=1:\n",
    "    j=1\n",
    "    while j<=i:\n",
    "        print(i,end=\"\")\n",
    "        j=j+1\n",
    "    print()\n",
    "    i=i-1"
   ]
  },
  {
   "cell_type": "code",
   "execution_count": 8,
   "id": "5c2c9d10",
   "metadata": {},
   "outputs": [
    {
     "name": "stdout",
     "output_type": "stream",
     "text": [
      "4\n",
      "   *\n",
      "  **\n",
      " ***\n",
      "****\n"
     ]
    }
   ],
   "source": [
    "n=int(input())\n",
    "i=n\n",
    "while i>=1:\n",
    "    j=1\n",
    "    while j<=n:\n",
    "        if(j>=i):\n",
    "            print(\"*\",end=\"\")\n",
    "        else: \n",
    "            print(\" \",end=\"\")\n",
    "        j=j+1\n",
    "    print(\"\")\n",
    "    i=i-1"
   ]
  },
  {
   "cell_type": "markdown",
   "id": "0f5987f3",
   "metadata": {},
   "source": [
    "   1\n",
    "  12\n",
    " 123\n",
    "1234"
   ]
  },
  {
   "cell_type": "code",
   "execution_count": 9,
   "id": "191cebf0",
   "metadata": {},
   "outputs": [
    {
     "name": "stdout",
     "output_type": "stream",
     "text": [
      "4\n",
      "   1\n",
      "  12\n",
      " 123\n",
      "1234\n"
     ]
    }
   ],
   "source": [
    "n=int(input())\n",
    "i=n\n",
    "\n",
    "while i>=1:\n",
    "    j=1\n",
    "    v=1\n",
    "    while j<=n:\n",
    "        if j>=i:\n",
    "            print(v,end=\"\")\n",
    "            v=v+1\n",
    "        else :\n",
    "            print(' ',end='')\n",
    "        j=j+1\n",
    "    print('')\n",
    "    i=i-1"
   ]
  },
  {
   "cell_type": "code",
   "execution_count": 12,
   "id": "f4e6cef6",
   "metadata": {},
   "outputs": [
    {
     "name": "stdout",
     "output_type": "stream",
     "text": [
      "4\n",
      "   1\n",
      "  12\n",
      " 123\n",
      "1234\n"
     ]
    }
   ],
   "source": [
    "n=int(input())\n",
    "i=1\n",
    "while i<=n:\n",
    "    j=1\n",
    "    \n",
    "    while j<=n-i:\n",
    "        print(' ',end='')\n",
    "        j=j+1\n",
    "    p=1\n",
    "    while p<=i:\n",
    "        print(p,end='')\n",
    "        p=p+1\n",
    "    print('')\n",
    "    i=i+1\n",
    "        "
   ]
  },
  {
   "cell_type": "markdown",
   "id": "7de5ea6e",
   "metadata": {},
   "source": [
    "   1\n",
    "  121\n",
    " 12321\n",
    "1234321 "
   ]
  },
  {
   "cell_type": "code",
   "execution_count": null,
   "id": "ec176f54",
   "metadata": {},
   "outputs": [],
   "source": [
    "n=int(input())\n",
    "\n",
    "i=n\n",
    "while i<=n:\n",
    "    j=i\n",
    "    while j<=n-1+i:\n",
    "        space=1\n",
    "        while space <=n-i:\n",
    "            print(' ',end='')\n",
    "            space=space+1\n",
    "            j=j+1\n",
    "        \n",
    "        while value<=i:\n",
    "            \n",
    "        \n",
    "        \n",
    "        j=j+1\n",
    "    print('')\n",
    "    i=i+1\n",
    "    "
   ]
  },
  {
   "cell_type": "code",
   "execution_count": 15,
   "id": "32b36f20",
   "metadata": {},
   "outputs": [
    {
     "name": "stdout",
     "output_type": "stream",
     "text": [
      "4\n",
      "   1\n",
      "  121\n",
      " 12321\n",
      "1234321\n"
     ]
    }
   ],
   "source": [
    "n=int(input())\n",
    "i=1\n",
    "\n",
    "while i<=n:\n",
    "    space=1\n",
    "    while space <=n-i:\n",
    "        print(' ',end='')\n",
    "        space=space+1\n",
    "    j=1   \n",
    "    while j<=i:\n",
    "        print(j,end='')\n",
    "        j=j+1\n",
    "    k=i-1   \n",
    "    while k>=1:\n",
    "        print(k,end='')\n",
    "        k=k-1\n",
    "    print('')\n",
    "    i=i+1"
   ]
  },
  {
   "cell_type": "raw",
   "id": "d73b5e29",
   "metadata": {},
   "source": [
    "   1\n",
    "  232\n",
    " 34543\n",
    "4567654"
   ]
  },
  {
   "cell_type": "code",
   "execution_count": null,
   "id": "680d8f90",
   "metadata": {},
   "outputs": [],
   "source": [
    "n=int(input())\n",
    "i=1\n",
    "\n",
    "while i <=n:\n",
    "    space=1\n",
    "    while space <=n-i :\n",
    "        print(' ',end='')\n",
    "        space=space+1\n",
    "        \n",
    "    j=1\n",
    "    p=i\n",
    "    while j<=i:\n",
    "        print(p,end='')\n",
    "        j=j+1\n",
    "        p=p+1\n",
    "    t=p-2   \n",
    "    while t>=i:\n",
    "        print(t,end='')\n",
    "        t=t-1\n",
    "        \n",
    "    print('')\n",
    "    i=i+1"
   ]
  },
  {
   "cell_type": "raw",
   "id": "75fa0391",
   "metadata": {},
   "source": [
    "  *\n",
    " ***\n",
    "*****\n",
    " ***\n",
    "  *"
   ]
  },
  {
   "cell_type": "code",
   "execution_count": 28,
   "id": "b7beda30",
   "metadata": {},
   "outputs": [
    {
     "name": "stdout",
     "output_type": "stream",
     "text": [
      "5\n",
      "  *\n",
      " ***\n",
      "*****\n",
      " ***\n",
      "  *\n"
     ]
    }
   ],
   "source": [
    "n=int(input())\n",
    "i=1\n",
    "r=int(n//2)\n",
    "u=r+1\n",
    "while i<=u:\n",
    "    space=1\n",
    "    while space<=u-i:\n",
    "        print(' ',end='')\n",
    "        space=space+1\n",
    "    j=1\n",
    "    while j<=i:\n",
    "        print(\"*\",end='')\n",
    "        j=j+1\n",
    "        \n",
    "    while j-2>=1:\n",
    "        print(\"*\",end='')\n",
    "        j=j-1\n",
    "    \n",
    "    print('')\n",
    "    i=i+1\n",
    "    \n",
    "i=1\n",
    "p=r\n",
    "while i<=r:\n",
    "    space=1\n",
    "    while space<=i:\n",
    "        print(' ',end='')\n",
    "        space=space+1\n",
    "        \n",
    "    j=1\n",
    "    \n",
    "    while j<=p:\n",
    "        print(\"*\",end='')\n",
    "        j=j+1\n",
    "        \n",
    "    while j-2>=1:\n",
    "        print(\"*\",end='')\n",
    "        j=j-1\n",
    "        \n",
    "    print('')\n",
    "    i=i+1\n",
    "    p=p-1\n",
    "    "
   ]
  },
  {
   "cell_type": "raw",
   "id": "b63564fa",
   "metadata": {},
   "source": [
    "1        1\n",
    "12      21\n",
    "123    321\n",
    "1234  4321\n",
    "1234554321"
   ]
  },
  {
   "cell_type": "code",
   "execution_count": 29,
   "id": "1ff3ddcd",
   "metadata": {},
   "outputs": [
    {
     "name": "stdout",
     "output_type": "stream",
     "text": [
      "5\n",
      "1        1\n",
      "12      21\n",
      "123    321\n",
      "1234  4321\n",
      "1234554321\n"
     ]
    }
   ],
   "source": [
    "n=int(input())\n",
    "i=1\n",
    "while i<=n:\n",
    "    j=1\n",
    "    while j<=i:\n",
    "        print(j,end='')\n",
    "        j=j+1\n",
    "        \n",
    "    space=1\n",
    "    \n",
    "    while space<=2*n-2*i:\n",
    "        print(' ',end='')\n",
    "        space=space+1\n",
    "        \n",
    "    j=j-1\n",
    "    while j>=1:\n",
    "        print(j,end='')\n",
    "        j=j-1\n",
    "         \n",
    "    print('')\n",
    "    i=i+1"
   ]
  },
  {
   "cell_type": "raw",
   "id": "9ee6ff21",
   "metadata": {},
   "source": [
    "*000*000*\n",
    "0*00*00*0\n",
    "00*0*0*00\n",
    "000***000"
   ]
  },
  {
   "cell_type": "code",
   "execution_count": 30,
   "id": "c8d098bd",
   "metadata": {},
   "outputs": [
    {
     "name": "stdout",
     "output_type": "stream",
     "text": [
      "5\n",
      "*0000*0000*\n",
      "0*000*000*0\n",
      "00*00*00*00\n",
      "000*0*0*000\n",
      "0000***0000\n"
     ]
    }
   ],
   "source": [
    "n=int(input())\n",
    "r=n*2+2\n",
    "i=1\n",
    "\n",
    "while i<=n:\n",
    "    j=1\n",
    "    while j<=(r-1):\n",
    "        if j==i or j==r/2 or j==r-i:\n",
    "            print(\"*\",end='')\n",
    "        else :\n",
    "            print(\"0\",end='')\n",
    "        \n",
    "        j=j+1\n",
    "            \n",
    "    print()\n",
    "    i=i+1\n",
    "        \n",
    "         "
   ]
  }
 ],
 "metadata": {
  "kernelspec": {
   "display_name": "Python 3 (ipykernel)",
   "language": "python",
   "name": "python3"
  },
  "language_info": {
   "codemirror_mode": {
    "name": "ipython",
    "version": 3
   },
   "file_extension": ".py",
   "mimetype": "text/x-python",
   "name": "python",
   "nbconvert_exporter": "python",
   "pygments_lexer": "ipython3",
   "version": "3.9.12"
  }
 },
 "nbformat": 4,
 "nbformat_minor": 5
}
