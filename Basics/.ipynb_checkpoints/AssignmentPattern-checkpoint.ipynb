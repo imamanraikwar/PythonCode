{
 "cells": [
  {
   "cell_type": "raw",
   "id": "2e9ebfc2",
   "metadata": {},
   "source": [
    "1\n",
    "11\n",
    "202\n",
    "3003\n",
    "40004\n"
   ]
  },
  {
   "cell_type": "code",
   "execution_count": 4,
   "id": "3ad38966",
   "metadata": {},
   "outputs": [
    {
     "name": "stdout",
     "output_type": "stream",
     "text": [
      "7\n",
      "1\n",
      "11\n",
      "202\n",
      "3003\n",
      "40004\n",
      "500005\n",
      "6000006\n"
     ]
    }
   ],
   "source": [
    "n=int(input())\n",
    "i=1\n",
    "j=1\n",
    "while i<=n:\n",
    "    k=1\n",
    "    while k<=i :\n",
    "        if k==1 or k==i :\n",
    "            print(j,end=\"\")\n",
    "            k=k+1\n",
    "        else :\n",
    "            print(\"0\",end=\"\")\n",
    "            k=k+1\n",
    "    print(\"\")\n",
    "    i=i+1\n",
    "    j=i-1\n",
    "    \n"
   ]
  },
  {
   "cell_type": "raw",
   "id": "4a915920",
   "metadata": {},
   "source": [
    "1\n",
    "11\n",
    "121\n",
    "1221"
   ]
  },
  {
   "cell_type": "code",
   "execution_count": 5,
   "id": "792af36b",
   "metadata": {},
   "outputs": [
    {
     "name": "stdout",
     "output_type": "stream",
     "text": [
      "4\n",
      "1\n",
      "11\n",
      "121\n",
      "1221\n"
     ]
    }
   ],
   "source": [
    "n=int(input())\n",
    "i=1\n",
    "\n",
    "while i<=n:\n",
    "    k=1\n",
    "    while k<=i :\n",
    "        if k==1 or k==i :\n",
    "            print(\"1\",end=\"\")\n",
    "            k=k+1\n",
    "        else :\n",
    "            print(\"2\",end=\"\")\n",
    "            k=k+1\n",
    "    print(\"\")\n",
    "    i=i+1"
   ]
  },
  {
   "cell_type": "raw",
   "id": "5acba70b",
   "metadata": {},
   "source": [
    "1234\n",
    "123\n",
    "12\n",
    "1"
   ]
  },
  {
   "cell_type": "code",
   "execution_count": 6,
   "id": "37810ea9",
   "metadata": {},
   "outputs": [
    {
     "name": "stdout",
     "output_type": "stream",
     "text": [
      "4\n",
      "1234\n",
      "123\n",
      "12\n",
      "1\n"
     ]
    }
   ],
   "source": [
    "n=int(input())\n",
    "i=n\n",
    "while i>=1:\n",
    "    j=1\n",
    "    \n",
    "    while j<=i:\n",
    "        print(j,end=\"\")\n",
    "        j=j+1\n",
    "    print(\"\")\n",
    "    i=i-1\n",
    "        \n",
    "\n"
   ]
  },
  {
   "cell_type": "code",
   "execution_count": null,
   "id": "f609aa43",
   "metadata": {},
   "outputs": [],
   "source": []
  }
 ],
 "metadata": {
  "kernelspec": {
   "display_name": "Python 3 (ipykernel)",
   "language": "python",
   "name": "python3"
  },
  "language_info": {
   "codemirror_mode": {
    "name": "ipython",
    "version": 3
   },
   "file_extension": ".py",
   "mimetype": "text/x-python",
   "name": "python",
   "nbconvert_exporter": "python",
   "pygments_lexer": "ipython3",
   "version": "3.9.12"
  }
 },
 "nbformat": 4,
 "nbformat_minor": 5
}
