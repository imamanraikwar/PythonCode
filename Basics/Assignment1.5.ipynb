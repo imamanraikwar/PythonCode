{
 "cells": [
  {
   "cell_type": "code",
   "execution_count": 9,
   "id": "86301237",
   "metadata": {},
   "outputs": [
    {
     "name": "stdout",
     "output_type": "stream",
     "text": [
      "0\n",
      "100\n",
      "20\n",
      "0 \t -17\n",
      "20 \t -6\n",
      "40 \t 4\n",
      "60 \t 15\n",
      "80 \t 26\n",
      "100 \t 37\n"
     ]
    }
   ],
   "source": [
    "def printTable(start,end,step):\n",
    "    for i in range(start,end+1,step):\n",
    "        c= int((i-32)*5/9)\n",
    "        print(i,\"\\t\", c)\n",
    "\n",
    "\t   \n",
    "s = int(input())\n",
    "e = int(input())\n",
    "step = int(input())\n",
    "printTable(s,e,step)"
   ]
  },
  {
   "cell_type": "code",
   "execution_count": 25,
   "id": "831b6499",
   "metadata": {},
   "outputs": [
    {
     "name": "stdout",
     "output_type": "stream",
     "text": [
      "8\n",
      "true\n"
     ]
    }
   ],
   "source": [
    "def checkMember(n):\n",
    "    f=0\n",
    "    s=1\n",
    "    sum=0\n",
    "    while sum<=n:\n",
    "        if sum==n:\n",
    "            return True \n",
    "        sum=f+s\n",
    "        f=s\n",
    "        s=sum\n",
    "\n",
    "n=int(input())\n",
    "if(checkMember(n)):\n",
    "    print(\"true\")\n",
    "else:\n",
    "    print(\"false\")"
   ]
  },
  {
   "cell_type": "code",
   "execution_count": 33,
   "id": "0c175769",
   "metadata": {},
   "outputs": [
    {
     "name": "stdout",
     "output_type": "stream",
     "text": [
      "1024\n",
      "4201\n",
      "false\n"
     ]
    }
   ],
   "source": [
    "def checkPalindrome(num):\n",
    "    rev=0\n",
    "    div=num\n",
    "    while div!=0:        \n",
    "        rev=rev*10+div%10\n",
    "        div=int(div/10)\n",
    "    print(rev)\n",
    "    if rev==num:\n",
    "        return True\n",
    "        \n",
    "num = int(input())\n",
    "isPalindrome = checkPalindrome(num)\n",
    "if(isPalindrome):\n",
    "\tprint('true')\n",
    "else:\n",
    "\tprint('false')\n"
   ]
  },
  {
   "cell_type": "code",
   "execution_count": 55,
   "id": "9e1d035e",
   "metadata": {},
   "outputs": [
    {
     "name": "stdout",
     "output_type": "stream",
     "text": [
      "1\n",
      "1\n",
      "true\n"
     ]
    }
   ],
   "source": [
    "def checkArmstrong(n):    \n",
    "    div=n\n",
    "    len=0\n",
    "    while div!=0:\n",
    "        div=int(div/10)\n",
    "        len=len+1\n",
    "        \n",
    "    div=n\n",
    "    sum=0\n",
    "    while div!=0:\n",
    "        r=div%10\n",
    "        div=int(div/10)\n",
    "        sum=sum+r**len\n",
    "    print(sum)    \n",
    "    if sum==n:\n",
    "        return True\n",
    "    \n",
    "    \n",
    "num=int(input())\n",
    "isArmstrong=checkArmstrong(num)\n",
    "if(isArmstrong):\n",
    "    print('true')\n",
    "else:\n",
    "    print('false')\n",
    "        "
   ]
  },
  {
   "cell_type": "code",
   "execution_count": 51,
   "id": "9eca3be2",
   "metadata": {},
   "outputs": [
    {
     "name": "stdout",
     "output_type": "stream",
     "text": [
      "27\n"
     ]
    }
   ],
   "source": [
    "s=3**3\n",
    "print(s)"
   ]
  }
 ],
 "metadata": {
  "kernelspec": {
   "display_name": "Python 3 (ipykernel)",
   "language": "python",
   "name": "python3"
  },
  "language_info": {
   "codemirror_mode": {
    "name": "ipython",
    "version": 3
   },
   "file_extension": ".py",
   "mimetype": "text/x-python",
   "name": "python",
   "nbconvert_exporter": "python",
   "pygments_lexer": "ipython3",
   "version": "3.9.12"
  }
 },
 "nbformat": 4,
 "nbformat_minor": 5
}
