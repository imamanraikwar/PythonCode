{
 "cells": [
  {
   "cell_type": "code",
   "execution_count": 2,
   "id": "fe005538",
   "metadata": {},
   "outputs": [
    {
     "name": "stdout",
     "output_type": "stream",
     "text": [
      "['abcd', 'def', 5]\n"
     ]
    }
   ],
   "source": [
    "li =[\"abcd\",\"def\"]\n",
    "li.insert(4,5)\n",
    "print(li)"
   ]
  },
  {
   "cell_type": "code",
   "execution_count": 4,
   "id": "49abc177",
   "metadata": {},
   "outputs": [
    {
     "name": "stdout",
     "output_type": "stream",
     "text": [
      "2 3 4 "
     ]
    }
   ],
   "source": [
    "li = [1,2,3,4,5]\n",
    "for i in li[1:4]:\n",
    "    print(i,end=\" \")"
   ]
  },
  {
   "cell_type": "code",
   "execution_count": 8,
   "id": "b1d483e8",
   "metadata": {},
   "outputs": [
    {
     "name": "stdout",
     "output_type": "stream",
     "text": [
      "3\n",
      "9 8 7\n",
      "[9, 8, 7]\n",
      "24\n"
     ]
    }
   ],
   "source": [
    "n=int(input())\n",
    "li=[int(x) for x in input().split()]\n",
    "print(li)\n",
    "sum=0\n",
    "for i in li:\n",
    "    sum=sum+i\n",
    "print(sum)"
   ]
  },
  {
   "cell_type": "code",
   "execution_count": 30,
   "id": "b3cf299f",
   "metadata": {},
   "outputs": [
    {
     "name": "stdout",
     "output_type": "stream",
     "text": [
      "[2, 3, 4]\n",
      "3\n"
     ]
    }
   ],
   "source": [
    "li2=[2,3,4]\n",
    "print(li2)\n",
    "print(len(li2))"
   ]
  },
  {
   "cell_type": "code",
   "execution_count": 31,
   "id": "1d5faa94",
   "metadata": {},
   "outputs": [
    {
     "name": "stdout",
     "output_type": "stream",
     "text": [
      "[1, 2, 3, 4, 5, 4, 5, 6, 7]\n",
      "[1, 2, 3, 5, 4, 5, 6, 7]\n",
      "[1, 2, 3, 5, 4, 5, 7]\n"
     ]
    }
   ],
   "source": [
    "list=[1,2,3,4,5,4,5,6,7]\n",
    "print(list)\n",
    "list.remove(4)\n",
    "print(list)\n",
    "list.remove(6)\n",
    "print(list)"
   ]
  },
  {
   "cell_type": "code",
   "execution_count": null,
   "id": "22e04e5d",
   "metadata": {},
   "outputs": [],
   "source": []
  }
 ],
 "metadata": {
  "kernelspec": {
   "display_name": "Python 3 (ipykernel)",
   "language": "python",
   "name": "python3"
  },
  "language_info": {
   "codemirror_mode": {
    "name": "ipython",
    "version": 3
   },
   "file_extension": ".py",
   "mimetype": "text/x-python",
   "name": "python",
   "nbconvert_exporter": "python",
   "pygments_lexer": "ipython3",
   "version": "3.9.12"
  }
 },
 "nbformat": 4,
 "nbformat_minor": 5
}
