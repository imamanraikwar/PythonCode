{
 "cells": [
  {
   "cell_type": "raw",
   "id": "be9f16bb",
   "metadata": {},
   "source": [
    " 1    2   3    4   5\n",
    " 11   12  13   14  15\n",
    " 21   22  23   24  25\n",
    " 16   17  18   19  20\n",
    " 6    7    8   9   10"
   ]
  },
  {
   "cell_type": "code",
   "execution_count": 47,
   "id": "096554d0",
   "metadata": {},
   "outputs": [
    {
     "name": "stdout",
     "output_type": "stream",
     "text": [
      "4\n",
      "1234\n",
      "9101112\n",
      "13141516\n",
      "5678\n"
     ]
    }
   ],
   "source": [
    "n=int(input())\n",
    "v=0\n",
    "if n%2==0:   \n",
    "    for i in range(1,n+1,1):\n",
    "        for j in range(1,n+1,1):\n",
    "            v=v+1\n",
    "            print(v,end='')\n",
    "        if i<(n//2):\n",
    "            v=v+n\n",
    "        elif i==(n//2):\n",
    "            v=v\n",
    "        else :\n",
    "            v=v-(3*n)\n",
    "        print()\n",
    "    \n",
    "else :\n",
    "    for i in range(1,n+1,1):\n",
    "        for j in range(1,n+1,1):\n",
    "            v=v+1\n",
    "            print(v,end='')\n",
    "        if i<=n//2:\n",
    "            v=v+n\n",
    "        elif i==(n//2)+1:\n",
    "            v=v-(2*n)\n",
    "        else :\n",
    "            v=v-(3*n)\n",
    "        print()\n",
    "        \n"
   ]
  },
  {
   "cell_type": "code",
   "execution_count": 46,
   "id": "797cd008",
   "metadata": {},
   "outputs": [
    {
     "name": "stdout",
     "output_type": "stream",
     "text": [
      "1234\n",
      "5678\n",
      "9101112\n",
      "13141516\n",
      "16\n"
     ]
    }
   ],
   "source": [
    "sum=0\n",
    "for i in range(1,5,1):\n",
    "    for j in range(1,5,1):\n",
    "        sum=sum+1\n",
    "        print(sum,end='')\n",
    "    print()\n",
    "print(sum)"
   ]
  },
  {
   "cell_type": "code",
   "execution_count": null,
   "id": "6229bd3d",
   "metadata": {},
   "outputs": [],
   "source": []
  },
  {
   "cell_type": "code",
   "execution_count": null,
   "id": "67406461",
   "metadata": {},
   "outputs": [],
   "source": []
  }
 ],
 "metadata": {
  "kernelspec": {
   "display_name": "Python 3 (ipykernel)",
   "language": "python",
   "name": "python3"
  },
  "language_info": {
   "codemirror_mode": {
    "name": "ipython",
    "version": 3
   },
   "file_extension": ".py",
   "mimetype": "text/x-python",
   "name": "python",
   "nbconvert_exporter": "python",
   "pygments_lexer": "ipython3",
   "version": "3.9.12"
  }
 },
 "nbformat": 4,
 "nbformat_minor": 5
}
