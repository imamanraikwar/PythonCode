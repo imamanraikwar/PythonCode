{
 "cells": [
  {
   "cell_type": "code",
   "execution_count": null,
   "id": "58b5224a",
   "metadata": {},
   "outputs": [],
   "source": [
    "n=int(input())\n",
    "d=2\n",
    "flag=False\n",
    "while d<n :\n",
    "    if(n%d==0) :\n",
    "        flag= True\n",
    "    d=d+1\n",
    "if flag :\n",
    "    print(\"Not Prime\")\n",
    "else :\n",
    "    print(\"Prime\")\n",
    "\n",
    "\n"
   ]
  },
  {
   "cell_type": "markdown",
   "id": "5480d253",
   "metadata": {},
   "source": [
    "## Prime Number using while loop"
   ]
  },
  {
   "cell_type": "code",
   "execution_count": null,
   "id": "7004e35f",
   "metadata": {},
   "outputs": [],
   "source": [
    "n=int(input())\n",
    "d=n/2\n",
    "a=2\n",
    "flag= False \n",
    "\n",
    "if n==1 :\n",
    "    print(\"Not a Prime Number\")\n",
    "elif n==2 or n==3 :\n",
    "    print(\"Prime Number\")\n",
    "else :\n",
    "    while a<=d :\n",
    "        if(n%a==0) :\n",
    "            flag= True\n",
    "            a=d+1\n",
    "        a=a+1\n",
    "    if flag:\n",
    "        print(\"Not a Prime Number\")\n",
    "    else :\n",
    "        print(\"A Prime Number\")\n",
    "\n"
   ]
  },
  {
   "cell_type": "code",
   "execution_count": null,
   "id": "654c688f",
   "metadata": {},
   "outputs": [
    {
     "name": "stdout",
     "output_type": "stream",
     "text": [
      "5\n"
     ]
    }
   ],
   "source": [
    "n=int(input())\n",
    "d=n/2\n",
    "a=2\n",
    "flag= False \n",
    "k=2\n",
    "\n",
    "if n==2 :\n",
    "    print(\"2\")\n",
    "elif n==3 :\n",
    "    print(\"2 3\")\n",
    "elif n>3 :\n",
    "    while k<=d :\n",
    "        while a<=k :\n",
    "            if(n%a==0) :\n",
    "                flag= True\n",
    "                a=k+1\n",
    "        if not(flag):\n",
    "            print(a)\n",
    "        a=a+1        \n",
    "        \n",
    "    k=k+1\n",
    "    \n",
    "    \n",
    "    \n"
   ]
  },
  {
   "cell_type": "code",
   "execution_count": null,
   "id": "993f8a19",
   "metadata": {},
   "outputs": [],
   "source": [
    "5"
   ]
  },
  {
   "cell_type": "code",
   "execution_count": null,
   "id": "c5cdc19e",
   "metadata": {},
   "outputs": [],
   "source": []
  }
 ],
 "metadata": {
  "kernelspec": {
   "display_name": "Python 3 (ipykernel)",
   "language": "python",
   "name": "python3"
  },
  "language_info": {
   "codemirror_mode": {
    "name": "ipython",
    "version": 3
   },
   "file_extension": ".py",
   "mimetype": "text/x-python",
   "name": "python",
   "nbconvert_exporter": "python",
   "pygments_lexer": "ipython3",
   "version": "3.9.12"
  }
 },
 "nbformat": 4,
 "nbformat_minor": 5
}
