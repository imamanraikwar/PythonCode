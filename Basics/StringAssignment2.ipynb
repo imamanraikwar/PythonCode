{
 "cells": [
  {
   "cell_type": "code",
   "execution_count": 32,
   "id": "c47649dd",
   "metadata": {},
   "outputs": [
    {
     "name": "stdout",
     "output_type": "stream",
     "text": [
      "True\n"
     ]
    }
   ],
   "source": [
    "string1 = 'bacde'\n",
    "string2 = 'bbbbb'\n",
    "string3=''\n",
    "for i in range(len(string2)):\n",
    "    \n",
    "    for j in range(len(string1)):\n",
    "        if string2[i]==string1[j]:\n",
    "            string3+= string1[j]\n",
    "            #print(string3)\n",
    "            \n",
    "if string3==string2:\n",
    "    print('True')\n",
    "else:\n",
    "    print('False')"
   ]
  },
  {
   "cell_type": "code",
   "execution_count": null,
   "id": "41130781",
   "metadata": {},
   "outputs": [],
   "source": []
  },
  {
   "cell_type": "code",
   "execution_count": null,
   "id": "1fe1bb9c",
   "metadata": {},
   "outputs": [],
   "source": [
    "n=0\n",
    "    str1=list()\n",
    "    str2=list()\n",
    "    for i in range(len(string1)):\n",
    "        str1.append(string1[i])\n",
    "        str2.append(string2[i])\n",
    "                \n",
    "    for i in range(len(str2)):\n",
    "        for j in range(n,len(str1)):\n",
    "            if str2[i]==str1[j]:\n",
    "                str1[n],str1[j] = str1[j],str1[n]\n",
    "                n=n+1\n",
    "                \n",
    "    if str1==str2:\n",
    "        return True\n",
    "    else:\n",
    "        return False \n",
    "            "
   ]
  },
  {
   "cell_type": "code",
   "execution_count": 26,
   "id": "93bcf0a3",
   "metadata": {},
   "outputs": [
    {
     "name": "stdout",
     "output_type": "stream",
     "text": [
      "{'a': 0, 'b': 0, 'c': 0, 'd': 0, 'e': 0, 'f': 0, 'g': 0, 'h': 0, 'i': 0, 'j': 0, 'k': 0, 'l': 0, 'm': 0, 'n': 0, 'o': 0, 'p': 0, 'q': 0, 'r': 0, 's': 0, 't': 0, 'u': 0, 'v': 0, 'w': 0, 'x': 0, 'y': 0, 'z': 0}\n",
      "False\n"
     ]
    }
   ],
   "source": [
    "alphabet = \"abcdefghijklmnopqrstuvwxyz\"\n",
    "s = 'aaaaabbbccd'\n",
    "k=0\n",
    "n=len(s)\n",
    "ans = \"\"\n",
    "freq_dict1 = { letter : 0 for letter in alphabet }\n",
    "freq_dict = { letter : 0 for letter in alphabet }\n",
    "print(freq_dict)\n",
    "for letter in s:\n",
    "    freq_dict[letter] += 1\n",
    "if freq_dict1==freq_dict:\n",
    "    print('True')\n",
    "else :\n",
    "    print('False')\n",
    "        "
   ]
  },
  {
   "cell_type": "code",
   "execution_count": null,
   "id": "62783cce",
   "metadata": {},
   "outputs": [],
   "source": []
  }
 ],
 "metadata": {
  "kernelspec": {
   "display_name": "Python 3 (ipykernel)",
   "language": "python",
   "name": "python3"
  },
  "language_info": {
   "codemirror_mode": {
    "name": "ipython",
    "version": 3
   },
   "file_extension": ".py",
   "mimetype": "text/x-python",
   "name": "python",
   "nbconvert_exporter": "python",
   "pygments_lexer": "ipython3",
   "version": "3.9.12"
  }
 },
 "nbformat": 4,
 "nbformat_minor": 5
}
