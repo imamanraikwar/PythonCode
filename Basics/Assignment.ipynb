{
 "cells": [
  {
   "cell_type": "raw",
   "id": "b874f83f",
   "metadata": {},
   "source": [
    "  *\n",
    " ***\n",
    "*****\n",
    " ***\n",
    "  *"
   ]
  },
  {
   "cell_type": "code",
   "execution_count": 26,
   "id": "680e1a38",
   "metadata": {},
   "outputs": [
    {
     "name": "stdout",
     "output_type": "stream",
     "text": [
      "9\n",
      "    *\n",
      "   ***\n",
      "  *****\n",
      " *******\n",
      "*********\n",
      " *******\n",
      "  *****\n",
      "   ***\n",
      "    *\n"
     ]
    }
   ],
   "source": [
    "n=int(input())\n",
    "i=1\n",
    "s=(n+1)/2\n",
    "while i<=s:\n",
    "    space=1\n",
    "    while space<=s-i:\n",
    "        print(' ',end='')\n",
    "        space=space+1\n",
    "        \n",
    "    j=1\n",
    "    while j<=2*i-1:\n",
    "        print('*',end='')\n",
    "        j=j+1\n",
    "        \n",
    "    print()\n",
    "    i=i+1\n",
    "\n",
    "i=s-1\n",
    "st=1\n",
    "while i>=1:\n",
    "    space=1\n",
    "    while space<=st:\n",
    "        print(' ',end='')\n",
    "        space=space+1\n",
    "        \n",
    "    j=1\n",
    "    t=2*i-1    \n",
    "    while j<=t:\n",
    "        print('*',end='')\n",
    "        j=j+1\n",
    "        \n",
    "    print()\n",
    "    i=i-1\n",
    "    st=st+1"
   ]
  },
  {
   "cell_type": "raw",
   "id": "6c994bae",
   "metadata": {},
   "source": [
    "4444444\n",
    "4333334\n",
    "4322234\n",
    "4321234\n",
    "4322234\n",
    "4333334  \n",
    "4444444"
   ]
  },
  {
   "cell_type": "code",
   "execution_count": 28,
   "id": "cbe2e1a9",
   "metadata": {},
   "outputs": [
    {
     "name": "stdout",
     "output_type": "stream",
     "text": [
      "4\n",
      "4444\n",
      "4333\n",
      "4322\n",
      "4321\n"
     ]
    }
   ],
   "source": [
    "n=int(input())\n",
    "i=1\n",
    "temp=n\n",
    "value=n\n",
    "while i<=n:\n",
    "    fh=1\n",
    "    value=n\n",
    "    while fh<=n:\n",
    "        print(value,end='')\n",
    "        if fh<i:\n",
    "            value=value-1\n",
    "        fh=fh+1\n",
    "\n",
    "while i<=n-1:\n",
    "    sh=1\n",
    "    value=n\n",
    "    \n",
    "    while sh<n:\n",
    "        print()\n",
    "    \n",
    "    \n",
    "    print()\n",
    "    i=i+1"
   ]
  },
  {
   "cell_type": "code",
   "execution_count": 29,
   "id": "8eed87aa",
   "metadata": {},
   "outputs": [
    {
     "name": "stdout",
     "output_type": "stream",
     "text": [
      "5\n",
      "555555555\n",
      "544444445\n",
      "543333345\n",
      "543222345\n",
      "543212345\n",
      "543222345\n",
      "543333345\n",
      "544444445\n",
      "555555555\n"
     ]
    }
   ],
   "source": [
    "n=int(input())\n",
    "\n",
    "MAX = 100\n",
    "  \n",
    "def prints(a, size):  \n",
    "    for i in range(size):  \n",
    "        for j in range(size): \n",
    "            print(a[i][j], end = '') \n",
    "        print() \n",
    "  \n",
    "def innerPattern(n):  \n",
    "\n",
    "    size = 2 * n - 1\n",
    "    front = 0\n",
    "    back = size - 1\n",
    "    a = [[0 for i in range(MAX)]   \n",
    "            for i in range(MAX)] \n",
    "    while (n != 0):  \n",
    "        for i in range(front, back + 1): \n",
    "            for j in range(front, back + 1): \n",
    "                if (i == front or i == back or\n",
    "                    j == front or j == back): \n",
    "                    a[i][j] = n \n",
    "        front += 1\n",
    "        back -= 1\n",
    "        n -= 1\n",
    "    prints(a, size);  \n",
    "\n",
    "innerPattern(n) "
   ]
  },
  {
   "cell_type": "code",
   "execution_count": null,
   "id": "2b89314a",
   "metadata": {},
   "outputs": [],
   "source": []
  },
  {
   "cell_type": "code",
   "execution_count": 30,
   "id": "da4db507",
   "metadata": {},
   "outputs": [
    {
     "name": "stdout",
     "output_type": "stream",
     "text": [
      "5\n",
      "555555555\n",
      "544444445\n",
      "543333345\n",
      "543222345\n",
      "543212345\n",
      "543222345\n",
      "543333345\n",
      "544444445\n",
      "555555555\n"
     ]
    }
   ],
   "source": [
    "n=int(input())\n",
    "answer=[['1']]\n",
    "for i in range(2, n+1):\n",
    "    #print(\"i= \"+str(i))\n",
    "    t=[str(i)]*((2*i)-3)\n",
    "    t2=[str(i)]*((2*i)-3)\n",
    "    answer.insert(0, t2)\n",
    "    answer.append(t)\n",
    "    for a in answer:\n",
    "        a.insert(0,str(i))\n",
    "        a.append(str(i))\n",
    "\n",
    "answerfinal=[]\n",
    "for a in answer:\n",
    "    answerfinal.append(\"\".join(a))\n",
    "for a in answerfinal:\n",
    "    print(a)\n",
    "    "
   ]
  },
  {
   "cell_type": "raw",
   "id": "493f62ed",
   "metadata": {},
   "source": [
    " 1    2   3    4   5     1  2  3  4\n",
    " 11   12  13   14  15    9 10 11 12\n",
    " 21   22  23   24  25    13 14 15 16\n",
    " 16   17  18   19  20    5  6  7  8 \n",
    " 6    7    8   9   10    "
   ]
  },
  {
   "cell_type": "code",
   "execution_count": 45,
   "id": "eb5fc136",
   "metadata": {},
   "outputs": [
    {
     "name": "stdout",
     "output_type": "stream",
     "text": [
      "7\n",
      "1 2 3 4 5 6 7 \n",
      "15 16 17 18 19 20 21 \n",
      "29 30 31 32 33 34 35 \n",
      "43 44 45 46 47 48 49 \n",
      "43 44 45 46 47 48 49 \n",
      "29 30 31 32 33 34 35 \n",
      "15 16 17 18 19 20 21 \n"
     ]
    }
   ],
   "source": [
    "n=int(input())\n",
    "value = 1\n",
    "temp= True\n",
    "for i in range(1,n+1,1):\n",
    "    if value<=n*n and temp:\n",
    "        for j in range(1,n+1,1):\n",
    "            print(value,end=' ')\n",
    "            value=value+1\n",
    "        value=value+n\n",
    "        print()\n",
    "    else: \n",
    "        if temp:\n",
    "            value=value-2*n\n",
    "            temp= False\n",
    "        for j in range(1,n+1,1):\n",
    "            print(value,end=' ')\n",
    "            value=value+1\n",
    "        value=value-3*n\n",
    "        print()\n",
    "\n",
    "        \n",
    "        \n",
    "        "
   ]
  }
 ],
 "metadata": {
  "kernelspec": {
   "display_name": "Python 3 (ipykernel)",
   "language": "python",
   "name": "python3"
  },
  "language_info": {
   "codemirror_mode": {
    "name": "ipython",
    "version": 3
   },
   "file_extension": ".py",
   "mimetype": "text/x-python",
   "name": "python",
   "nbconvert_exporter": "python",
   "pygments_lexer": "ipython3",
   "version": "3.9.12"
  }
 },
 "nbformat": 4,
 "nbformat_minor": 5
}
