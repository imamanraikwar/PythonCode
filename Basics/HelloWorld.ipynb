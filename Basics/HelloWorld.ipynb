{
 "cells": [
  {
   "cell_type": "markdown",
   "id": "00284bfc",
   "metadata": {},
   "source": [
    "## First Program"
   ]
  },
  {
   "cell_type": "code",
   "execution_count": 1,
   "id": "a5e6c2b0",
   "metadata": {},
   "outputs": [
    {
     "name": "stdout",
     "output_type": "stream",
     "text": [
      "Hello world\n"
     ]
    }
   ],
   "source": [
    "print(\"Hello world\")"
   ]
  },
  {
   "cell_type": "markdown",
   "id": "3c6d2da6",
   "metadata": {},
   "source": [
    "## Last line output"
   ]
  },
  {
   "cell_type": "code",
   "execution_count": 5,
   "id": "5e56240b",
   "metadata": {},
   "outputs": [
    {
     "name": "stdout",
     "output_type": "stream",
     "text": [
      "15\n"
     ]
    }
   ],
   "source": [
    "a=10\n",
    "b=5\n",
    "c=a+b\n",
    "print(c)"
   ]
  },
  {
   "cell_type": "code",
   "execution_count": 7,
   "id": "dabcb401",
   "metadata": {},
   "outputs": [
    {
     "name": "stdout",
     "output_type": "stream",
     "text": [
      "98555030096\n",
      "98555029936\n",
      "98555030256\n",
      "98555030256\n"
     ]
    }
   ],
   "source": [
    "d=15\n",
    "print(id(a))\n",
    "print(id(b))\n",
    "print(id(c))\n",
    "print(id(d))"
   ]
  },
  {
   "cell_type": "markdown",
   "id": "0c7d5fda",
   "metadata": {},
   "source": [
    "## Type of Data"
   ]
  },
  {
   "cell_type": "code",
   "execution_count": 15,
   "id": "ea68f7ed",
   "metadata": {},
   "outputs": [
    {
     "name": "stdout",
     "output_type": "stream",
     "text": [
      "Hello, World!\n",
      "HelloWorld\n",
      "<class 'int'>\n",
      "<class 'float'>\n",
      "<class 'complex'>\n",
      "<class 'str'>\n"
     ]
    }
   ],
   "source": [
    "greeting = \"Hello, World!\"\n",
    "gr=\"HelloWorld\"\n",
    "b=3.4\n",
    "c=3+4j\n",
    "print(greeting)\n",
    "print(gr)\n",
    "print(type(a))\n",
    "print(type(b))\n",
    "print(type(c))\n",
    "print(type(gr))"
   ]
  },
  {
   "cell_type": "markdown",
   "id": "af80314a",
   "metadata": {},
   "source": [
    "## Arthmetic Operations "
   ]
  },
  {
   "cell_type": "code",
   "execution_count": 25,
   "id": "851b1eb5",
   "metadata": {},
   "outputs": [
    {
     "name": "stdout",
     "output_type": "stream",
     "text": [
      "52\n",
      "52\n",
      "25\n",
      "7\n",
      "3\n",
      "10\n",
      "25\n",
      "2.5\n",
      "2\n",
      "1\n"
     ]
    }
   ],
   "source": [
    "f=\"5\"\n",
    "l=\"2\"\n",
    "c=f+l\n",
    "print(c)\n",
    "print(f+l)\n",
    "print(l+f)\n",
    "print(int(f)+int(l))\n",
    "print(int(f)-int(l))\n",
    "print(int(f)*int(l))\n",
    "print(int(f)**int(l))\n",
    "print(int(f)/int(l))\n",
    "print(int(f)//int(l))\n",
    "print(int(f)%int(l))"
   ]
  },
  {
   "cell_type": "markdown",
   "id": "ea1a934d",
   "metadata": {},
   "source": [
    "## User Input"
   ]
  },
  {
   "cell_type": "code",
   "execution_count": 26,
   "id": "38b99ea4",
   "metadata": {},
   "outputs": [
    {
     "name": "stdout",
     "output_type": "stream",
     "text": [
      "25\n",
      "25\n"
     ]
    }
   ],
   "source": [
    "print(input())"
   ]
  },
  {
   "cell_type": "code",
   "execution_count": 28,
   "id": "3f5d3ad9",
   "metadata": {},
   "outputs": [
    {
     "name": "stdout",
     "output_type": "stream",
     "text": [
      "B\n"
     ]
    }
   ],
   "source": [
    "if True or True:\n",
    "    if False and True or False:\n",
    "        print('A')\n",
    "    elif False and False or True and True:\n",
    "       print('B')\n",
    "    else:\n",
    "      print('C')\n",
    "else:\n",
    "     print('D')"
   ]
  },
  {
   "cell_type": "code",
   "execution_count": 2,
   "id": "a3a37408",
   "metadata": {},
   "outputs": [
    {
     "name": "stdout",
     "output_type": "stream",
     "text": [
      "5\n",
      "7\n"
     ]
    }
   ],
   "source": [
    "n=int(input())\n",
    "count=1\n",
    "sum=0\n",
    "while count<=n :\n",
    "    count=count+1\n",
    "    count=count+1\n",
    "    \n",
    "print(count)"
   ]
  },
  {
   "cell_type": "code",
   "execution_count": 44,
   "id": "ee8f32ba",
   "metadata": {},
   "outputs": [
    {
     "name": "stdout",
     "output_type": "stream",
     "text": [
      "6\n",
      "12\n"
     ]
    }
   ],
   "source": [
    "n=int(input())\n",
    "sum=0\n",
    "if(n%2==0):\n",
    "    while n>=2:\n",
    "        sum=sum+n\n",
    "        n=n-2\n",
    "else :\n",
    "    n=n-1\n",
    "    while n>=2:\n",
    "        sum=sum+n\n",
    "        n=n-2\n",
    "        \n",
    "        \n",
    "print(sum)"
   ]
  },
  {
   "cell_type": "code",
   "execution_count": null,
   "id": "043b52f0",
   "metadata": {},
   "outputs": [],
   "source": [
    "n=int(input())\n",
    "sum=0\n",
    "if(n%==0):\n",
    "    while n<="
   ]
  },
  {
   "cell_type": "code",
   "execution_count": null,
   "id": "68bebb13",
   "metadata": {},
   "outputs": [],
   "source": []
  },
  {
   "cell_type": "code",
   "execution_count": null,
   "id": "5f22521b",
   "metadata": {},
   "outputs": [],
   "source": []
  },
  {
   "cell_type": "code",
   "execution_count": null,
   "id": "9edec954",
   "metadata": {},
   "outputs": [],
   "source": []
  }
 ],
 "metadata": {
  "kernelspec": {
   "display_name": "Python 3 (ipykernel)",
   "language": "python",
   "name": "python3"
  },
  "language_info": {
   "codemirror_mode": {
    "name": "ipython",
    "version": 3
   },
   "file_extension": ".py",
   "mimetype": "text/x-python",
   "name": "python",
   "nbconvert_exporter": "python",
   "pygments_lexer": "ipython3",
   "version": "3.10.8"
  }
 },
 "nbformat": 4,
 "nbformat_minor": 5
}
