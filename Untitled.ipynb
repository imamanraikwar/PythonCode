{
 "cells": [
  {
   "cell_type": "code",
   "execution_count": 6,
   "id": "0c0912a7",
   "metadata": {},
   "outputs": [
    {
     "name": "stdout",
     "output_type": "stream",
     "text": [
      "DELHI , HARYANA\n"
     ]
    }
   ],
   "source": [
    "string = 'DHEALRHYIA#N#A'\n",
    "str1 = ''\n",
    "str2 = ''\n",
    "\n",
    "for i in range(0,len(string),2):\n",
    "    if string[i] != '#' :\n",
    "        str1 += string[i]\n",
    "    if string[i+1] != '#' :\n",
    "        str2 += string[i+1]\n",
    "print(str1,',',str2)\n",
    "    "
   ]
  },
  {
   "cell_type": "code",
   "execution_count": 8,
   "id": "d9b1d45b",
   "metadata": {},
   "outputs": [
    {
     "name": "stdout",
     "output_type": "stream",
     "text": [
      "DELHI , HARYANA\n"
     ]
    }
   ],
   "source": [
    "string = 'DHEALRHYIA#N#A'\n",
    "str1 = string[0::2]\n",
    "str2 = string[1::2]\n",
    "print(str1.strip('#'),',',str2.strip('#'))\n"
   ]
  },
  {
   "cell_type": "code",
   "execution_count": 2,
   "id": "42c0edfc",
   "metadata": {},
   "outputs": [
    {
     "name": "stdout",
     "output_type": "stream",
     "text": [
      "7\n",
      "1\n"
     ]
    }
   ],
   "source": [
    "arr = [1,2,3,4,5,6,7]\n",
    "print(max(arr))\n",
    "print(min(arr))"
   ]
  },
  {
   "cell_type": "code",
   "execution_count": 8,
   "id": "98a31ca5",
   "metadata": {},
   "outputs": [
    {
     "name": "stdout",
     "output_type": "stream",
     "text": [
      "07:05:45PM\n",
      "PM\n",
      "19\n",
      "19:05:45\n"
     ]
    }
   ],
   "source": [
    "#!/bin/python3\n",
    "\n",
    "import math\n",
    "import os\n",
    "import random\n",
    "import re\n",
    "import sys\n",
    "\n",
    "#\n",
    "# Complete the 'timeConversion' function below.\n",
    "#\n",
    "# The function is expected to return a STRING.\n",
    "# The function accepts STRING s as parameter.\n",
    "#\n",
    "\n",
    "def timeConversion(s):\n",
    "    # Write your code here\n",
    "    time =  s[8:10]\n",
    "    print(time)\n",
    "    if time == 'PM' :\n",
    "        if s[0:2] == 12:\n",
    "            return (s[:8])\n",
    "        else :\n",
    "            hh = int(12) + int(s[:2])\n",
    "            print(hh)\n",
    "            res = (str(hh) + s[2:8])\n",
    "            return ( res )\n",
    "    else :\n",
    "        if s[0:2] == 12 :\n",
    "            return ('00' + s[2:])\n",
    "        else :\n",
    "            return (s[:8])\n",
    "        \n",
    "\n",
    "\n",
    "\n",
    "\n",
    "s = input()\n",
    "\n",
    "result = timeConversion(s)\n",
    "\n",
    "print(result)\n"
   ]
  },
  {
   "cell_type": "code",
   "execution_count": null,
   "id": "43da23fe",
   "metadata": {},
   "outputs": [],
   "source": []
  }
 ],
 "metadata": {
  "hide_input": false,
  "kernelspec": {
   "display_name": "Python 3 (ipykernel)",
   "language": "python",
   "name": "python3"
  },
  "language_info": {
   "codemirror_mode": {
    "name": "ipython",
    "version": 3
   },
   "file_extension": ".py",
   "mimetype": "text/x-python",
   "name": "python",
   "nbconvert_exporter": "python",
   "pygments_lexer": "ipython3",
   "version": "3.9.12"
  }
 },
 "nbformat": 4,
 "nbformat_minor": 5
}
