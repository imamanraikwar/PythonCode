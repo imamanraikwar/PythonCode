{
 "cells": [
  {
   "cell_type": "code",
   "execution_count": 17,
   "id": "2e9a8581-2e7d-431c-9cde-fc401b641f0d",
   "metadata": {},
   "outputs": [
    {
     "name": "stdout",
     "output_type": "stream",
     "text": [
      "[[1, 2, 0], [3, 2, 1], [0, 0, 0], [0, 1, 5], [0, 0, 0], [1, 2, 3]]\n"
     ]
    }
   ],
   "source": [
    "arr1 = [[1,2,0] , [3,2,1] , [0,0,0]]\n",
    "arr2 = [[0,1,5] , [0,0,0] , [1,2,3]]\n",
    "\n",
    "print(arr1 + arr2)"
   ]
  },
  {
   "cell_type": "code",
   "execution_count": 24,
   "id": "f23b1d44-a529-43a1-8f78-8bb54a154d83",
   "metadata": {},
   "outputs": [],
   "source": [
    "from os import *\n",
    "from sys import *\n",
    "from collections import *\n",
    "from math import *\n",
    "\n",
    "from os import *\n",
    "from sys import *\n",
    "from collections import *\n",
    "from math import *\n",
    "\n",
    "from typing import List\n",
    "\n",
    "def setZeros(matrix: List[List[int]]) -> None:\n",
    "\t# Write your code here.\n",
    "    n = len(matrix)\n",
    "    m = len(matrix[0])\n",
    "    arr = [[' ' for j in range(m)] for i in range(n)]\n",
    "    count = -1\n",
    "    for x in matrix :\n",
    "        count += 1\n",
    "        for i in range(m):\n",
    "            if matrix[count][i] == 0 :\n",
    "                for j in range(m):\n",
    "                    arr[count][j] = 0\n",
    "                for j in range(n):\n",
    "                    arr[j][i] = 0\n",
    "                break \n",
    "    for i in range(n):\n",
    "        for j in range(m):\n",
    "            if arr[i][j] == 0:\n",
    "                matrix[i][j] = 0\n",
    "    return matrix \n",
    "     \n",
    "    pass"
   ]
  },
  {
   "cell_type": "code",
   "execution_count": 27,
   "id": "b387a4f4-d19e-4f09-a95a-b05fabb1e80a",
   "metadata": {},
   "outputs": [
    {
     "name": "stdout",
     "output_type": "stream",
     "text": [
      "[[0, 0, 0], [0, 2, 0], [0, 0, 0]]\n"
     ]
    }
   ],
   "source": [
    "arr1 = [[1,2,0], [1,2,4] , [0,2,1]]\n",
    "print(setZeros(arr1))"
   ]
  },
  {
   "cell_type": "code",
   "execution_count": 28,
   "id": "019d0b18-55b9-41a0-a329-4dd1e865e011",
   "metadata": {},
   "outputs": [
    {
     "name": "stdout",
     "output_type": "stream",
     "text": [
      "[[0, 0, 81, 24, 95], [0, 0, 0, 0, 0], [0, 0, 99, 16, 23], [0, 0, 0, 0, 0]]\n"
     ]
    }
   ],
   "source": [
    "arr2 = [[28, 4, 81 ,24, 95] ,[0, 53, 48, 39 ,35], [89 ,52, 99, 16, 23 ],[14, 0, 0 ,4, 16] ]\n",
    "print(setZeros(arr2))"
   ]
  },
  {
   "cell_type": "code",
   "execution_count": 11,
   "id": "6e89403c-2d5d-4c65-9ede-f878f34368c7",
   "metadata": {},
   "outputs": [
    {
     "name": "stdout",
     "output_type": "stream",
     "text": [
      "[1, 2, 3, 4, 6, 6]\n"
     ]
    }
   ],
   "source": [
    "\n",
    "\n",
    "def reverseArray(arr, m):\n",
    "    # Write your code here.\n",
    "    if len(arr) == 1 :\n",
    "        return arr\n",
    "    \n",
    "    ans = reverseArray(arr[m+1+1:],-1)\n",
    "    arr[m+1] = arr[-1]\n",
    "    m += 1\n",
    "    \n",
    "    return arr\n",
    "    \n",
    "    \n",
    "    \n",
    "    \n",
    "    \n",
    "arr = [1, 2, 3, 4, 5, 6]       \n",
    "ans = reverseArray(arr,3)\n",
    "print(ans)"
   ]
  },
  {
   "cell_type": "code",
   "execution_count": 13,
   "id": "3b8ab0bc-98ee-4b41-865b-0771962053e7",
   "metadata": {},
   "outputs": [
    {
     "name": "stdout",
     "output_type": "stream",
     "text": [
      "7 12 3 4 5 6\n"
     ]
    }
   ],
   "source": [
    "arr = [7, 12, 3, 4, 5, 6] \n",
    "#arr.sort()\n",
    "print(*arr)"
   ]
  },
  {
   "cell_type": "code",
   "execution_count": 8,
   "id": "6a2d1318-a3bb-4098-bd8a-f955fd548ab4",
   "metadata": {},
   "outputs": [],
   "source": [
    "class X: \n",
    "      def __init__(self):\n",
    "            self.value = 'x'\n",
    "class Y: \n",
    "      def __init__(self):\n",
    "            self.value = 'y'\n",
    "class Z:\n",
    "      def __init__(self):\n",
    "            self.value = 'z'\n",
    "class A(X,Y):\n",
    "      def __init__(self):\n",
    "            self.value = 'a'\n",
    "class B(Y,Z):\n",
    "      def __init__(self):\n",
    "            self.value = 'b'\n",
    "class C(B,A,Y):\n",
    "      def __init__(self):\n",
    "            self.value = 'c'\n",
    "      \n",
    "      def get_value(self):\n",
    "            print(self.value)"
   ]
  },
  {
   "cell_type": "code",
   "execution_count": 10,
   "id": "f79c52cd-6afd-4638-bc31-dfd38ccfae60",
   "metadata": {},
   "outputs": [
    {
     "name": "stdout",
     "output_type": "stream",
     "text": [
      "c\n"
     ]
    }
   ],
   "source": [
    "obj = C()\n",
    "obj.get_value()"
   ]
  },
  {
   "cell_type": "code",
   "execution_count": 13,
   "id": "4aa625ee-8caf-4c02-9981-214febe58cc5",
   "metadata": {},
   "outputs": [],
   "source": [
    "class X: \n",
    "      pass\n",
    "class Y: \n",
    "      pass\n",
    "class Z:\n",
    "      pass\n",
    "class A(X,Y):\n",
    "      pass\n",
    "class B(Y,Z):\n",
    "      pass\n",
    "class C(A,Y):\n",
    "      pass"
   ]
  },
  {
   "cell_type": "code",
   "execution_count": 14,
   "id": "4d1c7e76-eb25-46df-92a7-95347fd63475",
   "metadata": {},
   "outputs": [
    {
     "name": "stdout",
     "output_type": "stream",
     "text": [
      "[<class '__main__.C'>, <class '__main__.A'>, <class '__main__.X'>, <class '__main__.Y'>, <class 'object'>]\n"
     ]
    }
   ],
   "source": [
    "##print(C.__mro__)\n",
    "print(C.mro())"
   ]
  },
  {
   "cell_type": "code",
   "execution_count": 19,
   "id": "6db2a63a-925c-40c5-9912-c003af3ab053",
   "metadata": {},
   "outputs": [
    {
     "ename": "TypeError",
     "evalue": "'list' object is not callable",
     "output_type": "error",
     "traceback": [
      "\u001b[1;31m---------------------------------------------------------------------------\u001b[0m",
      "\u001b[1;31mTypeError\u001b[0m                                 Traceback (most recent call last)",
      "Input \u001b[1;32mIn [19]\u001b[0m, in \u001b[0;36m<cell line: 1>\u001b[1;34m()\u001b[0m\n\u001b[1;32m----> 1\u001b[0m x, n\u001b[38;5;241m=\u001b[39m\u001b[38;5;28mlist\u001b[39m(\u001b[38;5;28mint\u001b[39m(i) \u001b[38;5;28;01mfor\u001b[39;00m i \u001b[38;5;129;01min\u001b[39;00m \u001b[38;5;28;43minput\u001b[39;49m\u001b[43m(\u001b[49m\u001b[43m)\u001b[49m\u001b[38;5;241m.\u001b[39mstrip()\u001b[38;5;241m.\u001b[39msplit(\u001b[38;5;124m'\u001b[39m\u001b[38;5;124m \u001b[39m\u001b[38;5;124m'\u001b[39m))\n\u001b[0;32m      2\u001b[0m \u001b[38;5;28mprint\u001b[39m(x,n)\n",
      "\u001b[1;31mTypeError\u001b[0m: 'list' object is not callable"
     ]
    }
   ],
   "source": []
  },
  {
   "cell_type": "code",
   "execution_count": null,
   "id": "91966ba4-194a-4ae8-b52d-40abfb82059b",
   "metadata": {},
   "outputs": [],
   "source": []
  }
 ],
 "metadata": {
  "kernelspec": {
   "display_name": "Python 3 (ipykernel)",
   "language": "python",
   "name": "python3"
  },
  "language_info": {
   "codemirror_mode": {
    "name": "ipython",
    "version": 3
   },
   "file_extension": ".py",
   "mimetype": "text/x-python",
   "name": "python",
   "nbconvert_exporter": "python",
   "pygments_lexer": "ipython3",
   "version": "3.9.12"
  }
 },
 "nbformat": 4,
 "nbformat_minor": 5
}
